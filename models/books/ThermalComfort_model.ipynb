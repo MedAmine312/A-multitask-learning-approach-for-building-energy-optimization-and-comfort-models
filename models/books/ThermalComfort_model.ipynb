{
  "cells": [
    {
      "cell_type": "code",
      "execution_count": null,
      "metadata": {
        "id": "sFbVBvJjAfm4"
      },
      "outputs": [],
      "source": [
        "import math\n",
        "import seaborn as sns\n",
        "from google.colab import data_table\n",
        "import numpy as np \n",
        "import pandas as pd\n",
        "import matplotlib.pyplot as plt\n",
        "from datetime import datetime\n",
        "from imblearn.over_sampling import SMOTENC, SMOTE, RandomOverSampler\n",
        "\n",
        "from keras.utils.np_utils import to_categorical   \n",
        "from numpy import newaxis\n",
        "import pandas as pd # data processing, CSV file I/O (e.g. pd.read_csv)\n",
        "from keras.layers.core import Dense, Activation, Dropout\n",
        "from keras.layers import Dense, Input, LSTM, Dropout, Bidirectional, Embedding, Flatten\n",
        "from keras.models import Sequential\n",
        "from keras import optimizers\n",
        "from sklearn.preprocessing import MinMaxScaler\n",
        "\n",
        "from sklearn.gaussian_process import GaussianProcessRegressor\n",
        "from sklearn.linear_model import LinearRegression, BayesianRidge, LogisticRegression\n",
        "from sklearn.ensemble import RandomForestClassifier, BaggingClassifier\n",
        "from sklearn.neural_network import MLPClassifier\n",
        "from sklearn.naive_bayes import GaussianNB\n",
        "from sklearn.ensemble import BaggingClassifier\n",
        "from sklearn.neural_network import MLPRegressor\n",
        "from sklearn.metrics import r2_score, mean_squared_error, confusion_matrix, accuracy_score, f1_score\n",
        "from keras.optimizers import Adam\n",
        "import tensorflow as tf"
      ]
    },
    {
      "cell_type": "code",
      "execution_count": null,
      "metadata": {
        "id": "-FUA64M-5JuA"
      },
      "outputs": [],
      "source": [
        "from sklearn import preprocessing\n",
        "from sklearn.preprocessing import RobustScaler, MinMaxScaler, PolynomialFeatures, OneHotEncoder, StandardScaler\n",
        "from sklearn.model_selection import train_test_split"
      ]
    },
    {
      "cell_type": "code",
      "execution_count": null,
      "metadata": {
        "colab": {
          "base_uri": "https://localhost:8080/"
        },
        "id": "H7qSacIRBARz",
        "outputId": "dba850d6-6e45-4d06-dc3b-71c6bb655d5a"
      },
      "outputs": [
        {
          "name": "stdout",
          "output_type": "stream",
          "text": [
            "Mounted at /content/drive/\n"
          ]
        }
      ],
      "source": [
        "from google.colab import drive\n",
        "drive.mount('/content/drive/')"
      ]
    },
    {
      "cell_type": "markdown",
      "metadata": {
        "id": "xuMaqqxYQQnl"
      },
      "source": [
        "# Dataset Preparation"
      ]
    },
    {
      "cell_type": "markdown",
      "metadata": {
        "id": "pkTYZJoIhYiD"
      },
      "source": [
        "## Call Datasets"
      ]
    },
    {
      "cell_type": "code",
      "execution_count": null,
      "metadata": {
        "colab": {
          "base_uri": "https://localhost:8080/"
        },
        "id": "Gm_oj5ZzQRBJ",
        "outputId": "9acb9907-74de-4034-ea29-f0d3acf4e7c7"
      },
      "outputs": [
        {
          "name": "stdout",
          "output_type": "stream",
          "text": [
            "Original dataset shape Counter({0.0: 1959, -1.0: 1200, 1.0: 817, -2.0: 569, 2.0: 289})\n",
            "Original dataset shape Counter({2.0: 1959, 0.0: 1959, -1.0: 1200, 1.0: 817, -2.0: 569})\n"
          ]
        },
        {
          "name": "stderr",
          "output_type": "stream",
          "text": [
            "/usr/local/lib/python3.8/dist-packages/IPython/core/interactiveshell.py:3326: DtypeWarning: Columns (5,35,36) have mixed types.Specify dtype option on import or set low_memory=False.\n",
            "  exec(code_obj, self.user_global_ns, self.user_ns)\n"
          ]
        }
      ],
      "source": [
        "df_ashrae = pd.read_csv(\"/content/drive/MyDrive/WPI/Deep Learning/Project/db_measurements_v2.1.0.csv\")\n",
        "\n",
        "df_ashrae_mod = df_ashrae[['age', 'gender', 't_out', 'ta', 'rh', 'vel', 'tr', 'thermal_acceptability',\n",
        "                           'thermal_preference', 'thermal_comfort', 'met', 'clo', 'thermal_sensation']]\n",
        "\n",
        "columns = df_ashrae_mod.columns\n",
        "df_ashrae_mod = df_ashrae_mod.dropna().reset_index().drop('index', axis = 1)         \n",
        "\n",
        "#Making the range from [-3,3] to[2,2]\n",
        "df_ashrae_mod['thermal_sensation'] = df_ashrae_mod['thermal_sensation'].apply(lambda x: -2 if x <= -2 else x)\n",
        "df_ashrae_mod['thermal_sensation'] = df_ashrae_mod['thermal_sensation'].apply(lambda x: 2 if x >= 2 else x)\n",
        "#Rounding off the values to make it categorical in nature \n",
        "df_ashrae_mod['thermal_sensation'] = df_ashrae_mod['thermal_sensation'].apply(lambda x: np.round(x))\n",
        "df_ashrae_mod = df_ashrae_mod.round(3)\n",
        "\n",
        "# Sampling Minority Data\n",
        "\n",
        "X = df_ashrae_mod.drop(['thermal_sensation'], axis = 1)\n",
        "y = df_ashrae_mod[ 'thermal_sensation']\n",
        "\n",
        "X = pd.get_dummies(X, columns =['gender', 'thermal_acceptability' , 'thermal_preference'])\n",
        "X = X.values\n",
        "y = y.values\n",
        "sm = RandomOverSampler(sampling_strategy = 'minority', random_state=42)\n",
        "X_resampled, y_resampled = sm.fit_resample(X, y)\n",
        "\n",
        "from collections import Counter\n",
        "print('Original dataset shape %s' % Counter(y))\n",
        "print('Original dataset shape %s' % Counter(y_resampled))"
      ]
    },
    {
      "cell_type": "code",
      "execution_count": null,
      "metadata": {
        "colab": {
          "base_uri": "https://localhost:8080/",
          "height": 206
        },
        "id": "WkLY26NgF8L4",
        "outputId": "1635d59d-b047-46d3-d811-c29f11ae1a37"
      },
      "outputs": [
        {
          "data": {
            "text/html": [
              "\n",
              "  <div id=\"df-ae902cbb-7d50-41c0-a25f-202fdfca65ab\">\n",
              "    <div class=\"colab-df-container\">\n",
              "      <div>\n",
              "<style scoped>\n",
              "    .dataframe tbody tr th:only-of-type {\n",
              "        vertical-align: middle;\n",
              "    }\n",
              "\n",
              "    .dataframe tbody tr th {\n",
              "        vertical-align: top;\n",
              "    }\n",
              "\n",
              "    .dataframe thead th {\n",
              "        text-align: right;\n",
              "    }\n",
              "</style>\n",
              "<table border=\"1\" class=\"dataframe\">\n",
              "  <thead>\n",
              "    <tr style=\"text-align: right;\">\n",
              "      <th></th>\n",
              "      <th>age</th>\n",
              "      <th>gender</th>\n",
              "      <th>t_out</th>\n",
              "      <th>ta</th>\n",
              "      <th>rh</th>\n",
              "      <th>vel</th>\n",
              "      <th>tr</th>\n",
              "      <th>thermal_acceptability</th>\n",
              "      <th>thermal_preference</th>\n",
              "      <th>thermal_comfort</th>\n",
              "      <th>met</th>\n",
              "      <th>clo</th>\n",
              "      <th>thermal_sensation</th>\n",
              "    </tr>\n",
              "  </thead>\n",
              "  <tbody>\n",
              "    <tr>\n",
              "      <th>0</th>\n",
              "      <td>55.0</td>\n",
              "      <td>female</td>\n",
              "      <td>15.1</td>\n",
              "      <td>23.41</td>\n",
              "      <td>49.55</td>\n",
              "      <td>0.155</td>\n",
              "      <td>23.548</td>\n",
              "      <td>acceptable</td>\n",
              "      <td>cooler</td>\n",
              "      <td>5.0</td>\n",
              "      <td>1.379</td>\n",
              "      <td>0.49</td>\n",
              "      <td>-1.0</td>\n",
              "    </tr>\n",
              "    <tr>\n",
              "      <th>1</th>\n",
              "      <td>34.0</td>\n",
              "      <td>female</td>\n",
              "      <td>15.1</td>\n",
              "      <td>21.73</td>\n",
              "      <td>54.05</td>\n",
              "      <td>0.102</td>\n",
              "      <td>22.000</td>\n",
              "      <td>unacceptable</td>\n",
              "      <td>cooler</td>\n",
              "      <td>3.0</td>\n",
              "      <td>1.628</td>\n",
              "      <td>0.35</td>\n",
              "      <td>2.0</td>\n",
              "    </tr>\n",
              "    <tr>\n",
              "      <th>2</th>\n",
              "      <td>40.0</td>\n",
              "      <td>female</td>\n",
              "      <td>15.1</td>\n",
              "      <td>21.21</td>\n",
              "      <td>55.70</td>\n",
              "      <td>0.067</td>\n",
              "      <td>21.312</td>\n",
              "      <td>acceptable</td>\n",
              "      <td>no change</td>\n",
              "      <td>6.0</td>\n",
              "      <td>1.203</td>\n",
              "      <td>0.94</td>\n",
              "      <td>0.0</td>\n",
              "    </tr>\n",
              "    <tr>\n",
              "      <th>3</th>\n",
              "      <td>27.0</td>\n",
              "      <td>female</td>\n",
              "      <td>15.1</td>\n",
              "      <td>21.46</td>\n",
              "      <td>55.62</td>\n",
              "      <td>0.060</td>\n",
              "      <td>21.550</td>\n",
              "      <td>acceptable</td>\n",
              "      <td>no change</td>\n",
              "      <td>6.0</td>\n",
              "      <td>1.031</td>\n",
              "      <td>0.53</td>\n",
              "      <td>-1.0</td>\n",
              "    </tr>\n",
              "    <tr>\n",
              "      <th>4</th>\n",
              "      <td>31.0</td>\n",
              "      <td>female</td>\n",
              "      <td>15.1</td>\n",
              "      <td>22.23</td>\n",
              "      <td>52.57</td>\n",
              "      <td>0.106</td>\n",
              "      <td>22.328</td>\n",
              "      <td>acceptable</td>\n",
              "      <td>no change</td>\n",
              "      <td>5.0</td>\n",
              "      <td>1.688</td>\n",
              "      <td>0.72</td>\n",
              "      <td>1.0</td>\n",
              "    </tr>\n",
              "  </tbody>\n",
              "</table>\n",
              "</div>\n",
              "      <button class=\"colab-df-convert\" onclick=\"convertToInteractive('df-ae902cbb-7d50-41c0-a25f-202fdfca65ab')\"\n",
              "              title=\"Convert this dataframe to an interactive table.\"\n",
              "              style=\"display:none;\">\n",
              "        \n",
              "  <svg xmlns=\"http://www.w3.org/2000/svg\" height=\"24px\"viewBox=\"0 0 24 24\"\n",
              "       width=\"24px\">\n",
              "    <path d=\"M0 0h24v24H0V0z\" fill=\"none\"/>\n",
              "    <path d=\"M18.56 5.44l.94 2.06.94-2.06 2.06-.94-2.06-.94-.94-2.06-.94 2.06-2.06.94zm-11 1L8.5 8.5l.94-2.06 2.06-.94-2.06-.94L8.5 2.5l-.94 2.06-2.06.94zm10 10l.94 2.06.94-2.06 2.06-.94-2.06-.94-.94-2.06-.94 2.06-2.06.94z\"/><path d=\"M17.41 7.96l-1.37-1.37c-.4-.4-.92-.59-1.43-.59-.52 0-1.04.2-1.43.59L10.3 9.45l-7.72 7.72c-.78.78-.78 2.05 0 2.83L4 21.41c.39.39.9.59 1.41.59.51 0 1.02-.2 1.41-.59l7.78-7.78 2.81-2.81c.8-.78.8-2.07 0-2.86zM5.41 20L4 18.59l7.72-7.72 1.47 1.35L5.41 20z\"/>\n",
              "  </svg>\n",
              "      </button>\n",
              "      \n",
              "  <style>\n",
              "    .colab-df-container {\n",
              "      display:flex;\n",
              "      flex-wrap:wrap;\n",
              "      gap: 12px;\n",
              "    }\n",
              "\n",
              "    .colab-df-convert {\n",
              "      background-color: #E8F0FE;\n",
              "      border: none;\n",
              "      border-radius: 50%;\n",
              "      cursor: pointer;\n",
              "      display: none;\n",
              "      fill: #1967D2;\n",
              "      height: 32px;\n",
              "      padding: 0 0 0 0;\n",
              "      width: 32px;\n",
              "    }\n",
              "\n",
              "    .colab-df-convert:hover {\n",
              "      background-color: #E2EBFA;\n",
              "      box-shadow: 0px 1px 2px rgba(60, 64, 67, 0.3), 0px 1px 3px 1px rgba(60, 64, 67, 0.15);\n",
              "      fill: #174EA6;\n",
              "    }\n",
              "\n",
              "    [theme=dark] .colab-df-convert {\n",
              "      background-color: #3B4455;\n",
              "      fill: #D2E3FC;\n",
              "    }\n",
              "\n",
              "    [theme=dark] .colab-df-convert:hover {\n",
              "      background-color: #434B5C;\n",
              "      box-shadow: 0px 1px 3px 1px rgba(0, 0, 0, 0.15);\n",
              "      filter: drop-shadow(0px 1px 2px rgba(0, 0, 0, 0.3));\n",
              "      fill: #FFFFFF;\n",
              "    }\n",
              "  </style>\n",
              "\n",
              "      <script>\n",
              "        const buttonEl =\n",
              "          document.querySelector('#df-ae902cbb-7d50-41c0-a25f-202fdfca65ab button.colab-df-convert');\n",
              "        buttonEl.style.display =\n",
              "          google.colab.kernel.accessAllowed ? 'block' : 'none';\n",
              "\n",
              "        async function convertToInteractive(key) {\n",
              "          const element = document.querySelector('#df-ae902cbb-7d50-41c0-a25f-202fdfca65ab');\n",
              "          const dataTable =\n",
              "            await google.colab.kernel.invokeFunction('convertToInteractive',\n",
              "                                                     [key], {});\n",
              "          if (!dataTable) return;\n",
              "\n",
              "          const docLinkHtml = 'Like what you see? Visit the ' +\n",
              "            '<a target=\"_blank\" href=https://colab.research.google.com/notebooks/data_table.ipynb>data table notebook</a>'\n",
              "            + ' to learn more about interactive tables.';\n",
              "          element.innerHTML = '';\n",
              "          dataTable['output_type'] = 'display_data';\n",
              "          await google.colab.output.renderOutput(dataTable, element);\n",
              "          const docLink = document.createElement('div');\n",
              "          docLink.innerHTML = docLinkHtml;\n",
              "          element.appendChild(docLink);\n",
              "        }\n",
              "      </script>\n",
              "    </div>\n",
              "  </div>\n",
              "  "
            ],
            "text/plain": [
              "    age  gender  t_out     ta     rh    vel      tr thermal_acceptability  \\\n",
              "0  55.0  female   15.1  23.41  49.55  0.155  23.548            acceptable   \n",
              "1  34.0  female   15.1  21.73  54.05  0.102  22.000          unacceptable   \n",
              "2  40.0  female   15.1  21.21  55.70  0.067  21.312            acceptable   \n",
              "3  27.0  female   15.1  21.46  55.62  0.060  21.550            acceptable   \n",
              "4  31.0  female   15.1  22.23  52.57  0.106  22.328            acceptable   \n",
              "\n",
              "  thermal_preference  thermal_comfort    met   clo  thermal_sensation  \n",
              "0             cooler              5.0  1.379  0.49               -1.0  \n",
              "1             cooler              3.0  1.628  0.35                2.0  \n",
              "2          no change              6.0  1.203  0.94                0.0  \n",
              "3          no change              6.0  1.031  0.53               -1.0  \n",
              "4          no change              5.0  1.688  0.72                1.0  "
            ]
          },
          "execution_count": 5,
          "metadata": {},
          "output_type": "execute_result"
        }
      ],
      "source": [
        "df_ashrae_mod.head()"
      ]
    },
    {
      "cell_type": "markdown",
      "metadata": {
        "id": "wyA4yFRdhbm0"
      },
      "source": [
        "AV : Air Velocity OAT: Outdoor Air Temperature Gender RH: Relative Humidity Age IAT: Indoor Air Temperature MRT: Mean Radiant Temperature IRH: Indoor Relative Humidity CF: Clothing Insulation MR: Metabolic Rate"
      ]
    },
    {
      "cell_type": "markdown",
      "metadata": {
        "id": "oWkpuW8e0bhH"
      },
      "source": [
        "# Model Training"
      ]
    },
    {
      "cell_type": "markdown",
      "metadata": {
        "id": "iIE799s1y1NP"
      },
      "source": [
        "## Machine Learning Models"
      ]
    },
    {
      "cell_type": "code",
      "execution_count": null,
      "metadata": {
        "id": "Q-7_etSogR6d"
      },
      "outputs": [],
      "source": [
        "labels = ['very cold (-2)', 'cold (-1)', 'Neutral (0)', 'hot (1)', 'very hot (2)'] "
      ]
    },
    {
      "cell_type": "code",
      "execution_count": null,
      "metadata": {
        "colab": {
          "base_uri": "https://localhost:8080/"
        },
        "id": "8EdwOC2s9ooY",
        "outputId": "d7cc59f4-d19b-46d2-d2b7-4ad5d5a01be5"
      },
      "outputs": [
        {
          "name": "stderr",
          "output_type": "stream",
          "text": [
            "/usr/local/lib/python3.8/dist-packages/sklearn/linear_model/_logistic.py:814: ConvergenceWarning: lbfgs failed to converge (status=1):\n",
            "STOP: TOTAL NO. of ITERATIONS REACHED LIMIT.\n",
            "\n",
            "Increase the number of iterations (max_iter) or scale the data as shown in:\n",
            "    https://scikit-learn.org/stable/modules/preprocessing.html\n",
            "Please also refer to the documentation for alternative solver options:\n",
            "    https://scikit-learn.org/stable/modules/linear_model.html#logistic-regression\n",
            "  n_iter_i = _check_optimize_result(\n"
          ]
        },
        {
          "name": "stdout",
          "output_type": "stream",
          "text": [
            "Accuracy : 52.4212\n",
            "f1 score : 0.5242\n",
            "MSE score : 1.2975\n",
            "\n",
            "\n",
            "Without Resampling\n",
            "Accuracy : 50.2585\n",
            "f1 score : 0.5026\n",
            "MSE score : 0.7725\n"
          ]
        },
        {
          "name": "stderr",
          "output_type": "stream",
          "text": [
            "/usr/local/lib/python3.8/dist-packages/sklearn/linear_model/_logistic.py:814: ConvergenceWarning: lbfgs failed to converge (status=1):\n",
            "STOP: TOTAL NO. of ITERATIONS REACHED LIMIT.\n",
            "\n",
            "Increase the number of iterations (max_iter) or scale the data as shown in:\n",
            "    https://scikit-learn.org/stable/modules/preprocessing.html\n",
            "Please also refer to the documentation for alternative solver options:\n",
            "    https://scikit-learn.org/stable/modules/linear_model.html#logistic-regression\n",
            "  n_iter_i = _check_optimize_result(\n"
          ]
        }
      ],
      "source": [
        "# Logisitc Regression \n",
        "X_train, X_test, y_train, y_test = train_test_split(X_resampled, y_resampled, test_size=0.2, random_state=42)\n",
        "\n",
        "from sklearn.metrics import r2_score, mean_squared_error, confusion_matrix, accuracy_score\n",
        "\n",
        "lr_model = LogisticRegression()\n",
        "lr_model.fit(X_train, y_train)\n",
        "\n",
        "pred_lr = lr_model.predict(X_test)\n",
        "\n",
        "print('Accuracy : %.4f' % (accuracy_score(y_test, pred_lr)*100))\n",
        "print('f1 score : %.4f' % (f1_score(y_test, pred_lr, average='micro')))\n",
        "print('MSE score : %.4f' % (mean_squared_error(y_test, pred_lr)))\n",
        "\n",
        "\n",
        "X_train, X_test, y_train, y_test = train_test_split(X, y, test_size=0.2, random_state=42)\n",
        "\n",
        "\n",
        "lr_model = LogisticRegression()\n",
        "lr_model.fit(X_train, y_train)\n",
        "\n",
        "pred_lr = lr_model.predict(X_test)\n",
        "\n",
        "print('\\n')\n",
        "print('Without Resampling')\n",
        "print('Accuracy : %.4f' % (accuracy_score(y_test, pred_lr)*100))\n",
        "print('f1 score : %.4f' % (f1_score(y_test, pred_lr, average='micro')))\n",
        "print('MSE score : %.4f' % (mean_squared_error(y_test, pred_lr)))"
      ]
    },
    {
      "cell_type": "code",
      "execution_count": null,
      "metadata": {
        "colab": {
          "base_uri": "https://localhost:8080/",
          "height": 591
        },
        "id": "yqDaw2jMeCKj",
        "outputId": "aec016ac-c6c2-417c-db3b-377d1a1c6236"
      },
      "outputs": [
        {
          "data": {
            "text/plain": [
              "Text(0.5, 1.0, 'Confusion Matrix Thermal Sensation LR')"
            ]
          },
          "execution_count": 14,
          "metadata": {},
          "output_type": "execute_result"
        },
        {
          "data": {
            "image/png": "[encoded data removed]",
            "text/plain": [
              "<Figure size 720x720 with 2 Axes>"
            ]
          },
          "metadata": {
            "needs_background": "light"
          },
          "output_type": "display_data"
        }
      ],
      "source": [
        "from sklearn.metrics import confusion_matrix, ConfusionMatrixDisplay\n",
        "from sklearn.ensemble import RandomForestClassifier, BaggingClassifier\n",
        "\n",
        "confusion_Matrix = confusion_matrix(pred_lr, y_test)\n",
        "\n",
        "disp_train = ConfusionMatrixDisplay(confusion_matrix=confusion_Matrix, display_labels = labels)\n",
        "\n",
        "plt.rcParams[\"figure.figsize\"] = (10, 10)\n",
        "disp_train.plot()\n",
        "plt.title('Confusion Matrix Thermal Sensation LR')"
      ]
    },
    {
      "cell_type": "code",
      "execution_count": null,
      "metadata": {
        "colab": {
          "base_uri": "https://localhost:8080/"
        },
        "id": "upY948Sl0JjN",
        "outputId": "05bba02d-a746-443d-a5c2-c70565cd0aa3"
      },
      "outputs": [
        {
          "name": "stdout",
          "output_type": "stream",
          "text": [
            "With Resampling\n",
            "Score of Logistic Regression Model : 53.8048\n",
            "f1 score : 0.5380\n",
            "MSE score : 1.1729\n",
            "\n",
            "\n",
            "Without Resampling\n",
            "Score of Logistic Regression Model : 40.4343\n",
            "f1 score : 0.4043\n",
            "MSE score : 1.2327\n"
          ]
        }
      ],
      "source": [
        "# k Nearest Neighbour\n",
        "from sklearn.neighbors import KNeighborsClassifier\n",
        "\n",
        "X_train, X_test, y_train, y_test = train_test_split(X_resampled, y_resampled, test_size=0.2, random_state=42)\n",
        "\n",
        "knn_model = KNeighborsClassifier()\n",
        "knn_model.fit(X_train, y_train)\n",
        "pred_knn = knn_model.predict(X_test)\n",
        "\n",
        "print('With Resampling')\n",
        "print('Score of Logistic Regression Model : %.4f' % (knn_model.score(X_test, y_test)*100))\n",
        "print('f1 score : %.4f' % (f1_score(y_test, pred_knn, average='micro')))\n",
        "print('MSE score : %.4f' % (mean_squared_error(y_test, pred_knn)))\n",
        "\n",
        "\n",
        "\n",
        "\n",
        "X_train, X_test, y_train, y_test = train_test_split(X, y, test_size=0.2, random_state=42)\n",
        "\n",
        "knn_model = KNeighborsClassifier()\n",
        "knn_model.fit(X_train, y_train)\n",
        "pred_knn = knn_model.predict(X_test)\n",
        "\n",
        "print('\\n')\n",
        "print('Without Resampling')\n",
        "print('Score of Logistic Regression Model : %.4f' % (knn_model.score(X_test, y_test)*100))\n",
        "print('f1 score : %.4f' % (f1_score(y_test, pred_knn, average='micro')))\n",
        "print('MSE score : %.4f' % (mean_squared_error(y_test, pred_knn)))"
      ]
    },
    {
      "cell_type": "code",
      "execution_count": null,
      "metadata": {
        "colab": {
          "base_uri": "https://localhost:8080/",
          "height": 591
        },
        "id": "c9MWx-8aesy8",
        "outputId": "5e5c4f2d-1386-4e36-99cf-6915b649cac4"
      },
      "outputs": [
        {
          "data": {
            "text/plain": [
              "Text(0.5, 1.0, 'Confusion Matrix Thermal Sensation kNN')"
            ]
          },
          "execution_count": 17,
          "metadata": {},
          "output_type": "execute_result"
        },
        {
          "data": {
            "image/png": "[encoded data removed]",
            "text/plain": [
              "<Figure size 720x720 with 2 Axes>"
            ]
          },
          "metadata": {
            "needs_background": "light"
          },
          "output_type": "display_data"
        }
      ],
      "source": [
        "confusion_Matrix = confusion_matrix(pred_knn, y_test)\n",
        "\n",
        "disp_train = ConfusionMatrixDisplay(confusion_matrix=confusion_Matrix, display_labels = labels)\n",
        "\n",
        "plt.rcParams[\"figure.figsize\"] = (10, 10)\n",
        "disp_train.plot()\n",
        "plt.title('Confusion Matrix Thermal Sensation kNN')"
      ]
    },
    {
      "cell_type": "code",
      "execution_count": null,
      "metadata": {
        "colab": {
          "base_uri": "https://localhost:8080/"
        },
        "id": "zGgbVMbRu_kz",
        "outputId": "3561dda8-b2cb-48aa-cdf8-0a097ad51bd4"
      },
      "outputs": [
        {
          "name": "stdout",
          "output_type": "stream",
          "text": [
            "With Resampling\n",
            "Score of Logistic Regression Model : 68.8701\n",
            "f1 score : 0.6887\n",
            "MSE score : 0.4374\n",
            "\n",
            " Without Resampling\n",
            "Score of Logistic Regression Model : 55.0155\n",
            "f1 score : 0.5502\n",
            "MSE score : 0.6660\n"
          ]
        }
      ],
      "source": [
        "from sklearn.metrics import confusion_matrix, ConfusionMatrixDisplay\n",
        "from sklearn.ensemble import RandomForestClassifier, BaggingClassifier\n",
        "\n",
        "# Random Forest Classifier\n",
        "X_train, X_test, y_train, y_test = train_test_split(X_resampled, y_resampled, test_size=0.2, random_state=42)\n",
        "\n",
        "clf = RandomForestClassifier(n_estimators = 540) # ideally the number of estimators in a random forest algorithm should be 10 x number of features\n",
        "clf.fit(X_train, y_train)\n",
        "pred_rf = clf.predict(X_test)\n",
        "MSE = mean_squared_error(y_test, pred_rf)\n",
        "# r2 = r2_score(pred_rf, y_test['Thermal comfort'])\n",
        "\n",
        "print('With Resampling')\n",
        "print('Score of Logistic Regression Model : %.4f' % (clf.score(X_test, y_test)*100))\n",
        "print('f1 score : %.4f' % (f1_score(y_test, pred_rf, average='micro')))\n",
        "print('MSE score : %.4f' % (mean_squared_error(y_test, pred_rf)))\n",
        "\n",
        "\n",
        "X_train, X_test, y_train, y_test = train_test_split(X, y, test_size=0.2, random_state=42)\n",
        "\n",
        "clf = RandomForestClassifier(n_estimators = 540) # ideally the number of estimators in a random forest algorithm should be 10 x number of features\n",
        "clf.fit(X_train, y_train)\n",
        "pred_rf = clf.predict(X_test)\n",
        "MSE = mean_squared_error(y_test, pred_rf)\n",
        "# r2 = r2_score(pred_rf, y_test['Thermal comfort'])\n",
        "\n",
        "print('\\n Without Resampling')\n",
        "print('Score of Logistic Regression Model : %.4f' % (clf.score(X_test, y_test)*100))\n",
        "print('f1 score : %.4f' % (f1_score(y_test, pred_rf, average='micro')))\n",
        "print('MSE score : %.4f' % (mean_squared_error(y_test, pred_rf)))"
      ]
    },
    {
      "cell_type": "code",
      "execution_count": null,
      "metadata": {
        "colab": {
          "base_uri": "https://localhost:8080/",
          "height": 597
        },
        "id": "rMVptbiUgLMF",
        "outputId": "db892db8-8f92-4a4a-f910-9bfbe1dd537e"
      },
      "outputs": [
        {
          "data": {
            "text/plain": [
              "Text(0.5, 1.0, 'Confusion Matrix Thermal Sensation kNN')"
            ]
          },
          "execution_count": 108,
          "metadata": {},
          "output_type": "execute_result"
        },
        {
          "data": {
            "image/png": "[encoded data removed]",
            "text/plain": [
              "<Figure size 720x720 with 2 Axes>"
            ]
          },
          "metadata": {
            "needs_background": "light"
          },
          "output_type": "display_data"
        }
      ],
      "source": [
        "confusion_Matrix = confusion_matrix(pred_knn, pred_rf)\n",
        "\n",
        "disp_train = ConfusionMatrixDisplay(confusion_matrix=confusion_Matrix)\n",
        "\n",
        "plt.rcParams[\"figure.figsize\"] = (10, 10)\n",
        "disp_train.plot()\n",
        "plt.title('Confusion Matrix Thermal Sensation kNN')"
      ]
    },
    {
      "cell_type": "code",
      "execution_count": null,
      "metadata": {
        "id": "OkRNzXXv0607"
      },
      "outputs": [],
      "source": [
        "def Bagging_Classifier(nbr_est):\n",
        "  clf = BaggingClassifier(n_estimators= nbr_est)\n",
        "  clf.fit(X_train, y_train)\n",
        "  pred = clf.predict(X_test)\n",
        "  accuracy = accuracy_score(y_test, pred)*100\n",
        "\n",
        "  return accuracy\n",
        "  # print(f'Accuracy for activation for number of estimator  : %.4f' % accuracy)\n",
        "\n",
        "X_train, X_test, y_train, y_test = train_test_split(X, y, test_size=0.2, random_state=42)\n",
        "Bagging_Accuracy = []\n",
        "nbr_ests = np.arange(1,100,15)\n",
        "\n",
        "print(' Without Resampling \\n')\n",
        "for nbr_est in nbr_ests:\n",
        "  accuracy = Bagging_Classifier(nbr_est)\n",
        "  Bagging_Accuracy.append(accuracy)\n",
        "  print(f'Accuracy for {nbr_est} : %.4f' % (accuracy_score(y_test, pred_rf)*100))\n",
        "\n",
        "\n",
        "X_train, X_test, y_train, y_test = train_test_split(X_resampled, y_resampled, test_size=0.2, random_state=42)\n",
        "Bagging_Accuracy = []\n",
        "\n",
        "print(' \\n With Resampling \\n')\n",
        "for nbr_est in nbr_ests:\n",
        "  accuracy = Bagging_Classifier(nbr_est)\n",
        "  Bagging_Accuracy.append(accuracy)\n",
        "  print(f'Accuracy for {nbr_est} : %.4f' % (accuracy_score(y_test, pred_rf)*100))"
      ]
    },
    {
      "cell_type": "code",
      "execution_count": null,
      "metadata": {
        "id": "_briswRXzqas"
      },
      "outputs": [],
      "source": [
        "# Support Vector Machine\n",
        "\n",
        "from sklearn.svm import SVC\n",
        "from sklearn.svm import LinearSVC, SVC\n",
        "\n",
        "svm = SVC()\n",
        "svm.fit(X_train, y_train)\n",
        "\n",
        "print(svm.score(X_train, y_train))\n",
        "print(svm.score(X_test, y_test))"
      ]
    },
    {
      "cell_type": "code",
      "execution_count": null,
      "metadata": {
        "id": "Mklkpz7vzysX"
      },
      "outputs": [],
      "source": [
        "# Bayesian regression\n",
        "\n",
        "from sklearn.metrics import r2_score\n",
        "\n",
        "def Bayes_reg(X_train, y_train,X_test, y_test):\n",
        "\n",
        "\n",
        "  model = GaussianNB().fit(X_train, y_train)\n",
        "  y_pred = model.predict(X_test)\n",
        "  MSE = mean_squared_error(y_test, y_pred)\n",
        "  RMSE = np.sqrt(MSE)\n",
        "  r2 = r2_score(y_pred, y_test)\n",
        "\n",
        "  sigma = model.sigma_\n",
        "  \n",
        "  print(\"RMSE Bayesian Regression = = %.3f \" %RMSE, '\\n' )\n",
        "  print(\"r2 Score Bayesian Regression = %.3f \" %r2, '% \\n' )\n",
        "  print('Accuracy : %.4f' % (accuracy_score(y_test, y_pred)*100))\n",
        "  print('f1 score : %.4f' % (f1_score(y_test, pred_rf, average='micro')))\n",
        "\n",
        "\n",
        "  return model\n",
        "\n",
        "model = Bayes_reg(X_train, y_train, X_test, y_test)"
      ]
    },
    {
      "cell_type": "code",
      "execution_count": null,
      "metadata": {
        "id": "MAd9NyNLzsgG"
      },
      "outputs": [],
      "source": []
    },
    {
      "cell_type": "markdown",
      "metadata": {
        "id": "DD7_ZPQ8zYgT"
      },
      "source": [
        "## Deep Learning Models"
      ]
    },
    {
      "cell_type": "markdown",
      "metadata": {
        "id": "FU-YnV96vfpk"
      },
      "source": [
        "### Data Deep Learning Mohamed"
      ]
    },
    {
      "cell_type": "markdown",
      "metadata": {
        "id": "rTvWAoA0vX_6"
      },
      "source": [
        "### Data Trout Jaime"
      ]
    },
    {
      "cell_type": "code",
      "execution_count": null,
      "metadata": {
        "colab": {
          "base_uri": "https://localhost:8080/"
        },
        "id": "tqy1gjbvvu4k",
        "outputId": "e02728ac-7492-430a-902d-eae6f86695aa"
      },
      "outputs": [
        {
          "name": "stderr",
          "output_type": "stream",
          "text": [
            "/usr/local/lib/python3.8/dist-packages/IPython/core/interactiveshell.py:3326: DtypeWarning: Columns (5,35,36) have mixed types.Specify dtype option on import or set low_memory=False.\n",
            "  exec(code_obj, self.user_global_ns, self.user_ns)\n",
            "<ipython-input-3-9978c5cf6f3f>:7: FutureWarning: Dropping of nuisance columns in DataFrame reductions (with 'numeric_only=None') is deprecated; in a future version this will raise TypeError.  Select only valid columns before calling the reduction.\n",
            "  df_ashrae_mod = df_ashrae_mod.fillna(df_ashrae_mod.mean())\n"
          ]
        }
      ],
      "source": [
        "df_ashrae = pd.read_csv(\"/content/drive/MyDrive/WPI/Deep Learning/Project/db_measurements_v2.1.0.csv\")\n",
        "\n",
        "df_ashrae_mod = df_ashrae[['age', 'gender', 't_out', 'rh_out', 'ta', 'rh', 'vel', 'tr',  'thermal_sensation', \n",
        "                         'thermal_acceptability', 'thermal_preference', 'thermal_comfort', 'met', 'clo']]\n",
        "\n",
        "df_ashrae_mod = df_ashrae_mod.dropna(subset=['thermal_sensation'])\n",
        "df_ashrae_mod = df_ashrae_mod.fillna(df_ashrae_mod.mean())\n",
        "\n",
        "#Making the range from [-3,3] to[2,2]\n",
        "df_ashrae_mod['thermal_sensation'] = df_ashrae_mod['thermal_sensation'].apply(lambda x: -2 if x <= -2 else x)\n",
        "df_ashrae_mod['thermal_sensation'] = df_ashrae_mod['thermal_sensation'].apply(lambda x: 2 if x >= 2 else x)\n",
        "#Rounding off the values to make it categorical in nature \n",
        "df_ashrae_mod['thermal_sensation'] = df_ashrae_mod['thermal_sensation'].apply(lambda x: np.round(x))"
      ]
    },
    {
      "cell_type": "code",
      "execution_count": null,
      "metadata": {
        "colab": {
          "base_uri": "https://localhost:8080/"
        },
        "id": "pxtMg2jDgn0c",
        "outputId": "d76e1884-c61e-4e8a-8f1d-2e3789a94f69"
      },
      "outputs": [
        {
          "name": "stdout",
          "output_type": "stream",
          "text": [
            "Found GPU at: /device:GPU:0\n"
          ]
        }
      ],
      "source": [
        "import tensorflow as tf\n",
        "device_name = tf.test.gpu_device_name()\n",
        "if device_name != '/device:GPU:0':\n",
        "  raise SystemError('GPU device not found')\n",
        "print('Found GPU at: {}'.format(device_name))"
      ]
    },
    {
      "cell_type": "code",
      "execution_count": null,
      "metadata": {
        "id": "15iwvrE_BO0s"
      },
      "outputs": [],
      "source": [
        "df = df_ashrae_mod.copy()\n",
        "df = pd.get_dummies(df, columns =['gender', 'thermal_acceptability' , 'thermal_preference'])\n",
        "\n",
        "train, validation, test = np.split(df.sample(frac=1), [int(.6*len(df)), int(.8*len(df))])\n",
        "\n",
        "X_train = train.drop(['thermal_sensation'], axis = 1)\n",
        "y_train = train[ 'thermal_sensation']\n",
        "\n",
        "X_valid = validation.drop(['thermal_sensation'], axis = 1)\n",
        "y_valid = validation[ 'thermal_sensation']\n",
        "\n",
        "X_test = test.drop(['thermal_sensation'], axis = 1)\n",
        "y_test = test[ 'thermal_sensation']"
      ]
    },
    {
      "cell_type": "code",
      "execution_count": null,
      "metadata": {
        "id": "LtuUz4Sw36hz"
      },
      "outputs": [],
      "source": [
        "from tensorflow.keras import backend as K\n",
        "\n",
        "def recall_m(y_true, y_pred):\n",
        "    true_positives = K.sum(K.round(K.clip(y_true * y_pred, 0, 1)))\n",
        "    possible_positives = K.sum(K.round(K.clip(y_true, 0, 1)))\n",
        "    recall = true_positives / (possible_positives + K.epsilon())\n",
        "    return recall\n",
        "\n",
        "def precision_m(y_true, y_pred):\n",
        "    true_positives = K.sum(K.round(K.clip(y_true * y_pred, 0, 1)))\n",
        "    predicted_positives = K.sum(K.round(K.clip(y_pred, 0, 1)))\n",
        "    precision = true_positives / (predicted_positives + K.epsilon())\n",
        "    return precision\n",
        "\n",
        "def f1_m(y_true, y_pred):\n",
        "    precision = precision_m(y_true, y_pred)\n",
        "    recall = recall_m(y_true, y_pred)\n",
        "    return 2*((precision*recall)/(precision+recall+K.epsilon()))"
      ]
    },
    {
      "cell_type": "code",
      "execution_count": null,
      "metadata": {
        "id": "3uGb5sLU3R_h"
      },
      "outputs": [],
      "source": [
        "y_train=np.asarray(y_train ,dtype=int)\n",
        "y_test = np.asarray(y_test ,dtype=int)\n",
        "y_valid = np.asarray(y_valid ,dtype=int)\n",
        "y_train = to_categorical(y_train, num_classes=5)\n",
        "y_test = to_categorical(y_test, num_classes=5)\n",
        "y_valid = to_categorical(y_valid, num_classes=5)"
      ]
    },
    {
      "cell_type": "markdown",
      "metadata": {
        "id": "noSfW4ExxbEh"
      },
      "source": [
        "### Jaime MLP"
      ]
    },
    {
      "cell_type": "code",
      "execution_count": null,
      "metadata": {
        "colab": {
          "base_uri": "https://localhost:8080/"
        },
        "id": "lI3or3luxaeX",
        "outputId": "4f1934cd-d2a9-477c-cd82-4ced3f2b68c5"
      },
      "outputs": [
        {
          "name": "stdout",
          "output_type": "stream",
          "text": [
            "Epoch 1/100\n",
            "996/996 [==============================] - 103s 102ms/step - loss: 1.3140 - accuracy: 0.4645 - val_loss: 1.1891 - val_accuracy: 0.5157\n",
            "Epoch 2/100\n",
            "996/996 [==============================] - 5s 5ms/step - loss: 1.1590 - accuracy: 0.5317 - val_loss: 1.1379 - val_accuracy: 0.5473\n",
            "Epoch 3/100\n",
            "996/996 [==============================] - 5s 5ms/step - loss: 1.1381 - accuracy: 0.5468 - val_loss: 1.1319 - val_accuracy: 0.5550\n",
            "Epoch 4/100\n",
            "996/996 [==============================] - 4s 5ms/step - loss: 1.1234 - accuracy: 0.5535 - val_loss: 1.1289 - val_accuracy: 0.5552\n",
            "Epoch 5/100\n",
            "996/996 [==============================] - 4s 4ms/step - loss: 1.1144 - accuracy: 0.5588 - val_loss: 1.0997 - val_accuracy: 0.5677\n",
            "Epoch 6/100\n",
            "996/996 [==============================] - 5s 5ms/step - loss: 1.1049 - accuracy: 0.5614 - val_loss: 1.0902 - val_accuracy: 0.5705\n",
            "Epoch 7/100\n",
            "996/996 [==============================] - 5s 5ms/step - loss: 1.0979 - accuracy: 0.5652 - val_loss: 1.0937 - val_accuracy: 0.5713\n",
            "Epoch 8/100\n",
            "996/996 [==============================] - 5s 5ms/step - loss: 1.0916 - accuracy: 0.5662 - val_loss: 1.1035 - val_accuracy: 0.5663\n",
            "Epoch 9/100\n",
            "996/996 [==============================] - 5s 5ms/step - loss: 1.0875 - accuracy: 0.5685 - val_loss: 1.1209 - val_accuracy: 0.5620\n",
            "Epoch 10/100\n",
            "996/996 [==============================] - 5s 5ms/step - loss: 1.0805 - accuracy: 0.5689 - val_loss: 1.0995 - val_accuracy: 0.5716\n",
            "Epoch 11/100\n",
            "996/996 [==============================] - 4s 4ms/step - loss: 1.0753 - accuracy: 0.5720 - val_loss: 1.1076 - val_accuracy: 0.5597\n",
            "Epoch 12/100\n",
            "996/996 [==============================] - 5s 5ms/step - loss: 1.0717 - accuracy: 0.5732 - val_loss: 1.0847 - val_accuracy: 0.5766\n",
            "Epoch 13/100\n",
            "996/996 [==============================] - 5s 5ms/step - loss: 1.0691 - accuracy: 0.5749 - val_loss: 1.0735 - val_accuracy: 0.5751\n",
            "Epoch 14/100\n",
            "996/996 [==============================] - 5s 5ms/step - loss: 1.0635 - accuracy: 0.5757 - val_loss: 1.0651 - val_accuracy: 0.5817\n",
            "Epoch 15/100\n",
            "996/996 [==============================] - 5s 5ms/step - loss: 1.0605 - accuracy: 0.5781 - val_loss: 1.0635 - val_accuracy: 0.5810\n",
            "Epoch 16/100\n",
            "996/996 [==============================] - 5s 5ms/step - loss: 1.0579 - accuracy: 0.5789 - val_loss: 1.0702 - val_accuracy: 0.5820\n",
            "Epoch 17/100\n",
            "996/996 [==============================] - 5s 5ms/step - loss: 1.0545 - accuracy: 0.5815 - val_loss: 1.0594 - val_accuracy: 0.5867\n",
            "Epoch 18/100\n",
            "996/996 [==============================] - 5s 5ms/step - loss: 1.0522 - accuracy: 0.5825 - val_loss: 1.0771 - val_accuracy: 0.5717\n",
            "Epoch 19/100\n",
            "996/996 [==============================] - 5s 5ms/step - loss: 1.0484 - accuracy: 0.5812 - val_loss: 1.0678 - val_accuracy: 0.5804\n",
            "Epoch 20/100\n",
            "996/996 [==============================] - 5s 5ms/step - loss: 1.0455 - accuracy: 0.5822 - val_loss: 1.0619 - val_accuracy: 0.5845\n",
            "Epoch 21/100\n",
            "996/996 [==============================] - 4s 4ms/step - loss: 1.0441 - accuracy: 0.5818 - val_loss: 1.0780 - val_accuracy: 0.5717\n",
            "Epoch 22/100\n",
            "996/996 [==============================] - 5s 5ms/step - loss: 1.0406 - accuracy: 0.5847 - val_loss: 1.0541 - val_accuracy: 0.5851\n",
            "Epoch 23/100\n",
            "996/996 [==============================] - 4s 4ms/step - loss: 1.0377 - accuracy: 0.5856 - val_loss: 1.0514 - val_accuracy: 0.5826\n",
            "Epoch 24/100\n",
            "996/996 [==============================] - 5s 5ms/step - loss: 1.0362 - accuracy: 0.5862 - val_loss: 1.0507 - val_accuracy: 0.5846\n",
            "Epoch 25/100\n",
            "996/996 [==============================] - 5s 5ms/step - loss: 1.0312 - accuracy: 0.5873 - val_loss: 1.0441 - val_accuracy: 0.5867\n",
            "Epoch 26/100\n",
            "996/996 [==============================] - 5s 5ms/step - loss: 1.0299 - accuracy: 0.5871 - val_loss: 1.0517 - val_accuracy: 0.5874\n",
            "Epoch 27/100\n",
            "996/996 [==============================] - 4s 5ms/step - loss: 1.0276 - accuracy: 0.5892 - val_loss: 1.0539 - val_accuracy: 0.5803\n",
            "Epoch 28/100\n",
            "996/996 [==============================] - 5s 5ms/step - loss: 1.0268 - accuracy: 0.5896 - val_loss: 1.0381 - val_accuracy: 0.5857\n",
            "Epoch 29/100\n",
            "996/996 [==============================] - 4s 5ms/step - loss: 1.0227 - accuracy: 0.5909 - val_loss: 1.0496 - val_accuracy: 0.5885\n",
            "Epoch 30/100\n",
            "996/996 [==============================] - 4s 4ms/step - loss: 1.0225 - accuracy: 0.5903 - val_loss: 1.0454 - val_accuracy: 0.5909\n",
            "Epoch 31/100\n",
            "996/996 [==============================] - 4s 4ms/step - loss: 1.0178 - accuracy: 0.5916 - val_loss: 1.0356 - val_accuracy: 0.5900\n",
            "Epoch 32/100\n",
            "996/996 [==============================] - 5s 5ms/step - loss: 1.0147 - accuracy: 0.5928 - val_loss: 1.0395 - val_accuracy: 0.5888\n",
            "Epoch 33/100\n",
            "996/996 [==============================] - 5s 5ms/step - loss: 1.0136 - accuracy: 0.5933 - val_loss: 1.0427 - val_accuracy: 0.5875\n",
            "Epoch 34/100\n",
            "996/996 [==============================] - 5s 5ms/step - loss: 1.0119 - accuracy: 0.5939 - val_loss: 1.0366 - val_accuracy: 0.5929\n",
            "Epoch 35/100\n",
            "996/996 [==============================] - 4s 5ms/step - loss: 1.0098 - accuracy: 0.5943 - val_loss: 1.0434 - val_accuracy: 0.5888\n",
            "Epoch 36/100\n",
            "996/996 [==============================] - 5s 5ms/step - loss: 1.0074 - accuracy: 0.5956 - val_loss: 1.0460 - val_accuracy: 0.5889\n",
            "Epoch 37/100\n",
            "996/996 [==============================] - 5s 5ms/step - loss: 1.0075 - accuracy: 0.5954 - val_loss: 1.0464 - val_accuracy: 0.5889\n",
            "Epoch 38/100\n",
            "996/996 [==============================] - 5s 5ms/step - loss: 1.0029 - accuracy: 0.5958 - val_loss: 1.0302 - val_accuracy: 0.5951\n",
            "Epoch 39/100\n",
            "996/996 [==============================] - 5s 5ms/step - loss: 1.0026 - accuracy: 0.5960 - val_loss: 1.0440 - val_accuracy: 0.5908\n",
            "Epoch 40/100\n",
            "996/996 [==============================] - 5s 5ms/step - loss: 1.0031 - accuracy: 0.5966 - val_loss: 1.0333 - val_accuracy: 0.5956\n",
            "Epoch 41/100\n",
            "996/996 [==============================] - 5s 5ms/step - loss: 0.9993 - accuracy: 0.5988 - val_loss: 1.0324 - val_accuracy: 0.5956\n",
            "Epoch 42/100\n",
            "996/996 [==============================] - 5s 5ms/step - loss: 0.9959 - accuracy: 0.6000 - val_loss: 1.0310 - val_accuracy: 0.5953\n",
            "Epoch 43/100\n",
            "996/996 [==============================] - 5s 5ms/step - loss: 0.9987 - accuracy: 0.5980 - val_loss: 1.0351 - val_accuracy: 0.5938\n",
            "Epoch 44/100\n",
            "996/996 [==============================] - 4s 4ms/step - loss: 0.9951 - accuracy: 0.6005 - val_loss: 1.0349 - val_accuracy: 0.5940\n",
            "Epoch 45/100\n",
            "996/996 [==============================] - 5s 5ms/step - loss: 0.9906 - accuracy: 0.6018 - val_loss: 1.0319 - val_accuracy: 0.5937\n",
            "Epoch 46/100\n",
            "996/996 [==============================] - 5s 5ms/step - loss: 0.9913 - accuracy: 0.6017 - val_loss: 1.0344 - val_accuracy: 0.5871\n",
            "Epoch 47/100\n",
            "996/996 [==============================] - 5s 5ms/step - loss: 0.9883 - accuracy: 0.6019 - val_loss: 1.0301 - val_accuracy: 0.5929\n",
            "Epoch 48/100\n",
            "996/996 [==============================] - 5s 5ms/step - loss: 0.9876 - accuracy: 0.6032 - val_loss: 1.0390 - val_accuracy: 0.5924\n",
            "Epoch 49/100\n",
            "996/996 [==============================] - 5s 5ms/step - loss: 0.9848 - accuracy: 0.6030 - val_loss: 1.0279 - val_accuracy: 0.5945\n",
            "Epoch 50/100\n",
            "996/996 [==============================] - 5s 5ms/step - loss: 0.9824 - accuracy: 0.6052 - val_loss: 1.0298 - val_accuracy: 0.5940\n",
            "Epoch 51/100\n",
            "996/996 [==============================] - 5s 5ms/step - loss: 0.9806 - accuracy: 0.6045 - val_loss: 1.0279 - val_accuracy: 0.5953\n",
            "Epoch 52/100\n",
            "996/996 [==============================] - 5s 5ms/step - loss: 0.9796 - accuracy: 0.6064 - val_loss: 1.0328 - val_accuracy: 0.5963\n",
            "Epoch 53/100\n",
            "996/996 [==============================] - 5s 5ms/step - loss: 0.9797 - accuracy: 0.6064 - val_loss: 1.0320 - val_accuracy: 0.5911\n",
            "Epoch 54/100\n",
            "996/996 [==============================] - 5s 5ms/step - loss: 0.9759 - accuracy: 0.6080 - val_loss: 1.0238 - val_accuracy: 0.5977\n",
            "Epoch 55/100\n",
            "996/996 [==============================] - 5s 5ms/step - loss: 0.9766 - accuracy: 0.6072 - val_loss: 1.0407 - val_accuracy: 0.5917\n",
            "Epoch 56/100\n",
            "996/996 [==============================] - 5s 5ms/step - loss: 0.9738 - accuracy: 0.6076 - val_loss: 1.0243 - val_accuracy: 0.5982\n",
            "Epoch 57/100\n",
            "996/996 [==============================] - 5s 5ms/step - loss: 0.9714 - accuracy: 0.6095 - val_loss: 1.0384 - val_accuracy: 0.5898\n",
            "Epoch 58/100\n",
            "996/996 [==============================] - 5s 5ms/step - loss: 0.9709 - accuracy: 0.6099 - val_loss: 1.0223 - val_accuracy: 0.5973\n",
            "Epoch 59/100\n",
            "996/996 [==============================] - 5s 5ms/step - loss: 0.9684 - accuracy: 0.6083 - val_loss: 1.0248 - val_accuracy: 0.5968\n",
            "Epoch 60/100\n",
            "996/996 [==============================] - 5s 5ms/step - loss: 0.9656 - accuracy: 0.6129 - val_loss: 1.0270 - val_accuracy: 0.5975\n",
            "Epoch 61/100\n",
            "996/996 [==============================] - 5s 5ms/step - loss: 0.9629 - accuracy: 0.6139 - val_loss: 1.0287 - val_accuracy: 0.5986\n",
            "Epoch 62/100\n",
            "996/996 [==============================] - 7s 7ms/step - loss: 0.9650 - accuracy: 0.6131 - val_loss: 1.0288 - val_accuracy: 0.5938\n",
            "Epoch 63/100\n",
            "996/996 [==============================] - 5s 5ms/step - loss: 0.9617 - accuracy: 0.6118 - val_loss: 1.0254 - val_accuracy: 0.5967\n",
            "Epoch 64/100\n",
            "996/996 [==============================] - 5s 5ms/step - loss: 0.9582 - accuracy: 0.6132 - val_loss: 1.0204 - val_accuracy: 0.5981\n",
            "Epoch 65/100\n",
            "996/996 [==============================] - 5s 5ms/step - loss: 0.9591 - accuracy: 0.6141 - val_loss: 1.0269 - val_accuracy: 0.5971\n",
            "Epoch 66/100\n",
            "996/996 [==============================] - 5s 5ms/step - loss: 0.9552 - accuracy: 0.6159 - val_loss: 1.0347 - val_accuracy: 0.5921\n",
            "Epoch 67/100\n",
            "996/996 [==============================] - 5s 5ms/step - loss: 0.9524 - accuracy: 0.6167 - val_loss: 1.0253 - val_accuracy: 0.5975\n",
            "Epoch 68/100\n",
            "996/996 [==============================] - 5s 5ms/step - loss: 0.9519 - accuracy: 0.6182 - val_loss: 1.0234 - val_accuracy: 0.5982\n",
            "Epoch 69/100\n",
            "996/996 [==============================] - 5s 5ms/step - loss: 0.9504 - accuracy: 0.6178 - val_loss: 1.0269 - val_accuracy: 0.5960\n",
            "Epoch 70/100\n",
            "996/996 [==============================] - 5s 5ms/step - loss: 0.9515 - accuracy: 0.6169 - val_loss: 1.0381 - val_accuracy: 0.5900\n",
            "Epoch 71/100\n",
            "996/996 [==============================] - 5s 5ms/step - loss: 0.9479 - accuracy: 0.6204 - val_loss: 1.0350 - val_accuracy: 0.5916\n",
            "Epoch 72/100\n",
            "996/996 [==============================] - 5s 5ms/step - loss: 0.9460 - accuracy: 0.6175 - val_loss: 1.0360 - val_accuracy: 0.5935\n",
            "Epoch 73/100\n",
            "996/996 [==============================] - 5s 5ms/step - loss: 0.9439 - accuracy: 0.6196 - val_loss: 1.0280 - val_accuracy: 0.5961\n",
            "Epoch 74/100\n",
            "996/996 [==============================] - 5s 5ms/step - loss: 0.9440 - accuracy: 0.6189 - val_loss: 1.0349 - val_accuracy: 0.5972\n",
            "Epoch 75/100\n",
            "996/996 [==============================] - 5s 5ms/step - loss: 0.9423 - accuracy: 0.6199 - val_loss: 1.0329 - val_accuracy: 0.5994\n",
            "Epoch 76/100\n",
            "996/996 [==============================] - 5s 5ms/step - loss: 0.9412 - accuracy: 0.6207 - val_loss: 1.0373 - val_accuracy: 0.5926\n",
            "Epoch 77/100\n",
            "996/996 [==============================] - 5s 5ms/step - loss: 0.9416 - accuracy: 0.6196 - val_loss: 1.0261 - val_accuracy: 0.5995\n",
            "Epoch 78/100\n",
            "996/996 [==============================] - 5s 5ms/step - loss: 0.9373 - accuracy: 0.6221 - val_loss: 1.0344 - val_accuracy: 0.5981\n",
            "Epoch 79/100\n",
            "996/996 [==============================] - 5s 5ms/step - loss: 0.9369 - accuracy: 0.6202 - val_loss: 1.0291 - val_accuracy: 0.5950\n",
            "Epoch 80/100\n",
            "996/996 [==============================] - 5s 5ms/step - loss: 0.9372 - accuracy: 0.6231 - val_loss: 1.0323 - val_accuracy: 0.5959\n",
            "Epoch 81/100\n",
            "996/996 [==============================] - 5s 5ms/step - loss: 0.9301 - accuracy: 0.6245 - val_loss: 1.0203 - val_accuracy: 0.6002\n",
            "Epoch 82/100\n",
            "996/996 [==============================] - 5s 5ms/step - loss: 0.9306 - accuracy: 0.6253 - val_loss: 1.0305 - val_accuracy: 0.5983\n",
            "Epoch 83/100\n",
            "996/996 [==============================] - 4s 5ms/step - loss: 0.9293 - accuracy: 0.6257 - val_loss: 1.0391 - val_accuracy: 0.5932\n",
            "Epoch 84/100\n",
            "996/996 [==============================] - 5s 5ms/step - loss: 0.9299 - accuracy: 0.6231 - val_loss: 1.0370 - val_accuracy: 0.5947\n",
            "Epoch 85/100\n",
            "996/996 [==============================] - 5s 5ms/step - loss: 0.9263 - accuracy: 0.6270 - val_loss: 1.0377 - val_accuracy: 0.5902\n",
            "Epoch 86/100\n",
            "996/996 [==============================] - 5s 5ms/step - loss: 0.9226 - accuracy: 0.6265 - val_loss: 1.0355 - val_accuracy: 0.5980\n",
            "Epoch 87/100\n",
            "996/996 [==============================] - 5s 5ms/step - loss: 0.9251 - accuracy: 0.6273 - val_loss: 1.0320 - val_accuracy: 0.5970\n",
            "Epoch 88/100\n",
            "996/996 [==============================] - 5s 5ms/step - loss: 0.9213 - accuracy: 0.6281 - val_loss: 1.0274 - val_accuracy: 0.5973\n",
            "Epoch 89/100\n",
            "996/996 [==============================] - 5s 5ms/step - loss: 0.9177 - accuracy: 0.6295 - val_loss: 1.0284 - val_accuracy: 0.5979\n",
            "Epoch 90/100\n",
            "996/996 [==============================] - 5s 5ms/step - loss: 0.9151 - accuracy: 0.6289 - val_loss: 1.0465 - val_accuracy: 0.5967\n",
            "Epoch 91/100\n",
            "996/996 [==============================] - 5s 5ms/step - loss: 0.9186 - accuracy: 0.6283 - val_loss: 1.0519 - val_accuracy: 0.5901\n",
            "Epoch 92/100\n",
            "996/996 [==============================] - 5s 5ms/step - loss: 0.9130 - accuracy: 0.6313 - val_loss: 1.0292 - val_accuracy: 0.5966\n",
            "Epoch 93/100\n",
            "996/996 [==============================] - 5s 5ms/step - loss: 0.9153 - accuracy: 0.6296 - val_loss: 1.0360 - val_accuracy: 0.5961\n",
            "Epoch 94/100\n",
            "996/996 [==============================] - 4s 5ms/step - loss: 0.9096 - accuracy: 0.6328 - val_loss: 1.0338 - val_accuracy: 0.5967\n",
            "Epoch 95/100\n",
            "996/996 [==============================] - 5s 5ms/step - loss: 0.9099 - accuracy: 0.6300 - val_loss: 1.0420 - val_accuracy: 0.5926\n",
            "Epoch 96/100\n",
            "996/996 [==============================] - 5s 5ms/step - loss: 0.9064 - accuracy: 0.6333 - val_loss: 1.0437 - val_accuracy: 0.5944\n",
            "Epoch 97/100\n",
            "996/996 [==============================] - 4s 5ms/step - loss: 0.9082 - accuracy: 0.6338 - val_loss: 1.0447 - val_accuracy: 0.5959\n",
            "Epoch 98/100\n",
            "996/996 [==============================] - 5s 5ms/step - loss: 0.9020 - accuracy: 0.6347 - val_loss: 1.0429 - val_accuracy: 0.5948\n",
            "Epoch 99/100\n",
            "996/996 [==============================] - 5s 5ms/step - loss: 0.9014 - accuracy: 0.6362 - val_loss: 1.0393 - val_accuracy: 0.5988\n",
            "Epoch 100/100\n",
            "996/996 [==============================] - 5s 5ms/step - loss: 0.9012 - accuracy: 0.6367 - val_loss: 1.0346 - val_accuracy: 0.6003\n"
          ]
        },
        {
          "data": {
            "text/plain": [
              "<keras.callbacks.History at 0x7f299825acd0>"
            ]
          },
          "execution_count": 11,
          "metadata": {},
          "output_type": "execute_result"
        }
      ],
      "source": [
        "from keras.optimizers import Adam\n",
        "import tensorflow as tf\n",
        "# Multi Layer Perceptron\n",
        "\n",
        "y_train=np.asarray(y_train ,dtype=int)\n",
        "MLP_model = Sequential()\n",
        "MLP_model.add(Dense(1024, activation='relu',  input_dim = 18 ))\n",
        "MLP_model.add(Dense(512, activation='relu'))\n",
        "MLP_model.add(Dense(256,activation='relu'))\n",
        "MLP_model.add(Dense(128,activation='relu'))\n",
        "MLP_model.add(Dense(64,activation='relu'))\n",
        "MLP_model.add(Dropout(0.3))\n",
        "MLP_model.add(Dense(32,activation='relu'))\n",
        "MLP_model.add(Dense(16,activation='relu'))\n",
        "MLP_model.add(Dense(8,activation='relu'))\n",
        "MLP_model.add(Dense(5,activation='softmax'))\n",
        "\n",
        "MLP_model.compile(optimizer=Adam(learning_rate=1e-3), loss= 'categorical_crossentropy',  \n",
        "              metrics=['accuracy'])\n",
        "\n",
        "MLP_model.fit(X_train, y_train, validation_data = (X_valid,y_valid), epochs= 100, batch_size = 64)"
      ]
    },
    {
      "cell_type": "code",
      "execution_count": null,
      "metadata": {
        "id": "BJHSEkQ_ZhMU"
      },
      "outputs": [],
      "source": [
        "model_save_name = 'JB_MLP_NN_Model_Thermal_Comfort.pt'\n",
        "path = f\"/content/drive/MyDrive/WPI/Deep Learning/Project/Models Trained/Thermal_Comfort/{model_save_name}\" \n",
        "MLP_model.save(path)"
      ]
    },
    {
      "cell_type": "markdown",
      "metadata": {
        "id": "c4YIAFk31K2k"
      },
      "source": [
        "### Multilayer Perceptron"
      ]
    },
    {
      "cell_type": "code",
      "execution_count": null,
      "metadata": {
        "colab": {
          "base_uri": "https://localhost:8080/"
        },
        "id": "0tA1QGJ8unBS",
        "outputId": "743160e9-f31b-4165-ce9e-5e9dd7b0d5f0"
      },
      "outputs": [
        {
          "name": "stdout",
          "output_type": "stream",
          "text": [
            "Epoch 1/100\n",
            "82/82 [==============================] - 2s 13ms/step - loss: 1.5586 - accuracy: 0.2935 - recall_m: 0.0223 - precision_m: 0.2307 - f1_m: 0.0369 - val_loss: 1.5137 - val_accuracy: 0.3328 - val_recall_m: 0.0000e+00 - val_precision_m: 0.0000e+00 - val_f1_m: 0.0000e+00\n",
            "Epoch 2/100\n",
            "82/82 [==============================] - 0s 5ms/step - loss: 1.4758 - accuracy: 0.3588 - recall_m: 0.0411 - precision_m: 0.4675 - f1_m: 0.0729 - val_loss: 1.3332 - val_accuracy: 0.4912 - val_recall_m: 0.1780 - val_precision_m: 0.7414 - val_f1_m: 0.2833\n",
            "Epoch 3/100\n",
            "82/82 [==============================] - 0s 5ms/step - loss: 1.3226 - accuracy: 0.4632 - recall_m: 0.1763 - precision_m: 0.7132 - f1_m: 0.2710 - val_loss: 1.2011 - val_accuracy: 0.5065 - val_recall_m: 0.1624 - val_precision_m: 0.8268 - val_f1_m: 0.2681\n",
            "Epoch 4/100\n",
            "82/82 [==============================] - 0s 5ms/step - loss: 1.2048 - accuracy: 0.4943 - recall_m: 0.2231 - precision_m: 0.7041 - f1_m: 0.3348 - val_loss: 1.1332 - val_accuracy: 0.5104 - val_recall_m: 0.2807 - val_precision_m: 0.7197 - val_f1_m: 0.4012\n",
            "Epoch 5/100\n",
            "82/82 [==============================] - 0s 5ms/step - loss: 1.1666 - accuracy: 0.5062 - recall_m: 0.2581 - precision_m: 0.6875 - f1_m: 0.3705 - val_loss: 1.1210 - val_accuracy: 0.5119 - val_recall_m: 0.2897 - val_precision_m: 0.6930 - val_f1_m: 0.4061\n",
            "Epoch 6/100\n",
            "82/82 [==============================] - 0s 5ms/step - loss: 1.1547 - accuracy: 0.5122 - recall_m: 0.2636 - precision_m: 0.6896 - f1_m: 0.3767 - val_loss: 1.1039 - val_accuracy: 0.5288 - val_recall_m: 0.2666 - val_precision_m: 0.7774 - val_f1_m: 0.3936\n",
            "Epoch 7/100\n",
            "82/82 [==============================] - 0s 5ms/step - loss: 1.1360 - accuracy: 0.5160 - recall_m: 0.2920 - precision_m: 0.6748 - f1_m: 0.4029 - val_loss: 1.0860 - val_accuracy: 0.5619 - val_recall_m: 0.2718 - val_precision_m: 0.7564 - val_f1_m: 0.3975\n",
            "Epoch 8/100\n",
            "82/82 [==============================] - 0s 5ms/step - loss: 1.1461 - accuracy: 0.5228 - recall_m: 0.2914 - precision_m: 0.6595 - f1_m: 0.3995 - val_loss: 1.0964 - val_accuracy: 0.5480 - val_recall_m: 0.3351 - val_precision_m: 0.7332 - val_f1_m: 0.4582\n",
            "Epoch 9/100\n",
            "82/82 [==============================] - 0s 5ms/step - loss: 1.1102 - accuracy: 0.5468 - recall_m: 0.2953 - precision_m: 0.6830 - f1_m: 0.4070 - val_loss: 1.0606 - val_accuracy: 0.5757 - val_recall_m: 0.3090 - val_precision_m: 0.7282 - val_f1_m: 0.4311\n",
            "Epoch 10/100\n",
            "82/82 [==============================] - 0s 5ms/step - loss: 1.1004 - accuracy: 0.5545 - recall_m: 0.3308 - precision_m: 0.6565 - f1_m: 0.4350 - val_loss: 1.0744 - val_accuracy: 0.5626 - val_recall_m: 0.3739 - val_precision_m: 0.6864 - val_f1_m: 0.4819\n",
            "Epoch 11/100\n",
            "82/82 [==============================] - 0s 5ms/step - loss: 1.1116 - accuracy: 0.5533 - recall_m: 0.3278 - precision_m: 0.6684 - f1_m: 0.4339 - val_loss: 1.0795 - val_accuracy: 0.5788 - val_recall_m: 0.2882 - val_precision_m: 0.7535 - val_f1_m: 0.4143\n",
            "Epoch 12/100\n",
            "82/82 [==============================] - 0s 5ms/step - loss: 1.1179 - accuracy: 0.5501 - recall_m: 0.3078 - precision_m: 0.6537 - f1_m: 0.4153 - val_loss: 1.0828 - val_accuracy: 0.5803 - val_recall_m: 0.2889 - val_precision_m: 0.7077 - val_f1_m: 0.4078\n",
            "Epoch 13/100\n",
            "82/82 [==============================] - 0s 5ms/step - loss: 1.0903 - accuracy: 0.5639 - recall_m: 0.3489 - precision_m: 0.6499 - f1_m: 0.4511 - val_loss: 1.0750 - val_accuracy: 0.5826 - val_recall_m: 0.3411 - val_precision_m: 0.6827 - val_f1_m: 0.4527\n",
            "Epoch 14/100\n",
            "82/82 [==============================] - 0s 5ms/step - loss: 1.0778 - accuracy: 0.5618 - recall_m: 0.3649 - precision_m: 0.6660 - f1_m: 0.4684 - val_loss: 1.0800 - val_accuracy: 0.5442 - val_recall_m: 0.3373 - val_precision_m: 0.6524 - val_f1_m: 0.4430\n",
            "Epoch 15/100\n",
            "82/82 [==============================] - 0s 5ms/step - loss: 1.0862 - accuracy: 0.5631 - recall_m: 0.3501 - precision_m: 0.6634 - f1_m: 0.4513 - val_loss: 1.0676 - val_accuracy: 0.5565 - val_recall_m: 0.3389 - val_precision_m: 0.6893 - val_f1_m: 0.4519\n",
            "Epoch 16/100\n",
            "82/82 [==============================] - 0s 5ms/step - loss: 1.0731 - accuracy: 0.5610 - recall_m: 0.3456 - precision_m: 0.6701 - f1_m: 0.4497 - val_loss: 1.0485 - val_accuracy: 0.5726 - val_recall_m: 0.3061 - val_precision_m: 0.6824 - val_f1_m: 0.4201\n",
            "Epoch 17/100\n",
            "82/82 [==============================] - 1s 7ms/step - loss: 1.0749 - accuracy: 0.5702 - recall_m: 0.3720 - precision_m: 0.6745 - f1_m: 0.4745 - val_loss: 1.0347 - val_accuracy: 0.5719 - val_recall_m: 0.3776 - val_precision_m: 0.6728 - val_f1_m: 0.4823\n",
            "Epoch 18/100\n",
            "82/82 [==============================] - 0s 6ms/step - loss: 1.0615 - accuracy: 0.5710 - recall_m: 0.3761 - precision_m: 0.6706 - f1_m: 0.4778 - val_loss: 1.0336 - val_accuracy: 0.5842 - val_recall_m: 0.4818 - val_precision_m: 0.6316 - val_f1_m: 0.5456\n",
            "Epoch 19/100\n",
            "82/82 [==============================] - 0s 6ms/step - loss: 1.0643 - accuracy: 0.5670 - recall_m: 0.3801 - precision_m: 0.6596 - f1_m: 0.4773 - val_loss: 1.0305 - val_accuracy: 0.5803 - val_recall_m: 0.3954 - val_precision_m: 0.6682 - val_f1_m: 0.4956\n",
            "Epoch 20/100\n",
            "82/82 [==============================] - 1s 7ms/step - loss: 1.0491 - accuracy: 0.5760 - recall_m: 0.3848 - precision_m: 0.6742 - f1_m: 0.4873 - val_loss: 1.0394 - val_accuracy: 0.5711 - val_recall_m: 0.3411 - val_precision_m: 0.6997 - val_f1_m: 0.4564\n",
            "Epoch 21/100\n",
            "82/82 [==============================] - 1s 9ms/step - loss: 1.0456 - accuracy: 0.5814 - recall_m: 0.3877 - precision_m: 0.6844 - f1_m: 0.4899 - val_loss: 1.0462 - val_accuracy: 0.5665 - val_recall_m: 0.3560 - val_precision_m: 0.7059 - val_f1_m: 0.4714\n",
            "Epoch 22/100\n",
            "82/82 [==============================] - 1s 9ms/step - loss: 1.0676 - accuracy: 0.5687 - recall_m: 0.3700 - precision_m: 0.6765 - f1_m: 0.4704 - val_loss: 1.0593 - val_accuracy: 0.5765 - val_recall_m: 0.4006 - val_precision_m: 0.6660 - val_f1_m: 0.4981\n",
            "Epoch 23/100\n",
            "82/82 [==============================] - 1s 10ms/step - loss: 1.0422 - accuracy: 0.5747 - recall_m: 0.3910 - precision_m: 0.6728 - f1_m: 0.4920 - val_loss: 1.0218 - val_accuracy: 0.5903 - val_recall_m: 0.4640 - val_precision_m: 0.6504 - val_f1_m: 0.5404\n",
            "Epoch 24/100\n",
            "82/82 [==============================] - 1s 7ms/step - loss: 1.0426 - accuracy: 0.5766 - recall_m: 0.3988 - precision_m: 0.6694 - f1_m: 0.4968 - val_loss: 1.0191 - val_accuracy: 0.5811 - val_recall_m: 0.3910 - val_precision_m: 0.6933 - val_f1_m: 0.4978\n",
            "Epoch 25/100\n",
            "82/82 [==============================] - 0s 5ms/step - loss: 1.0300 - accuracy: 0.5791 - recall_m: 0.4001 - precision_m: 0.6816 - f1_m: 0.5012 - val_loss: 1.0247 - val_accuracy: 0.5842 - val_recall_m: 0.4132 - val_precision_m: 0.6712 - val_f1_m: 0.5100\n",
            "Epoch 26/100\n",
            "82/82 [==============================] - 0s 5ms/step - loss: 1.0282 - accuracy: 0.5768 - recall_m: 0.4050 - precision_m: 0.6763 - f1_m: 0.5041 - val_loss: 1.0439 - val_accuracy: 0.5657 - val_recall_m: 0.3924 - val_precision_m: 0.6775 - val_f1_m: 0.4959\n",
            "Epoch 27/100\n",
            "82/82 [==============================] - 0s 5ms/step - loss: 1.0331 - accuracy: 0.5816 - recall_m: 0.4062 - precision_m: 0.6703 - f1_m: 0.5018 - val_loss: 1.0311 - val_accuracy: 0.5895 - val_recall_m: 0.4103 - val_precision_m: 0.6669 - val_f1_m: 0.5063\n",
            "Epoch 28/100\n",
            "82/82 [==============================] - 0s 5ms/step - loss: 1.0254 - accuracy: 0.5781 - recall_m: 0.3978 - precision_m: 0.6862 - f1_m: 0.5010 - val_loss: 1.0116 - val_accuracy: 0.5857 - val_recall_m: 0.3866 - val_precision_m: 0.6804 - val_f1_m: 0.4919\n",
            "Epoch 29/100\n",
            "82/82 [==============================] - 0s 5ms/step - loss: 1.0181 - accuracy: 0.5789 - recall_m: 0.4093 - precision_m: 0.6834 - f1_m: 0.5097 - val_loss: 1.0361 - val_accuracy: 0.5650 - val_recall_m: 0.3113 - val_precision_m: 0.6971 - val_f1_m: 0.4285\n",
            "Epoch 30/100\n",
            "82/82 [==============================] - 0s 5ms/step - loss: 1.0188 - accuracy: 0.5847 - recall_m: 0.4160 - precision_m: 0.6875 - f1_m: 0.5147 - val_loss: 1.0164 - val_accuracy: 0.5742 - val_recall_m: 0.3433 - val_precision_m: 0.6854 - val_f1_m: 0.4560\n",
            "Epoch 31/100\n",
            "82/82 [==============================] - 0s 5ms/step - loss: 1.0089 - accuracy: 0.5850 - recall_m: 0.4160 - precision_m: 0.6852 - f1_m: 0.5160 - val_loss: 1.0079 - val_accuracy: 0.5796 - val_recall_m: 0.3731 - val_precision_m: 0.7018 - val_f1_m: 0.4855\n",
            "Epoch 32/100\n",
            "82/82 [==============================] - 0s 5ms/step - loss: 1.0147 - accuracy: 0.5810 - recall_m: 0.3982 - precision_m: 0.6865 - f1_m: 0.4997 - val_loss: 1.0315 - val_accuracy: 0.5696 - val_recall_m: 0.4736 - val_precision_m: 0.6190 - val_f1_m: 0.5358\n",
            "Epoch 33/100\n",
            "82/82 [==============================] - 0s 5ms/step - loss: 1.0270 - accuracy: 0.5760 - recall_m: 0.3878 - precision_m: 0.6833 - f1_m: 0.4912 - val_loss: 1.0214 - val_accuracy: 0.5780 - val_recall_m: 0.4535 - val_precision_m: 0.6343 - val_f1_m: 0.5277\n",
            "Epoch 34/100\n",
            "82/82 [==============================] - 0s 5ms/step - loss: 0.9985 - accuracy: 0.5885 - recall_m: 0.4305 - precision_m: 0.6927 - f1_m: 0.5285 - val_loss: 0.9903 - val_accuracy: 0.5788 - val_recall_m: 0.4222 - val_precision_m: 0.6761 - val_f1_m: 0.5184\n",
            "Epoch 35/100\n",
            "82/82 [==============================] - 1s 7ms/step - loss: 0.9891 - accuracy: 0.5885 - recall_m: 0.4153 - precision_m: 0.7031 - f1_m: 0.5196 - val_loss: 1.0096 - val_accuracy: 0.5749 - val_recall_m: 0.3902 - val_precision_m: 0.6890 - val_f1_m: 0.4973\n",
            "Epoch 36/100\n",
            "82/82 [==============================] - 1s 9ms/step - loss: 1.0000 - accuracy: 0.5883 - recall_m: 0.4187 - precision_m: 0.6836 - f1_m: 0.5156 - val_loss: 1.0047 - val_accuracy: 0.5726 - val_recall_m: 0.3642 - val_precision_m: 0.7100 - val_f1_m: 0.4800\n",
            "Epoch 37/100\n",
            "82/82 [==============================] - 1s 8ms/step - loss: 0.9869 - accuracy: 0.5916 - recall_m: 0.4210 - precision_m: 0.6965 - f1_m: 0.5206 - val_loss: 1.0178 - val_accuracy: 0.5680 - val_recall_m: 0.4268 - val_precision_m: 0.6647 - val_f1_m: 0.5184\n",
            "Epoch 38/100\n",
            "82/82 [==============================] - 1s 9ms/step - loss: 0.9821 - accuracy: 0.5875 - recall_m: 0.4252 - precision_m: 0.6996 - f1_m: 0.5274 - val_loss: 0.9802 - val_accuracy: 0.5919 - val_recall_m: 0.4245 - val_precision_m: 0.6820 - val_f1_m: 0.5223\n",
            "Epoch 39/100\n",
            "82/82 [==============================] - 1s 6ms/step - loss: 0.9701 - accuracy: 0.6022 - recall_m: 0.4389 - precision_m: 0.6895 - f1_m: 0.5340 - val_loss: 1.0211 - val_accuracy: 0.5703 - val_recall_m: 0.3485 - val_precision_m: 0.6709 - val_f1_m: 0.4578\n",
            "Epoch 40/100\n",
            "82/82 [==============================] - 0s 5ms/step - loss: 0.9747 - accuracy: 0.6033 - recall_m: 0.4305 - precision_m: 0.7038 - f1_m: 0.5316 - val_loss: 0.9852 - val_accuracy: 0.5926 - val_recall_m: 0.3954 - val_precision_m: 0.6932 - val_f1_m: 0.5024\n",
            "Epoch 41/100\n",
            "82/82 [==============================] - 0s 5ms/step - loss: 0.9638 - accuracy: 0.5993 - recall_m: 0.4375 - precision_m: 0.6966 - f1_m: 0.5354 - val_loss: 1.0132 - val_accuracy: 0.5749 - val_recall_m: 0.3880 - val_precision_m: 0.6907 - val_f1_m: 0.4948\n",
            "Epoch 42/100\n",
            "82/82 [==============================] - 0s 5ms/step - loss: 0.9733 - accuracy: 0.5998 - recall_m: 0.4404 - precision_m: 0.6994 - f1_m: 0.5384 - val_loss: 0.9920 - val_accuracy: 0.5696 - val_recall_m: 0.3612 - val_precision_m: 0.6801 - val_f1_m: 0.4697\n",
            "Epoch 43/100\n",
            "82/82 [==============================] - 0s 5ms/step - loss: 0.9712 - accuracy: 0.5960 - recall_m: 0.4345 - precision_m: 0.7011 - f1_m: 0.5346 - val_loss: 0.9792 - val_accuracy: 0.5811 - val_recall_m: 0.3970 - val_precision_m: 0.6721 - val_f1_m: 0.4970\n",
            "Epoch 44/100\n",
            "82/82 [==============================] - 1s 9ms/step - loss: 0.9640 - accuracy: 0.5960 - recall_m: 0.4477 - precision_m: 0.6917 - f1_m: 0.5417 - val_loss: 0.9726 - val_accuracy: 0.5919 - val_recall_m: 0.4572 - val_precision_m: 0.6700 - val_f1_m: 0.5429\n",
            "Epoch 45/100\n",
            "82/82 [==============================] - 1s 8ms/step - loss: 0.9728 - accuracy: 0.5962 - recall_m: 0.4358 - precision_m: 0.7000 - f1_m: 0.5334 - val_loss: 0.9883 - val_accuracy: 0.5919 - val_recall_m: 0.3962 - val_precision_m: 0.6832 - val_f1_m: 0.5000\n",
            "Epoch 46/100\n",
            "82/82 [==============================] - 1s 8ms/step - loss: 0.9576 - accuracy: 0.6058 - recall_m: 0.4452 - precision_m: 0.6980 - f1_m: 0.5405 - val_loss: 0.9813 - val_accuracy: 0.5980 - val_recall_m: 0.4640 - val_precision_m: 0.6798 - val_f1_m: 0.5493\n",
            "Epoch 47/100\n",
            "82/82 [==============================] - 1s 6ms/step - loss: 0.9509 - accuracy: 0.6062 - recall_m: 0.4454 - precision_m: 0.7005 - f1_m: 0.5402 - val_loss: 1.0039 - val_accuracy: 0.5803 - val_recall_m: 0.4498 - val_precision_m: 0.6571 - val_f1_m: 0.5326\n",
            "Epoch 48/100\n",
            "82/82 [==============================] - 0s 5ms/step - loss: 0.9432 - accuracy: 0.6075 - recall_m: 0.4653 - precision_m: 0.6954 - f1_m: 0.5551 - val_loss: 0.9693 - val_accuracy: 0.5857 - val_recall_m: 0.4148 - val_precision_m: 0.7071 - val_f1_m: 0.5210\n",
            "Epoch 49/100\n",
            "82/82 [==============================] - 0s 6ms/step - loss: 0.9287 - accuracy: 0.6148 - recall_m: 0.4620 - precision_m: 0.7167 - f1_m: 0.5600 - val_loss: 0.9605 - val_accuracy: 0.5788 - val_recall_m: 0.4304 - val_precision_m: 0.6751 - val_f1_m: 0.5246\n",
            "Epoch 50/100\n",
            "82/82 [==============================] - 1s 7ms/step - loss: 0.9377 - accuracy: 0.6106 - recall_m: 0.4655 - precision_m: 0.7128 - f1_m: 0.5615 - val_loss: 0.9782 - val_accuracy: 0.5949 - val_recall_m: 0.4424 - val_precision_m: 0.6713 - val_f1_m: 0.5319\n",
            "Epoch 51/100\n",
            "82/82 [==============================] - 0s 5ms/step - loss: 0.9160 - accuracy: 0.6177 - recall_m: 0.4724 - precision_m: 0.7205 - f1_m: 0.5692 - val_loss: 0.9633 - val_accuracy: 0.5919 - val_recall_m: 0.4595 - val_precision_m: 0.6863 - val_f1_m: 0.5496\n",
            "Epoch 52/100\n",
            "82/82 [==============================] - 0s 5ms/step - loss: 0.9431 - accuracy: 0.6100 - recall_m: 0.4642 - precision_m: 0.7024 - f1_m: 0.5564 - val_loss: 1.0132 - val_accuracy: 0.5895 - val_recall_m: 0.4595 - val_precision_m: 0.6584 - val_f1_m: 0.5402\n",
            "Epoch 53/100\n",
            "82/82 [==============================] - 0s 5ms/step - loss: 0.9247 - accuracy: 0.6121 - recall_m: 0.4669 - precision_m: 0.7090 - f1_m: 0.5612 - val_loss: 0.9727 - val_accuracy: 0.5942 - val_recall_m: 0.4796 - val_precision_m: 0.6719 - val_f1_m: 0.5587\n",
            "Epoch 54/100\n",
            "82/82 [==============================] - 0s 5ms/step - loss: 0.9078 - accuracy: 0.6196 - recall_m: 0.4886 - precision_m: 0.7123 - f1_m: 0.5781 - val_loss: 0.9656 - val_accuracy: 0.6034 - val_recall_m: 0.4721 - val_precision_m: 0.6890 - val_f1_m: 0.5589\n",
            "Epoch 55/100\n",
            "82/82 [==============================] - 0s 5ms/step - loss: 0.9069 - accuracy: 0.6212 - recall_m: 0.4790 - precision_m: 0.7131 - f1_m: 0.5715 - val_loss: 0.9759 - val_accuracy: 0.5865 - val_recall_m: 0.4394 - val_precision_m: 0.6675 - val_f1_m: 0.5289\n",
            "Epoch 56/100\n",
            "82/82 [==============================] - 0s 5ms/step - loss: 0.9053 - accuracy: 0.6154 - recall_m: 0.4756 - precision_m: 0.7165 - f1_m: 0.5701 - val_loss: 0.9528 - val_accuracy: 0.5965 - val_recall_m: 0.4580 - val_precision_m: 0.6849 - val_f1_m: 0.5474\n",
            "Epoch 57/100\n",
            "82/82 [==============================] - 0s 5ms/step - loss: 0.8961 - accuracy: 0.6208 - recall_m: 0.4736 - precision_m: 0.7230 - f1_m: 0.5695 - val_loss: 0.9529 - val_accuracy: 0.5980 - val_recall_m: 0.4825 - val_precision_m: 0.6662 - val_f1_m: 0.5587\n",
            "Epoch 58/100\n",
            "82/82 [==============================] - 0s 5ms/step - loss: 0.8775 - accuracy: 0.6291 - recall_m: 0.4913 - precision_m: 0.7239 - f1_m: 0.5838 - val_loss: 0.9536 - val_accuracy: 0.6088 - val_recall_m: 0.5049 - val_precision_m: 0.6818 - val_f1_m: 0.5793\n",
            "Epoch 59/100\n",
            "82/82 [==============================] - 0s 5ms/step - loss: 0.8797 - accuracy: 0.6289 - recall_m: 0.4952 - precision_m: 0.7304 - f1_m: 0.5889 - val_loss: 0.9505 - val_accuracy: 0.6088 - val_recall_m: 0.4773 - val_precision_m: 0.6840 - val_f1_m: 0.5613\n",
            "Epoch 60/100\n",
            "82/82 [==============================] - 0s 5ms/step - loss: 0.8697 - accuracy: 0.6331 - recall_m: 0.4934 - precision_m: 0.7276 - f1_m: 0.5869 - val_loss: 0.9709 - val_accuracy: 0.6003 - val_recall_m: 0.4886 - val_precision_m: 0.6575 - val_f1_m: 0.5599\n",
            "Epoch 61/100\n",
            "82/82 [==============================] - 0s 5ms/step - loss: 0.8593 - accuracy: 0.6394 - recall_m: 0.5064 - precision_m: 0.7318 - f1_m: 0.5971 - val_loss: 0.9739 - val_accuracy: 0.5696 - val_recall_m: 0.4208 - val_precision_m: 0.6626 - val_f1_m: 0.5137\n",
            "Epoch 62/100\n",
            "82/82 [==============================] - 0s 5ms/step - loss: 0.8592 - accuracy: 0.6410 - recall_m: 0.5059 - precision_m: 0.7431 - f1_m: 0.6005 - val_loss: 0.9771 - val_accuracy: 0.6034 - val_recall_m: 0.5094 - val_precision_m: 0.6653 - val_f1_m: 0.5762\n",
            "Epoch 63/100\n",
            "82/82 [==============================] - 0s 5ms/step - loss: 0.8570 - accuracy: 0.6366 - recall_m: 0.5109 - precision_m: 0.7239 - f1_m: 0.5974 - val_loss: 0.9491 - val_accuracy: 0.6034 - val_recall_m: 0.4714 - val_precision_m: 0.7016 - val_f1_m: 0.5631\n",
            "Epoch 64/100\n",
            "82/82 [==============================] - 0s 6ms/step - loss: 0.8579 - accuracy: 0.6358 - recall_m: 0.5077 - precision_m: 0.7337 - f1_m: 0.5979 - val_loss: 0.9673 - val_accuracy: 0.6065 - val_recall_m: 0.4877 - val_precision_m: 0.6626 - val_f1_m: 0.5608\n",
            "Epoch 65/100\n",
            "82/82 [==============================] - 0s 5ms/step - loss: 0.8437 - accuracy: 0.6433 - recall_m: 0.5075 - precision_m: 0.7302 - f1_m: 0.5975 - val_loss: 0.9373 - val_accuracy: 0.6057 - val_recall_m: 0.4811 - val_precision_m: 0.6778 - val_f1_m: 0.5618\n",
            "Epoch 66/100\n",
            "82/82 [==============================] - 0s 5ms/step - loss: 0.8282 - accuracy: 0.6489 - recall_m: 0.5210 - precision_m: 0.7571 - f1_m: 0.6149 - val_loss: 0.9459 - val_accuracy: 0.6149 - val_recall_m: 0.4774 - val_precision_m: 0.7051 - val_f1_m: 0.5680\n",
            "Epoch 67/100\n",
            "82/82 [==============================] - 0s 5ms/step - loss: 0.8404 - accuracy: 0.6450 - recall_m: 0.5116 - precision_m: 0.7440 - f1_m: 0.6049 - val_loss: 0.9234 - val_accuracy: 0.6149 - val_recall_m: 0.5019 - val_precision_m: 0.6751 - val_f1_m: 0.5750\n",
            "Epoch 68/100\n",
            "82/82 [==============================] - 0s 5ms/step - loss: 0.8410 - accuracy: 0.6429 - recall_m: 0.5120 - precision_m: 0.7372 - f1_m: 0.6028 - val_loss: 0.9336 - val_accuracy: 0.6241 - val_recall_m: 0.5004 - val_precision_m: 0.7071 - val_f1_m: 0.5850\n",
            "Epoch 69/100\n",
            "82/82 [==============================] - 0s 5ms/step - loss: 0.8346 - accuracy: 0.6529 - recall_m: 0.5092 - precision_m: 0.7446 - f1_m: 0.6032 - val_loss: 0.9494 - val_accuracy: 0.6072 - val_recall_m: 0.4892 - val_precision_m: 0.6943 - val_f1_m: 0.5731\n",
            "Epoch 70/100\n",
            "82/82 [==============================] - 0s 5ms/step - loss: 0.8314 - accuracy: 0.6537 - recall_m: 0.5284 - precision_m: 0.7435 - f1_m: 0.6164 - val_loss: 0.9718 - val_accuracy: 0.6180 - val_recall_m: 0.4952 - val_precision_m: 0.6784 - val_f1_m: 0.5715\n",
            "Epoch 71/100\n",
            "82/82 [==============================] - 0s 5ms/step - loss: 0.8185 - accuracy: 0.6581 - recall_m: 0.5299 - precision_m: 0.7566 - f1_m: 0.6221 - val_loss: 0.9429 - val_accuracy: 0.6218 - val_recall_m: 0.5056 - val_precision_m: 0.6877 - val_f1_m: 0.5821\n",
            "Epoch 72/100\n",
            "82/82 [==============================] - 0s 5ms/step - loss: 0.8017 - accuracy: 0.6635 - recall_m: 0.5462 - precision_m: 0.7539 - f1_m: 0.6314 - val_loss: 0.9440 - val_accuracy: 0.5949 - val_recall_m: 0.4825 - val_precision_m: 0.6638 - val_f1_m: 0.5580\n",
            "Epoch 73/100\n",
            "82/82 [==============================] - 0s 5ms/step - loss: 0.7988 - accuracy: 0.6604 - recall_m: 0.5380 - precision_m: 0.7514 - f1_m: 0.6255 - val_loss: 1.0193 - val_accuracy: 0.5872 - val_recall_m: 0.5071 - val_precision_m: 0.6606 - val_f1_m: 0.5731\n",
            "Epoch 74/100\n",
            "82/82 [==============================] - 0s 5ms/step - loss: 0.8009 - accuracy: 0.6590 - recall_m: 0.5355 - precision_m: 0.7520 - f1_m: 0.6247 - val_loss: 0.9262 - val_accuracy: 0.6257 - val_recall_m: 0.5421 - val_precision_m: 0.6825 - val_f1_m: 0.6036\n",
            "Epoch 75/100\n",
            "82/82 [==============================] - 0s 5ms/step - loss: 0.7896 - accuracy: 0.6694 - recall_m: 0.5524 - precision_m: 0.7554 - f1_m: 0.6371 - val_loss: 0.9353 - val_accuracy: 0.6126 - val_recall_m: 0.5138 - val_precision_m: 0.6848 - val_f1_m: 0.5862\n",
            "Epoch 76/100\n",
            "82/82 [==============================] - 0s 5ms/step - loss: 0.7795 - accuracy: 0.6758 - recall_m: 0.5539 - precision_m: 0.7617 - f1_m: 0.6404 - val_loss: 0.9850 - val_accuracy: 0.6049 - val_recall_m: 0.4974 - val_precision_m: 0.6851 - val_f1_m: 0.5754\n",
            "Epoch 77/100\n",
            "82/82 [==============================] - 0s 5ms/step - loss: 0.7780 - accuracy: 0.6746 - recall_m: 0.5607 - precision_m: 0.7650 - f1_m: 0.6459 - val_loss: 0.9295 - val_accuracy: 0.6295 - val_recall_m: 0.5339 - val_precision_m: 0.6864 - val_f1_m: 0.5999\n",
            "Epoch 78/100\n",
            "82/82 [==============================] - 0s 5ms/step - loss: 0.7611 - accuracy: 0.6854 - recall_m: 0.5714 - precision_m: 0.7626 - f1_m: 0.6517 - val_loss: 0.9395 - val_accuracy: 0.6003 - val_recall_m: 0.4549 - val_precision_m: 0.7006 - val_f1_m: 0.5509\n",
            "Epoch 79/100\n",
            "82/82 [==============================] - 0s 5ms/step - loss: 0.7813 - accuracy: 0.6777 - recall_m: 0.5575 - precision_m: 0.7573 - f1_m: 0.6406 - val_loss: 0.9562 - val_accuracy: 0.6203 - val_recall_m: 0.4646 - val_precision_m: 0.6902 - val_f1_m: 0.5540\n",
            "Epoch 80/100\n",
            "82/82 [==============================] - 0s 5ms/step - loss: 0.7440 - accuracy: 0.6904 - recall_m: 0.5871 - precision_m: 0.7723 - f1_m: 0.6663 - val_loss: 0.9368 - val_accuracy: 0.6188 - val_recall_m: 0.5213 - val_precision_m: 0.6878 - val_f1_m: 0.5922\n",
            "Epoch 81/100\n",
            "82/82 [==============================] - 0s 5ms/step - loss: 0.7615 - accuracy: 0.6794 - recall_m: 0.5682 - precision_m: 0.7694 - f1_m: 0.6529 - val_loss: 0.9383 - val_accuracy: 0.6195 - val_recall_m: 0.5324 - val_precision_m: 0.6725 - val_f1_m: 0.5939\n",
            "Epoch 82/100\n",
            "82/82 [==============================] - 0s 5ms/step - loss: 0.7433 - accuracy: 0.6913 - recall_m: 0.5778 - precision_m: 0.7662 - f1_m: 0.6575 - val_loss: 1.0459 - val_accuracy: 0.5980 - val_recall_m: 0.5264 - val_precision_m: 0.6587 - val_f1_m: 0.5844\n",
            "Epoch 83/100\n",
            "82/82 [==============================] - 0s 5ms/step - loss: 0.7661 - accuracy: 0.6756 - recall_m: 0.5709 - precision_m: 0.7554 - f1_m: 0.6494 - val_loss: 0.9427 - val_accuracy: 0.6218 - val_recall_m: 0.5220 - val_precision_m: 0.6915 - val_f1_m: 0.5942\n",
            "Epoch 84/100\n",
            "82/82 [==============================] - 1s 9ms/step - loss: 0.7271 - accuracy: 0.6919 - recall_m: 0.5910 - precision_m: 0.7780 - f1_m: 0.6704 - val_loss: 1.0192 - val_accuracy: 0.5988 - val_recall_m: 0.4983 - val_precision_m: 0.6830 - val_f1_m: 0.5756\n",
            "Epoch 85/100\n",
            "82/82 [==============================] - 1s 8ms/step - loss: 0.7472 - accuracy: 0.6844 - recall_m: 0.5773 - precision_m: 0.7670 - f1_m: 0.6575 - val_loss: 0.9794 - val_accuracy: 0.6195 - val_recall_m: 0.4915 - val_precision_m: 0.6928 - val_f1_m: 0.5742\n",
            "Epoch 86/100\n",
            "82/82 [==============================] - 1s 9ms/step - loss: 0.7370 - accuracy: 0.6836 - recall_m: 0.5887 - precision_m: 0.7686 - f1_m: 0.6655 - val_loss: 0.9650 - val_accuracy: 0.6234 - val_recall_m: 0.5235 - val_precision_m: 0.6914 - val_f1_m: 0.5948\n",
            "Epoch 87/100\n",
            "82/82 [==============================] - 0s 5ms/step - loss: 0.7114 - accuracy: 0.6994 - recall_m: 0.5981 - precision_m: 0.7767 - f1_m: 0.6746 - val_loss: 0.9745 - val_accuracy: 0.6410 - val_recall_m: 0.5622 - val_precision_m: 0.6892 - val_f1_m: 0.6187\n",
            "Epoch 88/100\n",
            "82/82 [==============================] - 0s 5ms/step - loss: 0.7122 - accuracy: 0.6994 - recall_m: 0.6062 - precision_m: 0.7739 - f1_m: 0.6789 - val_loss: 1.0101 - val_accuracy: 0.5834 - val_recall_m: 0.4878 - val_precision_m: 0.6625 - val_f1_m: 0.5612\n",
            "Epoch 89/100\n",
            "82/82 [==============================] - 0s 5ms/step - loss: 0.7314 - accuracy: 0.7006 - recall_m: 0.5945 - precision_m: 0.7779 - f1_m: 0.6730 - val_loss: 0.9757 - val_accuracy: 0.6234 - val_recall_m: 0.5443 - val_precision_m: 0.6689 - val_f1_m: 0.5992\n",
            "Epoch 90/100\n",
            "82/82 [==============================] - 0s 5ms/step - loss: 0.7029 - accuracy: 0.7061 - recall_m: 0.6068 - precision_m: 0.7929 - f1_m: 0.6865 - val_loss: 0.9905 - val_accuracy: 0.6218 - val_recall_m: 0.5518 - val_precision_m: 0.6671 - val_f1_m: 0.6034\n",
            "Epoch 91/100\n",
            "82/82 [==============================] - 0s 5ms/step - loss: 0.7084 - accuracy: 0.7015 - recall_m: 0.6191 - precision_m: 0.7791 - f1_m: 0.6893 - val_loss: 0.9923 - val_accuracy: 0.6264 - val_recall_m: 0.5392 - val_precision_m: 0.6877 - val_f1_m: 0.6039\n",
            "Epoch 92/100\n",
            "82/82 [==============================] - 0s 6ms/step - loss: 0.7034 - accuracy: 0.7048 - recall_m: 0.5996 - precision_m: 0.7836 - f1_m: 0.6780 - val_loss: 0.9397 - val_accuracy: 0.6372 - val_recall_m: 0.5592 - val_precision_m: 0.6950 - val_f1_m: 0.6193\n",
            "Epoch 93/100\n",
            "82/82 [==============================] - 0s 5ms/step - loss: 0.6834 - accuracy: 0.7119 - recall_m: 0.6259 - precision_m: 0.7895 - f1_m: 0.6973 - val_loss: 0.9838 - val_accuracy: 0.6095 - val_recall_m: 0.5138 - val_precision_m: 0.6871 - val_f1_m: 0.5871\n",
            "Epoch 94/100\n",
            "82/82 [==============================] - 0s 5ms/step - loss: 0.6895 - accuracy: 0.7150 - recall_m: 0.6106 - precision_m: 0.7918 - f1_m: 0.6885 - val_loss: 1.0517 - val_accuracy: 0.6049 - val_recall_m: 0.5235 - val_precision_m: 0.6630 - val_f1_m: 0.5844\n",
            "Epoch 95/100\n",
            "82/82 [==============================] - 0s 5ms/step - loss: 0.6997 - accuracy: 0.7063 - recall_m: 0.6165 - precision_m: 0.7835 - f1_m: 0.6890 - val_loss: 0.9686 - val_accuracy: 0.6434 - val_recall_m: 0.5436 - val_precision_m: 0.7031 - val_f1_m: 0.6127\n",
            "Epoch 96/100\n",
            "82/82 [==============================] - 0s 5ms/step - loss: 0.6679 - accuracy: 0.7107 - recall_m: 0.6254 - precision_m: 0.7882 - f1_m: 0.6967 - val_loss: 1.0313 - val_accuracy: 0.6280 - val_recall_m: 0.5354 - val_precision_m: 0.6888 - val_f1_m: 0.6017\n",
            "Epoch 97/100\n",
            "82/82 [==============================] - 0s 5ms/step - loss: 0.6800 - accuracy: 0.7180 - recall_m: 0.6255 - precision_m: 0.7906 - f1_m: 0.6975 - val_loss: 1.0443 - val_accuracy: 0.5888 - val_recall_m: 0.4937 - val_precision_m: 0.6633 - val_f1_m: 0.5648\n",
            "Epoch 98/100\n",
            "82/82 [==============================] - 0s 5ms/step - loss: 0.7139 - accuracy: 0.7094 - recall_m: 0.6122 - precision_m: 0.7869 - f1_m: 0.6876 - val_loss: 0.9975 - val_accuracy: 0.6234 - val_recall_m: 0.5443 - val_precision_m: 0.6932 - val_f1_m: 0.6090\n",
            "Epoch 99/100\n",
            "82/82 [==============================] - 0s 5ms/step - loss: 0.6413 - accuracy: 0.7390 - recall_m: 0.6556 - precision_m: 0.8049 - f1_m: 0.7219 - val_loss: 1.0054 - val_accuracy: 0.6218 - val_recall_m: 0.5257 - val_precision_m: 0.6817 - val_f1_m: 0.5926\n",
            "Epoch 100/100\n",
            "82/82 [==============================] - 0s 5ms/step - loss: 0.6222 - accuracy: 0.7392 - recall_m: 0.6593 - precision_m: 0.8032 - f1_m: 0.7232 - val_loss: 1.0463 - val_accuracy: 0.6149 - val_recall_m: 0.5413 - val_precision_m: 0.6784 - val_f1_m: 0.6016\n"
          ]
        },
        {
          "data": {
            "text/plain": [
              "<keras.callbacks.History at 0x7f11146383d0>"
            ]
          },
          "execution_count": 162,
          "metadata": {},
          "output_type": "execute_result"
        }
      ],
      "source": [
        "\n",
        "from keras.optimizers import Adam\n",
        "import tensorflow as tf\n",
        "# Multi Layer Perceptron\n",
        "X_train, X_test, y_train, y_test = train_test_split(X_resampled, y_resampled, test_size=0.2, random_state=42)\n",
        "\n",
        "y_train = to_categorical(y_train, num_classes=5)\n",
        "y_test = to_categorical(y_test, num_classes=5)\n",
        "\n",
        "y_train=np.asarray(y_train ,dtype=int)\n",
        "MLP_model = Sequential()\n",
        "MLP_model.add(Dense(1024, activation='relu',  input_dim = 16 ))\n",
        "MLP_model.add(Dense(512, activation='relu'))\n",
        "MLP_model.add(Dense(256,activation='relu'))\n",
        "MLP_model.add(Dense(128,activation='relu'))\n",
        "MLP_model.add(Dense(64,activation='relu'))\n",
        "MLP_model.add(Dropout(0.3))\n",
        "MLP_model.add(Dense(32,activation='relu'))\n",
        "MLP_model.add(Dense(16,activation='relu'))\n",
        "MLP_model.add(Dense(8,activation='relu'))\n",
        "MLP_model.add(Dense(5,activation='softmax'))\n",
        "\n",
        "MLP_model.compile(optimizer=Adam(learning_rate=1e-3), loss= 'categorical_crossentropy',  \n",
        "              metrics=['accuracy', recall_m, precision_m, f1_m])\n",
        "\n",
        "MLP_model.fit(X_train, y_train, validation_data = (X_test, y_test), epochs= 100, batch_size = 64)"
      ]
    },
    {
      "cell_type": "code",
      "execution_count": null,
      "metadata": {
        "colab": {
          "base_uri": "https://localhost:8080/",
          "height": 1000
        },
        "id": "RWinHyRxsV3B",
        "outputId": "633d71a1-0969-48f8-afab-0d5b4f0a721f"
      },
      "outputs": [
        {
          "name": "stdout",
          "output_type": "stream",
          "text": [
            "Epoch 1/300\n"
          ]
        },
        {
          "name": "stderr",
          "output_type": "stream",
          "text": [
            "/usr/local/lib/python3.8/dist-packages/keras/optimizers/optimizer_v2/adam.py:110: UserWarning: The `lr` argument is deprecated, use `learning_rate` instead.\n",
            "  super(Adam, self).__init__(name, **kwargs)\n"
          ]
        },
        {
          "name": "stdout",
          "output_type": "stream",
          "text": [
            "996/996 [==============================] - 56s 54ms/step - loss: 0.9860 - accuracy: 0.4578 - mse: 0.9860 - f1_m: 0.6183 - precision_m: 592369.5000 - recall_m: 0.5785 - weighted_accuracy: 0.4578 - weighted_mse: 0.9860 - weighted_f1_m: 0.6183 - weighted_precision_m: 592369.5000 - weighted_recall_m: 0.5785 - val_loss: 0.9322 - val_accuracy: 0.4621 - val_mse: 0.9322 - val_f1_m: 0.7170 - val_precision_m: 0.6751 - val_recall_m: 0.7752 - val_weighted_accuracy: 0.4621 - val_weighted_mse: 0.9322 - val_weighted_f1_m: 0.7170 - val_weighted_precision_m: 0.6751 - val_weighted_recall_m: 0.7752\n",
            "Epoch 2/300\n",
            "996/996 [==============================] - 6s 6ms/step - loss: 0.9186 - accuracy: 0.4731 - mse: 0.9186 - f1_m: 0.7186 - precision_m: 0.7750 - recall_m: 0.6897 - weighted_accuracy: 0.4731 - weighted_mse: 0.9186 - weighted_f1_m: 0.7186 - weighted_precision_m: 0.7750 - weighted_recall_m: 0.6897 - val_loss: 0.9127 - val_accuracy: 0.4776 - val_mse: 0.9127 - val_f1_m: 0.7237 - val_precision_m: 0.8199 - val_recall_m: 0.6577 - val_weighted_accuracy: 0.4776 - val_weighted_mse: 0.9127 - val_weighted_f1_m: 0.7237 - val_weighted_precision_m: 0.8199 - val_weighted_recall_m: 0.6577\n",
            "Epoch 3/300\n",
            "996/996 [==============================] - 6s 6ms/step - loss: 0.9154 - accuracy: 0.4747 - mse: 0.9154 - f1_m: 0.7245 - precision_m: 0.7876 - recall_m: 0.6913 - weighted_accuracy: 0.4747 - weighted_mse: 0.9154 - weighted_f1_m: 0.7245 - weighted_precision_m: 0.7876 - weighted_recall_m: 0.6913 - val_loss: 0.9239 - val_accuracy: 0.4747 - val_mse: 0.9239 - val_f1_m: 0.6852 - val_precision_m: 0.8325 - val_recall_m: 0.5926 - val_weighted_accuracy: 0.4747 - val_weighted_mse: 0.9239 - val_weighted_f1_m: 0.6852 - val_weighted_precision_m: 0.8325 - val_weighted_recall_m: 0.5926\n",
            "Epoch 4/300\n",
            "996/996 [==============================] - 6s 6ms/step - loss: 0.9133 - accuracy: 0.4750 - mse: 0.9133 - f1_m: 0.7247 - precision_m: 0.7799 - recall_m: 0.6943 - weighted_accuracy: 0.4750 - weighted_mse: 0.9133 - weighted_f1_m: 0.7247 - weighted_precision_m: 0.7799 - weighted_recall_m: 0.6943 - val_loss: 0.9023 - val_accuracy: 0.4750 - val_mse: 0.9023 - val_f1_m: 0.7319 - val_precision_m: 0.7794 - val_recall_m: 0.6996 - val_weighted_accuracy: 0.4750 - val_weighted_mse: 0.9023 - val_weighted_f1_m: 0.7319 - val_weighted_precision_m: 0.7794 - val_weighted_recall_m: 0.6996\n",
            "Epoch 5/300\n",
            "996/996 [==============================] - 6s 6ms/step - loss: 0.9102 - accuracy: 0.4754 - mse: 0.9102 - f1_m: 0.7308 - precision_m: 0.8077 - recall_m: 0.6850 - weighted_accuracy: 0.4754 - weighted_mse: 0.9102 - weighted_f1_m: 0.7308 - weighted_precision_m: 0.8077 - weighted_recall_m: 0.6850 - val_loss: 0.9012 - val_accuracy: 0.4799 - val_mse: 0.9012 - val_f1_m: 0.7369 - val_precision_m: 0.8239 - val_recall_m: 0.6760 - val_weighted_accuracy: 0.4799 - val_weighted_mse: 0.9012 - val_weighted_f1_m: 0.7369 - val_weighted_precision_m: 0.8239 - val_weighted_recall_m: 0.6760\n",
            "Epoch 6/300\n",
            "996/996 [==============================] - 6s 6ms/step - loss: 0.9086 - accuracy: 0.4759 - mse: 0.9086 - f1_m: 0.7283 - precision_m: 0.8022 - recall_m: 0.6873 - weighted_accuracy: 0.4759 - weighted_mse: 0.9086 - weighted_f1_m: 0.7283 - weighted_precision_m: 0.8022 - weighted_recall_m: 0.6873 - val_loss: 0.9054 - val_accuracy: 0.4774 - val_mse: 0.9054 - val_f1_m: 0.7348 - val_precision_m: 0.7766 - val_recall_m: 0.7076 - val_weighted_accuracy: 0.4774 - val_weighted_mse: 0.9054 - val_weighted_f1_m: 0.7348 - val_weighted_precision_m: 0.7766 - val_weighted_recall_m: 0.7076\n",
            "Epoch 7/300\n",
            "996/996 [==============================] - 6s 6ms/step - loss: 0.9042 - accuracy: 0.4768 - mse: 0.9042 - f1_m: 0.7316 - precision_m: 0.8153 - recall_m: 0.6814 - weighted_accuracy: 0.4768 - weighted_mse: 0.9042 - weighted_f1_m: 0.7316 - weighted_precision_m: 0.8153 - weighted_recall_m: 0.6814 - val_loss: 0.8948 - val_accuracy: 0.4781 - val_mse: 0.8948 - val_f1_m: 0.7338 - val_precision_m: 0.7639 - val_recall_m: 0.7158 - val_weighted_accuracy: 0.4781 - val_weighted_mse: 0.8948 - val_weighted_f1_m: 0.7338 - val_weighted_precision_m: 0.7639 - val_weighted_recall_m: 0.7158\n",
            "Epoch 8/300\n",
            "996/996 [==============================] - 6s 6ms/step - loss: 0.9013 - accuracy: 0.4778 - mse: 0.9013 - f1_m: 0.7317 - precision_m: 0.7928 - recall_m: 0.6966 - weighted_accuracy: 0.4778 - weighted_mse: 0.9013 - weighted_f1_m: 0.7317 - weighted_precision_m: 0.7928 - weighted_recall_m: 0.6966 - val_loss: 0.9169 - val_accuracy: 0.4745 - val_mse: 0.9169 - val_f1_m: 0.6819 - val_precision_m: 0.8698 - val_recall_m: 0.5700 - val_weighted_accuracy: 0.4745 - val_weighted_mse: 0.9169 - val_weighted_f1_m: 0.6819 - val_weighted_precision_m: 0.8698 - val_weighted_recall_m: 0.5700\n",
            "Epoch 9/300\n",
            "996/996 [==============================] - 6s 6ms/step - loss: 0.8996 - accuracy: 0.4784 - mse: 0.8996 - f1_m: 0.7331 - precision_m: 0.8313 - recall_m: 0.6746 - weighted_accuracy: 0.4784 - weighted_mse: 0.8996 - weighted_f1_m: 0.7331 - weighted_precision_m: 0.8313 - weighted_recall_m: 0.6746 - val_loss: 0.8923 - val_accuracy: 0.4823 - val_mse: 0.8923 - val_f1_m: 0.7392 - val_precision_m: 0.8176 - val_recall_m: 0.6841 - val_weighted_accuracy: 0.4823 - val_weighted_mse: 0.8923 - val_weighted_f1_m: 0.7392 - val_weighted_precision_m: 0.8176 - val_weighted_recall_m: 0.6841\n",
            "Epoch 10/300\n",
            "996/996 [==============================] - 6s 6ms/step - loss: 0.8956 - accuracy: 0.4796 - mse: 0.8956 - f1_m: 0.7348 - precision_m: 0.8163 - recall_m: 0.6842 - weighted_accuracy: 0.4796 - weighted_mse: 0.8956 - weighted_f1_m: 0.7348 - weighted_precision_m: 0.8163 - weighted_recall_m: 0.6842 - val_loss: 0.8922 - val_accuracy: 0.4791 - val_mse: 0.8922 - val_f1_m: 0.7315 - val_precision_m: 0.8696 - val_recall_m: 0.6413 - val_weighted_accuracy: 0.4791 - val_weighted_mse: 0.8922 - val_weighted_f1_m: 0.7315 - val_weighted_precision_m: 0.8696 - val_weighted_recall_m: 0.6413\n",
            "Epoch 11/300\n",
            "996/996 [==============================] - 6s 6ms/step - loss: 0.8939 - accuracy: 0.4787 - mse: 0.8939 - f1_m: 0.7360 - precision_m: 0.8153 - recall_m: 0.6866 - weighted_accuracy: 0.4787 - weighted_mse: 0.8939 - weighted_f1_m: 0.7360 - weighted_precision_m: 0.8153 - weighted_recall_m: 0.6866 - val_loss: 0.8947 - val_accuracy: 0.4772 - val_mse: 0.8947 - val_f1_m: 0.7343 - val_precision_m: 0.7355 - val_recall_m: 0.7434 - val_weighted_accuracy: 0.4772 - val_weighted_mse: 0.8947 - val_weighted_f1_m: 0.7343 - val_weighted_precision_m: 0.7355 - val_weighted_recall_m: 0.7434\n",
            "Epoch 12/300\n",
            "996/996 [==============================] - 6s 6ms/step - loss: 0.8934 - accuracy: 0.4788 - mse: 0.8934 - f1_m: 0.7342 - precision_m: 0.8025 - recall_m: 0.6918 - weighted_accuracy: 0.4788 - weighted_mse: 0.8934 - weighted_f1_m: 0.7342 - weighted_precision_m: 0.8025 - weighted_recall_m: 0.6918 - val_loss: 0.8948 - val_accuracy: 0.4829 - val_mse: 0.8948 - val_f1_m: 0.7218 - val_precision_m: 0.8707 - val_recall_m: 0.6257 - val_weighted_accuracy: 0.4829 - val_weighted_mse: 0.8948 - val_weighted_f1_m: 0.7218 - val_weighted_precision_m: 0.8707 - val_weighted_recall_m: 0.6257\n",
            "Epoch 13/300\n",
            "996/996 [==============================] - 6s 6ms/step - loss: 0.8909 - accuracy: 0.4794 - mse: 0.8909 - f1_m: 0.7340 - precision_m: 0.7949 - recall_m: 0.6960 - weighted_accuracy: 0.4794 - weighted_mse: 0.8909 - weighted_f1_m: 0.7340 - weighted_precision_m: 0.7949 - weighted_recall_m: 0.6960 - val_loss: 0.8874 - val_accuracy: 0.4812 - val_mse: 0.8874 - val_f1_m: 0.7289 - val_precision_m: 0.8500 - val_recall_m: 0.6469 - val_weighted_accuracy: 0.4812 - val_weighted_mse: 0.8874 - val_weighted_f1_m: 0.7289 - val_weighted_precision_m: 0.8500 - val_weighted_recall_m: 0.6469\n",
            "Epoch 14/300\n",
            "996/996 [==============================] - 6s 6ms/step - loss: 0.8899 - accuracy: 0.4801 - mse: 0.8899 - f1_m: 0.7339 - precision_m: 0.8046 - recall_m: 0.6894 - weighted_accuracy: 0.4801 - weighted_mse: 0.8899 - weighted_f1_m: 0.7339 - weighted_precision_m: 0.8046 - weighted_recall_m: 0.6894 - val_loss: 0.8854 - val_accuracy: 0.4808 - val_mse: 0.8854 - val_f1_m: 0.7391 - val_precision_m: 0.8186 - val_recall_m: 0.6835 - val_weighted_accuracy: 0.4808 - val_weighted_mse: 0.8854 - val_weighted_f1_m: 0.7391 - val_weighted_precision_m: 0.8186 - val_weighted_recall_m: 0.6835\n",
            "Epoch 15/300\n",
            "996/996 [==============================] - 6s 6ms/step - loss: 0.8876 - accuracy: 0.4806 - mse: 0.8876 - f1_m: 0.7333 - precision_m: 0.8076 - recall_m: 0.6857 - weighted_accuracy: 0.4806 - weighted_mse: 0.8876 - weighted_f1_m: 0.7333 - weighted_precision_m: 0.8076 - weighted_recall_m: 0.6857 - val_loss: 0.8873 - val_accuracy: 0.4831 - val_mse: 0.8873 - val_f1_m: 0.7320 - val_precision_m: 0.8505 - val_recall_m: 0.6521 - val_weighted_accuracy: 0.4831 - val_weighted_mse: 0.8873 - val_weighted_f1_m: 0.7320 - val_weighted_precision_m: 0.8505 - val_weighted_recall_m: 0.6521\n",
            "Epoch 16/300\n",
            "996/996 [==============================] - 6s 6ms/step - loss: 0.8881 - accuracy: 0.4810 - mse: 0.8881 - f1_m: 0.7361 - precision_m: 0.8110 - recall_m: 0.6888 - weighted_accuracy: 0.4810 - weighted_mse: 0.8881 - weighted_f1_m: 0.7361 - weighted_precision_m: 0.8110 - weighted_recall_m: 0.6888 - val_loss: 0.8943 - val_accuracy: 0.4803 - val_mse: 0.8943 - val_f1_m: 0.7409 - val_precision_m: 0.7399 - val_recall_m: 0.7522 - val_weighted_accuracy: 0.4803 - val_weighted_mse: 0.8943 - val_weighted_f1_m: 0.7409 - val_weighted_precision_m: 0.7399 - val_weighted_recall_m: 0.7522\n",
            "Epoch 17/300\n",
            "996/996 [==============================] - 6s 6ms/step - loss: 0.8859 - accuracy: 0.4829 - mse: 0.8859 - f1_m: 0.7392 - precision_m: 0.8141 - recall_m: 0.6895 - weighted_accuracy: 0.4829 - weighted_mse: 0.8859 - weighted_f1_m: 0.7392 - weighted_precision_m: 0.8141 - weighted_recall_m: 0.6895 - val_loss: 0.8877 - val_accuracy: 0.4779 - val_mse: 0.8877 - val_f1_m: 0.7341 - val_precision_m: 0.7645 - val_recall_m: 0.7153 - val_weighted_accuracy: 0.4779 - val_weighted_mse: 0.8877 - val_weighted_f1_m: 0.7341 - val_weighted_precision_m: 0.7645 - val_weighted_recall_m: 0.7153\n",
            "Epoch 18/300\n",
            "996/996 [==============================] - 6s 6ms/step - loss: 0.8850 - accuracy: 0.4819 - mse: 0.8850 - f1_m: 0.7373 - precision_m: 0.8002 - recall_m: 0.6976 - weighted_accuracy: 0.4819 - weighted_mse: 0.8850 - weighted_f1_m: 0.7373 - weighted_precision_m: 0.8002 - weighted_recall_m: 0.6976 - val_loss: 0.8864 - val_accuracy: 0.4809 - val_mse: 0.8864 - val_f1_m: 0.7251 - val_precision_m: 0.8253 - val_recall_m: 0.6569 - val_weighted_accuracy: 0.4809 - val_weighted_mse: 0.8864 - val_weighted_f1_m: 0.7251 - val_weighted_precision_m: 0.8253 - val_weighted_recall_m: 0.6569\n",
            "Epoch 19/300\n",
            "996/996 [==============================] - 6s 6ms/step - loss: 0.8842 - accuracy: 0.4802 - mse: 0.8842 - f1_m: 0.7347 - precision_m: 0.8089 - recall_m: 0.6862 - weighted_accuracy: 0.4802 - weighted_mse: 0.8842 - weighted_f1_m: 0.7347 - weighted_precision_m: 0.8089 - weighted_recall_m: 0.6862 - val_loss: 0.8862 - val_accuracy: 0.4785 - val_mse: 0.8862 - val_f1_m: 0.7345 - val_precision_m: 0.7785 - val_recall_m: 0.7046 - val_weighted_accuracy: 0.4785 - val_weighted_mse: 0.8862 - val_weighted_f1_m: 0.7345 - val_weighted_precision_m: 0.7785 - val_weighted_recall_m: 0.7046\n",
            "Epoch 20/300\n",
            "996/996 [==============================] - 6s 6ms/step - loss: 0.8853 - accuracy: 0.4824 - mse: 0.8853 - f1_m: 0.7406 - precision_m: 0.8293 - recall_m: 0.6816 - weighted_accuracy: 0.4824 - weighted_mse: 0.8853 - weighted_f1_m: 0.7406 - weighted_precision_m: 0.8293 - weighted_recall_m: 0.6816 - val_loss: 0.8854 - val_accuracy: 0.4815 - val_mse: 0.8854 - val_f1_m: 0.7402 - val_precision_m: 0.8680 - val_recall_m: 0.6552 - val_weighted_accuracy: 0.4815 - val_weighted_mse: 0.8854 - val_weighted_f1_m: 0.7402 - val_weighted_precision_m: 0.8680 - val_weighted_recall_m: 0.6552\n",
            "Epoch 21/300\n",
            "996/996 [==============================] - 6s 6ms/step - loss: 0.8839 - accuracy: 0.4817 - mse: 0.8839 - f1_m: 0.7406 - precision_m: 0.8304 - recall_m: 0.6812 - weighted_accuracy: 0.4817 - weighted_mse: 0.8839 - weighted_f1_m: 0.7406 - weighted_precision_m: 0.8304 - weighted_recall_m: 0.6812 - val_loss: 0.8816 - val_accuracy: 0.4820 - val_mse: 0.8816 - val_f1_m: 0.7401 - val_precision_m: 0.8340 - val_recall_m: 0.6744 - val_weighted_accuracy: 0.4820 - val_weighted_mse: 0.8816 - val_weighted_f1_m: 0.7401 - val_weighted_precision_m: 0.8340 - val_weighted_recall_m: 0.6744\n",
            "Epoch 22/300\n",
            "996/996 [==============================] - 6s 6ms/step - loss: 0.8822 - accuracy: 0.4821 - mse: 0.8822 - f1_m: 0.7376 - precision_m: 0.8063 - recall_m: 0.6927 - weighted_accuracy: 0.4821 - weighted_mse: 0.8822 - weighted_f1_m: 0.7376 - weighted_precision_m: 0.8063 - weighted_recall_m: 0.6927 - val_loss: 0.8853 - val_accuracy: 0.4804 - val_mse: 0.8853 - val_f1_m: 0.7401 - val_precision_m: 0.7633 - val_recall_m: 0.7286 - val_weighted_accuracy: 0.4804 - val_weighted_mse: 0.8853 - val_weighted_f1_m: 0.7401 - val_weighted_precision_m: 0.7633 - val_weighted_recall_m: 0.7286\n",
            "Epoch 23/300\n",
            "996/996 [==============================] - 6s 6ms/step - loss: 0.8823 - accuracy: 0.4817 - mse: 0.8823 - f1_m: 0.7387 - precision_m: 0.8111 - recall_m: 0.6911 - weighted_accuracy: 0.4817 - weighted_mse: 0.8823 - weighted_f1_m: 0.7387 - weighted_precision_m: 0.8111 - weighted_recall_m: 0.6911 - val_loss: 0.8869 - val_accuracy: 0.4800 - val_mse: 0.8869 - val_f1_m: 0.7223 - val_precision_m: 0.8292 - val_recall_m: 0.6496 - val_weighted_accuracy: 0.4800 - val_weighted_mse: 0.8869 - val_weighted_f1_m: 0.7223 - val_weighted_precision_m: 0.8292 - val_weighted_recall_m: 0.6496\n",
            "Epoch 24/300\n",
            "996/996 [==============================] - 6s 6ms/step - loss: 0.8798 - accuracy: 0.4823 - mse: 0.8798 - f1_m: 0.7391 - precision_m: 0.8165 - recall_m: 0.6872 - weighted_accuracy: 0.4823 - weighted_mse: 0.8798 - weighted_f1_m: 0.7391 - weighted_precision_m: 0.8165 - weighted_recall_m: 0.6872 - val_loss: 0.8804 - val_accuracy: 0.4811 - val_mse: 0.8804 - val_f1_m: 0.7389 - val_precision_m: 0.7774 - val_recall_m: 0.7137 - val_weighted_accuracy: 0.4811 - val_weighted_mse: 0.8804 - val_weighted_f1_m: 0.7389 - val_weighted_precision_m: 0.7774 - val_weighted_recall_m: 0.7137\n",
            "Epoch 25/300\n",
            "996/996 [==============================] - 6s 6ms/step - loss: 0.8823 - accuracy: 0.4819 - mse: 0.8823 - f1_m: 0.7391 - precision_m: 0.8318 - recall_m: 0.6784 - weighted_accuracy: 0.4819 - weighted_mse: 0.8823 - weighted_f1_m: 0.7391 - weighted_precision_m: 0.8318 - weighted_recall_m: 0.6784 - val_loss: 0.8801 - val_accuracy: 0.4854 - val_mse: 0.8801 - val_f1_m: 0.7399 - val_precision_m: 0.8288 - val_recall_m: 0.6773 - val_weighted_accuracy: 0.4854 - val_weighted_mse: 0.8801 - val_weighted_f1_m: 0.7399 - val_weighted_precision_m: 0.8288 - val_weighted_recall_m: 0.6773\n",
            "Epoch 26/300\n",
            "996/996 [==============================] - 6s 6ms/step - loss: 0.8789 - accuracy: 0.4827 - mse: 0.8789 - f1_m: 0.7428 - precision_m: 0.8271 - recall_m: 0.6870 - weighted_accuracy: 0.4827 - weighted_mse: 0.8789 - weighted_f1_m: 0.7428 - weighted_precision_m: 0.8271 - weighted_recall_m: 0.6870 - val_loss: 0.8777 - val_accuracy: 0.4830 - val_mse: 0.8777 - val_f1_m: 0.7415 - val_precision_m: 0.8553 - val_recall_m: 0.6643 - val_weighted_accuracy: 0.4830 - val_weighted_mse: 0.8777 - val_weighted_f1_m: 0.7415 - val_weighted_precision_m: 0.8553 - val_weighted_recall_m: 0.6643\n",
            "Epoch 27/300\n",
            "996/996 [==============================] - 6s 6ms/step - loss: 0.8779 - accuracy: 0.4828 - mse: 0.8779 - f1_m: 0.7424 - precision_m: 0.8179 - recall_m: 0.6926 - weighted_accuracy: 0.4828 - weighted_mse: 0.8779 - weighted_f1_m: 0.7424 - weighted_precision_m: 0.8179 - weighted_recall_m: 0.6926 - val_loss: 0.8844 - val_accuracy: 0.4817 - val_mse: 0.8844 - val_f1_m: 0.7450 - val_precision_m: 0.8236 - val_recall_m: 0.6902 - val_weighted_accuracy: 0.4817 - val_weighted_mse: 0.8844 - val_weighted_f1_m: 0.7450 - val_weighted_precision_m: 0.8236 - val_weighted_recall_m: 0.6902\n",
            "Epoch 28/300\n",
            "996/996 [==============================] - 6s 6ms/step - loss: 0.8785 - accuracy: 0.4827 - mse: 0.8785 - f1_m: 0.7426 - precision_m: 0.8295 - recall_m: 0.6843 - weighted_accuracy: 0.4827 - weighted_mse: 0.8785 - weighted_f1_m: 0.7426 - weighted_precision_m: 0.8295 - weighted_recall_m: 0.6843 - val_loss: 0.8770 - val_accuracy: 0.4843 - val_mse: 0.8770 - val_f1_m: 0.7409 - val_precision_m: 0.8364 - val_recall_m: 0.6741 - val_weighted_accuracy: 0.4843 - val_weighted_mse: 0.8770 - val_weighted_f1_m: 0.7409 - val_weighted_precision_m: 0.8364 - val_weighted_recall_m: 0.6741\n",
            "Epoch 29/300\n",
            "996/996 [==============================] - 6s 6ms/step - loss: 0.8756 - accuracy: 0.4830 - mse: 0.8756 - f1_m: 0.7433 - precision_m: 0.8192 - recall_m: 0.6921 - weighted_accuracy: 0.4830 - weighted_mse: 0.8756 - weighted_f1_m: 0.7433 - weighted_precision_m: 0.8192 - weighted_recall_m: 0.6921 - val_loss: 0.8845 - val_accuracy: 0.4812 - val_mse: 0.8845 - val_f1_m: 0.7374 - val_precision_m: 0.7636 - val_recall_m: 0.7223 - val_weighted_accuracy: 0.4812 - val_weighted_mse: 0.8845 - val_weighted_f1_m: 0.7374 - val_weighted_precision_m: 0.7636 - val_weighted_recall_m: 0.7223\n",
            "Epoch 30/300\n",
            "996/996 [==============================] - 6s 6ms/step - loss: 0.8899 - accuracy: 0.4811 - mse: 0.8899 - f1_m: 0.7346 - precision_m: 0.8133 - recall_m: 0.6851 - weighted_accuracy: 0.4811 - weighted_mse: 0.8899 - weighted_f1_m: 0.7346 - weighted_precision_m: 0.8133 - weighted_recall_m: 0.6851 - val_loss: 0.8918 - val_accuracy: 0.4824 - val_mse: 0.8918 - val_f1_m: 0.7291 - val_precision_m: 0.7950 - val_recall_m: 0.6829 - val_weighted_accuracy: 0.4824 - val_weighted_mse: 0.8918 - val_weighted_f1_m: 0.7291 - val_weighted_precision_m: 0.7950 - val_weighted_recall_m: 0.6829\n",
            "Epoch 31/300\n",
            "996/996 [==============================] - 5s 6ms/step - loss: 0.8764 - accuracy: 0.4823 - mse: 0.8764 - f1_m: 0.7427 - precision_m: 0.8139 - recall_m: 0.6946 - weighted_accuracy: 0.4823 - weighted_mse: 0.8764 - weighted_f1_m: 0.7427 - weighted_precision_m: 0.8139 - weighted_recall_m: 0.6946 - val_loss: 0.9002 - val_accuracy: 0.4811 - val_mse: 0.9002 - val_f1_m: 0.6988 - val_precision_m: 0.8800 - val_recall_m: 0.5883 - val_weighted_accuracy: 0.4811 - val_weighted_mse: 0.9002 - val_weighted_f1_m: 0.6988 - val_weighted_precision_m: 0.8800 - val_weighted_recall_m: 0.5883\n",
            "Epoch 32/300\n",
            "996/996 [==============================] - 6s 6ms/step - loss: 0.8758 - accuracy: 0.4838 - mse: 0.8758 - f1_m: 0.7435 - precision_m: 0.8169 - recall_m: 0.6923 - weighted_accuracy: 0.4838 - weighted_mse: 0.8758 - weighted_f1_m: 0.7435 - weighted_precision_m: 0.8169 - weighted_recall_m: 0.6923 - val_loss: 0.8802 - val_accuracy: 0.4846 - val_mse: 0.8802 - val_f1_m: 0.7285 - val_precision_m: 0.8272 - val_recall_m: 0.6599 - val_weighted_accuracy: 0.4846 - val_weighted_mse: 0.8802 - val_weighted_f1_m: 0.7285 - val_weighted_precision_m: 0.8272 - val_weighted_recall_m: 0.6599\n",
            "Epoch 33/300\n",
            "996/996 [==============================] - 7s 7ms/step - loss: 0.8754 - accuracy: 0.4830 - mse: 0.8754 - f1_m: 0.7431 - precision_m: 0.8156 - recall_m: 0.6942 - weighted_accuracy: 0.4830 - weighted_mse: 0.8754 - weighted_f1_m: 0.7431 - weighted_precision_m: 0.8156 - weighted_recall_m: 0.6942 - val_loss: 0.8773 - val_accuracy: 0.4826 - val_mse: 0.8773 - val_f1_m: 0.7427 - val_precision_m: 0.8063 - val_recall_m: 0.6976 - val_weighted_accuracy: 0.4826 - val_weighted_mse: 0.8773 - val_weighted_f1_m: 0.7427 - val_weighted_precision_m: 0.8063 - val_weighted_recall_m: 0.6976\n",
            "Epoch 34/300\n",
            "996/996 [==============================] - 6s 6ms/step - loss: 0.8757 - accuracy: 0.4828 - mse: 0.8757 - f1_m: 0.7426 - precision_m: 0.8219 - recall_m: 0.6892 - weighted_accuracy: 0.4828 - weighted_mse: 0.8757 - weighted_f1_m: 0.7426 - weighted_precision_m: 0.8219 - weighted_recall_m: 0.6892 - val_loss: 0.8819 - val_accuracy: 0.4831 - val_mse: 0.8819 - val_f1_m: 0.7260 - val_precision_m: 0.8455 - val_recall_m: 0.6455 - val_weighted_accuracy: 0.4831 - val_weighted_mse: 0.8819 - val_weighted_f1_m: 0.7260 - val_weighted_precision_m: 0.8455 - val_weighted_recall_m: 0.6455\n",
            "Epoch 35/300\n",
            "996/996 [==============================] - 6s 6ms/step - loss: 0.8755 - accuracy: 0.4831 - mse: 0.8755 - f1_m: 0.7425 - precision_m: 0.8113 - recall_m: 0.6966 - weighted_accuracy: 0.4831 - weighted_mse: 0.8755 - weighted_f1_m: 0.7425 - weighted_precision_m: 0.8113 - weighted_recall_m: 0.6966 - val_loss: 0.8818 - val_accuracy: 0.4837 - val_mse: 0.8818 - val_f1_m: 0.7318 - val_precision_m: 0.8607 - val_recall_m: 0.6455 - val_weighted_accuracy: 0.4837 - val_weighted_mse: 0.8818 - val_weighted_f1_m: 0.7318 - val_weighted_precision_m: 0.8607 - val_weighted_recall_m: 0.6455\n",
            "Epoch 36/300\n",
            "996/996 [==============================] - 6s 6ms/step - loss: 0.8730 - accuracy: 0.4844 - mse: 0.8730 - f1_m: 0.7450 - precision_m: 0.8142 - recall_m: 0.6971 - weighted_accuracy: 0.4844 - weighted_mse: 0.8730 - weighted_f1_m: 0.7450 - weighted_precision_m: 0.8142 - weighted_recall_m: 0.6971 - val_loss: 0.8826 - val_accuracy: 0.4820 - val_mse: 0.8826 - val_f1_m: 0.7247 - val_precision_m: 0.8441 - val_recall_m: 0.6445 - val_weighted_accuracy: 0.4820 - val_weighted_mse: 0.8826 - val_weighted_f1_m: 0.7247 - val_weighted_precision_m: 0.8441 - val_weighted_recall_m: 0.6445\n",
            "Epoch 37/300\n",
            "996/996 [==============================] - 6s 6ms/step - loss: 0.8803 - accuracy: 0.4829 - mse: 0.8803 - f1_m: 0.7392 - precision_m: 0.8278 - recall_m: 0.6796 - weighted_accuracy: 0.4829 - weighted_mse: 0.8803 - weighted_f1_m: 0.7392 - weighted_precision_m: 0.8278 - weighted_recall_m: 0.6796 - val_loss: 0.8943 - val_accuracy: 0.4795 - val_mse: 0.8943 - val_f1_m: 0.7375 - val_precision_m: 0.7809 - val_recall_m: 0.7086 - val_weighted_accuracy: 0.4795 - val_weighted_mse: 0.8943 - val_weighted_f1_m: 0.7375 - val_weighted_precision_m: 0.7809 - val_weighted_recall_m: 0.7086\n",
            "Epoch 38/300\n",
            "996/996 [==============================] - 6s 6ms/step - loss: 0.8780 - accuracy: 0.4834 - mse: 0.8780 - f1_m: 0.7433 - precision_m: 0.8270 - recall_m: 0.6861 - weighted_accuracy: 0.4834 - weighted_mse: 0.8780 - weighted_f1_m: 0.7433 - weighted_precision_m: 0.8270 - weighted_recall_m: 0.6861 - val_loss: 0.8803 - val_accuracy: 0.4849 - val_mse: 0.8803 - val_f1_m: 0.7441 - val_precision_m: 0.7974 - val_recall_m: 0.7072 - val_weighted_accuracy: 0.4849 - val_weighted_mse: 0.8803 - val_weighted_f1_m: 0.7441 - val_weighted_precision_m: 0.7974 - val_weighted_recall_m: 0.7072\n",
            "Epoch 39/300\n",
            "996/996 [==============================] - 6s 6ms/step - loss: 0.8735 - accuracy: 0.4842 - mse: 0.8735 - f1_m: 0.7441 - precision_m: 0.8237 - recall_m: 0.6898 - weighted_accuracy: 0.4842 - weighted_mse: 0.8735 - weighted_f1_m: 0.7441 - weighted_precision_m: 0.8237 - weighted_recall_m: 0.6898 - val_loss: 0.8761 - val_accuracy: 0.4869 - val_mse: 0.8761 - val_f1_m: 0.7414 - val_precision_m: 0.8506 - val_recall_m: 0.6662 - val_weighted_accuracy: 0.4869 - val_weighted_mse: 0.8761 - val_weighted_f1_m: 0.7414 - val_weighted_precision_m: 0.8506 - val_weighted_recall_m: 0.6662\n",
            "Epoch 40/300\n",
            "996/996 [==============================] - 6s 6ms/step - loss: 0.8734 - accuracy: 0.4846 - mse: 0.8734 - f1_m: 0.7448 - precision_m: 0.8238 - recall_m: 0.6923 - weighted_accuracy: 0.4846 - weighted_mse: 0.8734 - weighted_f1_m: 0.7448 - weighted_precision_m: 0.8238 - weighted_recall_m: 0.6923 - val_loss: 0.8938 - val_accuracy: 0.4824 - val_mse: 0.8938 - val_f1_m: 0.7373 - val_precision_m: 0.7838 - val_recall_m: 0.7049 - val_weighted_accuracy: 0.4824 - val_weighted_mse: 0.8938 - val_weighted_f1_m: 0.7373 - val_weighted_precision_m: 0.7838 - val_weighted_recall_m: 0.7049\n",
            "Epoch 41/300\n",
            "996/996 [==============================] - 8s 8ms/step - loss: 0.8726 - accuracy: 0.4845 - mse: 0.8726 - f1_m: 0.7462 - precision_m: 0.8281 - recall_m: 0.6909 - weighted_accuracy: 0.4845 - weighted_mse: 0.8726 - weighted_f1_m: 0.7462 - weighted_precision_m: 0.8281 - weighted_recall_m: 0.6909 - val_loss: 0.8756 - val_accuracy: 0.4855 - val_mse: 0.8756 - val_f1_m: 0.7457 - val_precision_m: 0.8222 - val_recall_m: 0.6915 - val_weighted_accuracy: 0.4855 - val_weighted_mse: 0.8756 - val_weighted_f1_m: 0.7457 - val_weighted_precision_m: 0.8222 - val_weighted_recall_m: 0.6915\n",
            "Epoch 42/300\n",
            "996/996 [==============================] - 6s 6ms/step - loss: 0.8730 - accuracy: 0.4841 - mse: 0.8730 - f1_m: 0.7461 - precision_m: 0.8300 - recall_m: 0.6892 - weighted_accuracy: 0.4841 - weighted_mse: 0.8730 - weighted_f1_m: 0.7461 - weighted_precision_m: 0.8300 - weighted_recall_m: 0.6892 - val_loss: 0.8771 - val_accuracy: 0.4822 - val_mse: 0.8771 - val_f1_m: 0.7474 - val_precision_m: 0.8163 - val_recall_m: 0.6985 - val_weighted_accuracy: 0.4822 - val_weighted_mse: 0.8771 - val_weighted_f1_m: 0.7474 - val_weighted_precision_m: 0.8163 - val_weighted_recall_m: 0.6985\n",
            "Epoch 43/300\n",
            "996/996 [==============================] - 6s 6ms/step - loss: 0.8725 - accuracy: 0.4842 - mse: 0.8725 - f1_m: 0.7470 - precision_m: 0.8214 - recall_m: 0.6967 - weighted_accuracy: 0.4842 - weighted_mse: 0.8725 - weighted_f1_m: 0.7470 - weighted_precision_m: 0.8214 - weighted_recall_m: 0.6967 - val_loss: 0.8783 - val_accuracy: 0.4815 - val_mse: 0.8783 - val_f1_m: 0.7332 - val_precision_m: 0.8080 - val_recall_m: 0.6806 - val_weighted_accuracy: 0.4815 - val_weighted_mse: 0.8783 - val_weighted_f1_m: 0.7332 - val_weighted_precision_m: 0.8080 - val_weighted_recall_m: 0.6806\n",
            "Epoch 44/300\n",
            "996/996 [==============================] - 6s 6ms/step - loss: 0.8719 - accuracy: 0.4842 - mse: 0.8719 - f1_m: 0.7462 - precision_m: 0.8258 - recall_m: 0.6923 - weighted_accuracy: 0.4842 - weighted_mse: 0.8719 - weighted_f1_m: 0.7462 - weighted_precision_m: 0.8258 - weighted_recall_m: 0.6923 - val_loss: 0.8775 - val_accuracy: 0.4852 - val_mse: 0.8775 - val_f1_m: 0.7381 - val_precision_m: 0.8384 - val_recall_m: 0.6684 - val_weighted_accuracy: 0.4852 - val_weighted_mse: 0.8775 - val_weighted_f1_m: 0.7381 - val_weighted_precision_m: 0.8384 - val_weighted_recall_m: 0.6684\n",
            "Epoch 45/300\n",
            "996/996 [==============================] - 6s 6ms/step - loss: 0.8715 - accuracy: 0.4843 - mse: 0.8715 - f1_m: 0.7467 - precision_m: 0.8188 - recall_m: 0.6979 - weighted_accuracy: 0.4843 - weighted_mse: 0.8715 - weighted_f1_m: 0.7467 - weighted_precision_m: 0.8188 - weighted_recall_m: 0.6979 - val_loss: 0.8823 - val_accuracy: 0.4804 - val_mse: 0.8823 - val_f1_m: 0.7385 - val_precision_m: 0.8000 - val_recall_m: 0.6954 - val_weighted_accuracy: 0.4804 - val_weighted_mse: 0.8823 - val_weighted_f1_m: 0.7385 - val_weighted_precision_m: 0.8000 - val_weighted_recall_m: 0.6954\n",
            "Epoch 46/300\n",
            "996/996 [==============================] - 6s 6ms/step - loss: 0.8709 - accuracy: 0.4844 - mse: 0.8709 - f1_m: 0.7469 - precision_m: 0.8170 - recall_m: 0.6987 - weighted_accuracy: 0.4844 - weighted_mse: 0.8709 - weighted_f1_m: 0.7469 - weighted_precision_m: 0.8170 - weighted_recall_m: 0.6987 - val_loss: 0.8788 - val_accuracy: 0.4843 - val_mse: 0.8788 - val_f1_m: 0.7351 - val_precision_m: 0.7945 - val_recall_m: 0.6926 - val_weighted_accuracy: 0.4843 - val_weighted_mse: 0.8788 - val_weighted_f1_m: 0.7351 - val_weighted_precision_m: 0.7945 - val_weighted_recall_m: 0.6926\n",
            "Epoch 47/300\n",
            "996/996 [==============================] - 8s 8ms/step - loss: 0.8711 - accuracy: 0.4855 - mse: 0.8711 - f1_m: 0.7454 - precision_m: 0.8158 - recall_m: 0.6976 - weighted_accuracy: 0.4855 - weighted_mse: 0.8711 - weighted_f1_m: 0.7454 - weighted_precision_m: 0.8158 - weighted_recall_m: 0.6976 - val_loss: 0.8748 - val_accuracy: 0.4866 - val_mse: 0.8748 - val_f1_m: 0.7463 - val_precision_m: 0.8165 - val_recall_m: 0.6961 - val_weighted_accuracy: 0.4866 - val_weighted_mse: 0.8748 - val_weighted_f1_m: 0.7463 - val_weighted_precision_m: 0.8165 - val_weighted_recall_m: 0.6961\n",
            "Epoch 48/300\n",
            "996/996 [==============================] - 6s 6ms/step - loss: 0.8739 - accuracy: 0.4845 - mse: 0.8739 - f1_m: 0.7452 - precision_m: 0.8239 - recall_m: 0.6911 - weighted_accuracy: 0.4845 - weighted_mse: 0.8739 - weighted_f1_m: 0.7452 - weighted_precision_m: 0.8239 - weighted_recall_m: 0.6911 - val_loss: 0.8737 - val_accuracy: 0.4845 - val_mse: 0.8737 - val_f1_m: 0.7464 - val_precision_m: 0.8359 - val_recall_m: 0.6834 - val_weighted_accuracy: 0.4845 - val_weighted_mse: 0.8737 - val_weighted_f1_m: 0.7464 - val_weighted_precision_m: 0.8359 - val_weighted_recall_m: 0.6834\n",
            "Epoch 49/300\n",
            "996/996 [==============================] - 6s 6ms/step - loss: 0.8723 - accuracy: 0.4835 - mse: 0.8723 - f1_m: 0.7429 - precision_m: 0.8218 - recall_m: 0.6900 - weighted_accuracy: 0.4835 - weighted_mse: 0.8723 - weighted_f1_m: 0.7429 - weighted_precision_m: 0.8218 - weighted_recall_m: 0.6900 - val_loss: 0.8955 - val_accuracy: 0.4818 - val_mse: 0.8955 - val_f1_m: 0.7054 - val_precision_m: 0.9003 - val_recall_m: 0.5889 - val_weighted_accuracy: 0.4818 - val_weighted_mse: 0.8955 - val_weighted_f1_m: 0.7054 - val_weighted_precision_m: 0.9003 - val_weighted_recall_m: 0.5889\n",
            "Epoch 50/300\n",
            "996/996 [==============================] - 6s 6ms/step - loss: 0.8760 - accuracy: 0.4835 - mse: 0.8760 - f1_m: 0.7437 - precision_m: 0.8299 - recall_m: 0.6855 - weighted_accuracy: 0.4835 - weighted_mse: 0.8760 - weighted_f1_m: 0.7437 - weighted_precision_m: 0.8299 - weighted_recall_m: 0.6855 - val_loss: 0.8785 - val_accuracy: 0.4857 - val_mse: 0.8785 - val_f1_m: 0.7479 - val_precision_m: 0.8217 - val_recall_m: 0.6952 - val_weighted_accuracy: 0.4857 - val_weighted_mse: 0.8785 - val_weighted_f1_m: 0.7479 - val_weighted_precision_m: 0.8217 - val_weighted_recall_m: 0.6952\n",
            "Epoch 51/300\n",
            "996/996 [==============================] - 6s 6ms/step - loss: 0.8707 - accuracy: 0.4841 - mse: 0.8707 - f1_m: 0.7478 - precision_m: 0.8247 - recall_m: 0.6958 - weighted_accuracy: 0.4841 - weighted_mse: 0.8707 - weighted_f1_m: 0.7478 - weighted_precision_m: 0.8247 - weighted_recall_m: 0.6958 - val_loss: 0.8761 - val_accuracy: 0.4840 - val_mse: 0.8761 - val_f1_m: 0.7398 - val_precision_m: 0.7911 - val_recall_m: 0.7035 - val_weighted_accuracy: 0.4840 - val_weighted_mse: 0.8761 - val_weighted_f1_m: 0.7398 - val_weighted_precision_m: 0.7911 - val_weighted_recall_m: 0.7035\n",
            "Epoch 52/300\n",
            "996/996 [==============================] - 6s 6ms/step - loss: 0.8686 - accuracy: 0.4835 - mse: 0.8686 - f1_m: 0.7452 - precision_m: 0.8111 - recall_m: 0.6999 - weighted_accuracy: 0.4835 - weighted_mse: 0.8686 - weighted_f1_m: 0.7452 - weighted_precision_m: 0.8111 - weighted_recall_m: 0.6999 - val_loss: 0.8737 - val_accuracy: 0.4860 - val_mse: 0.8737 - val_f1_m: 0.7418 - val_precision_m: 0.8081 - val_recall_m: 0.6944 - val_weighted_accuracy: 0.4860 - val_weighted_mse: 0.8737 - val_weighted_f1_m: 0.7418 - val_weighted_precision_m: 0.8081 - val_weighted_recall_m: 0.6944\n",
            "Epoch 53/300\n",
            "996/996 [==============================] - 6s 6ms/step - loss: 0.8701 - accuracy: 0.4854 - mse: 0.8701 - f1_m: 0.7475 - precision_m: 0.8300 - recall_m: 0.6914 - weighted_accuracy: 0.4854 - weighted_mse: 0.8701 - weighted_f1_m: 0.7475 - weighted_precision_m: 0.8300 - weighted_recall_m: 0.6914 - val_loss: 0.8823 - val_accuracy: 0.4811 - val_mse: 0.8823 - val_f1_m: 0.7409 - val_precision_m: 0.8198 - val_recall_m: 0.6851 - val_weighted_accuracy: 0.4811 - val_weighted_mse: 0.8823 - val_weighted_f1_m: 0.7409 - val_weighted_precision_m: 0.8198 - val_weighted_recall_m: 0.6851\n",
            "Epoch 54/300\n",
            "996/996 [==============================] - 6s 6ms/step - loss: 0.8734 - accuracy: 0.4838 - mse: 0.8734 - f1_m: 0.7467 - precision_m: 0.8265 - recall_m: 0.6919 - weighted_accuracy: 0.4838 - weighted_mse: 0.8734 - weighted_f1_m: 0.7467 - weighted_precision_m: 0.8265 - weighted_recall_m: 0.6919 - val_loss: 0.8933 - val_accuracy: 0.4843 - val_mse: 0.8933 - val_f1_m: 0.7152 - val_precision_m: 0.8293 - val_recall_m: 0.6377 - val_weighted_accuracy: 0.4843 - val_weighted_mse: 0.8933 - val_weighted_f1_m: 0.7152 - val_weighted_precision_m: 0.8293 - val_weighted_recall_m: 0.6377\n",
            "Epoch 55/300\n",
            "996/996 [==============================] - 6s 6ms/step - loss: 0.8685 - accuracy: 0.4843 - mse: 0.8685 - f1_m: 0.7476 - precision_m: 0.8122 - recall_m: 0.7027 - weighted_accuracy: 0.4843 - weighted_mse: 0.8685 - weighted_f1_m: 0.7476 - weighted_precision_m: 0.8122 - weighted_recall_m: 0.7027 - val_loss: 0.8850 - val_accuracy: 0.4834 - val_mse: 0.8850 - val_f1_m: 0.7265 - val_precision_m: 0.8430 - val_recall_m: 0.6471 - val_weighted_accuracy: 0.4834 - val_weighted_mse: 0.8850 - val_weighted_f1_m: 0.7265 - val_weighted_precision_m: 0.8430 - val_weighted_recall_m: 0.6471\n",
            "Epoch 56/300\n",
            "996/996 [==============================] - 6s 6ms/step - loss: 0.8751 - accuracy: 0.4834 - mse: 0.8751 - f1_m: 0.7425 - precision_m: 0.8225 - recall_m: 0.6891 - weighted_accuracy: 0.4834 - weighted_mse: 0.8751 - weighted_f1_m: 0.7425 - weighted_precision_m: 0.8225 - weighted_recall_m: 0.6891 - val_loss: 0.8834 - val_accuracy: 0.4843 - val_mse: 0.8834 - val_f1_m: 0.7400 - val_precision_m: 0.8171 - val_recall_m: 0.6852 - val_weighted_accuracy: 0.4843 - val_weighted_mse: 0.8834 - val_weighted_f1_m: 0.7400 - val_weighted_precision_m: 0.8171 - val_weighted_recall_m: 0.6852\n",
            "Epoch 57/300\n",
            "996/996 [==============================] - 6s 6ms/step - loss: 0.8690 - accuracy: 0.4859 - mse: 0.8690 - f1_m: 0.7486 - precision_m: 0.8239 - recall_m: 0.6960 - weighted_accuracy: 0.4859 - weighted_mse: 0.8690 - weighted_f1_m: 0.7486 - weighted_precision_m: 0.8239 - weighted_recall_m: 0.6960 - val_loss: 0.8922 - val_accuracy: 0.4782 - val_mse: 0.8922 - val_f1_m: 0.7377 - val_precision_m: 0.7493 - val_recall_m: 0.7367 - val_weighted_accuracy: 0.4782 - val_weighted_mse: 0.8922 - val_weighted_f1_m: 0.7377 - val_weighted_precision_m: 0.7493 - val_weighted_recall_m: 0.7367\n",
            "Epoch 58/300\n",
            "996/996 [==============================] - 6s 6ms/step - loss: 0.8782 - accuracy: 0.4819 - mse: 0.8782 - f1_m: 0.7401 - precision_m: 0.8231 - recall_m: 0.6855 - weighted_accuracy: 0.4819 - weighted_mse: 0.8782 - weighted_f1_m: 0.7401 - weighted_precision_m: 0.8231 - weighted_recall_m: 0.6855 - val_loss: 0.8841 - val_accuracy: 0.4815 - val_mse: 0.8841 - val_f1_m: 0.7461 - val_precision_m: 0.7901 - val_recall_m: 0.7168 - val_weighted_accuracy: 0.4815 - val_weighted_mse: 0.8841 - val_weighted_f1_m: 0.7461 - val_weighted_precision_m: 0.7901 - val_weighted_recall_m: 0.7168\n",
            "Epoch 59/300\n",
            "996/996 [==============================] - 6s 6ms/step - loss: 0.8768 - accuracy: 0.4828 - mse: 0.8768 - f1_m: 0.7403 - precision_m: 0.8173 - recall_m: 0.6876 - weighted_accuracy: 0.4828 - weighted_mse: 0.8768 - weighted_f1_m: 0.7403 - weighted_precision_m: 0.8173 - weighted_recall_m: 0.6876 - val_loss: 0.8821 - val_accuracy: 0.4869 - val_mse: 0.8821 - val_f1_m: 0.7295 - val_precision_m: 0.8406 - val_recall_m: 0.6531 - val_weighted_accuracy: 0.4869 - val_weighted_mse: 0.8821 - val_weighted_f1_m: 0.7295 - val_weighted_precision_m: 0.8406 - val_weighted_recall_m: 0.6531\n",
            "Epoch 60/300\n",
            "996/996 [==============================] - 6s 6ms/step - loss: 0.8708 - accuracy: 0.4851 - mse: 0.8708 - f1_m: 0.7463 - precision_m: 0.8230 - recall_m: 0.6930 - weighted_accuracy: 0.4851 - weighted_mse: 0.8708 - weighted_f1_m: 0.7463 - weighted_precision_m: 0.8230 - weighted_recall_m: 0.6930 - val_loss: 0.8802 - val_accuracy: 0.4813 - val_mse: 0.8802 - val_f1_m: 0.7433 - val_precision_m: 0.7735 - val_recall_m: 0.7247 - val_weighted_accuracy: 0.4813 - val_weighted_mse: 0.8802 - val_weighted_f1_m: 0.7433 - val_weighted_precision_m: 0.7735 - val_weighted_recall_m: 0.7247\n",
            "Epoch 61/300\n",
            "996/996 [==============================] - 6s 6ms/step - loss: 0.8703 - accuracy: 0.4855 - mse: 0.8703 - f1_m: 0.7467 - precision_m: 0.8227 - recall_m: 0.6949 - weighted_accuracy: 0.4855 - weighted_mse: 0.8703 - weighted_f1_m: 0.7467 - weighted_precision_m: 0.8227 - weighted_recall_m: 0.6949 - val_loss: 0.8715 - val_accuracy: 0.4862 - val_mse: 0.8715 - val_f1_m: 0.7495 - val_precision_m: 0.8188 - val_recall_m: 0.7000 - val_weighted_accuracy: 0.4862 - val_weighted_mse: 0.8715 - val_weighted_f1_m: 0.7495 - val_weighted_precision_m: 0.8188 - val_weighted_recall_m: 0.7000\n",
            "Epoch 62/300\n",
            "996/996 [==============================] - 6s 6ms/step - loss: 0.8720 - accuracy: 0.4841 - mse: 0.8720 - f1_m: 0.7460 - precision_m: 0.8154 - recall_m: 0.6992 - weighted_accuracy: 0.4841 - weighted_mse: 0.8720 - weighted_f1_m: 0.7460 - weighted_precision_m: 0.8154 - weighted_recall_m: 0.6992 - val_loss: 0.8741 - val_accuracy: 0.4831 - val_mse: 0.8741 - val_f1_m: 0.7334 - val_precision_m: 0.8157 - val_recall_m: 0.6759 - val_weighted_accuracy: 0.4831 - val_weighted_mse: 0.8741 - val_weighted_f1_m: 0.7334 - val_weighted_precision_m: 0.8157 - val_weighted_recall_m: 0.6759\n",
            "Epoch 63/300\n",
            "996/996 [==============================] - 6s 6ms/step - loss: 0.8703 - accuracy: 0.4853 - mse: 0.8703 - f1_m: 0.7469 - precision_m: 0.8233 - recall_m: 0.6943 - weighted_accuracy: 0.4853 - weighted_mse: 0.8703 - weighted_f1_m: 0.7469 - weighted_precision_m: 0.8233 - weighted_recall_m: 0.6943 - val_loss: 0.8750 - val_accuracy: 0.4839 - val_mse: 0.8750 - val_f1_m: 0.7514 - val_precision_m: 0.8112 - val_recall_m: 0.7089 - val_weighted_accuracy: 0.4839 - val_weighted_mse: 0.8750 - val_weighted_f1_m: 0.7514 - val_weighted_precision_m: 0.8112 - val_weighted_recall_m: 0.7089\n",
            "Epoch 64/300\n",
            "996/996 [==============================] - 6s 6ms/step - loss: 0.8699 - accuracy: 0.4843 - mse: 0.8699 - f1_m: 0.7476 - precision_m: 0.8204 - recall_m: 0.6985 - weighted_accuracy: 0.4843 - weighted_mse: 0.8699 - weighted_f1_m: 0.7476 - weighted_precision_m: 0.8204 - weighted_recall_m: 0.6985 - val_loss: 0.8753 - val_accuracy: 0.4855 - val_mse: 0.8753 - val_f1_m: 0.7339 - val_precision_m: 0.8335 - val_recall_m: 0.6645 - val_weighted_accuracy: 0.4855 - val_weighted_mse: 0.8753 - val_weighted_f1_m: 0.7339 - val_weighted_precision_m: 0.8335 - val_weighted_recall_m: 0.6645\n",
            "Epoch 65/300\n",
            "996/996 [==============================] - 6s 6ms/step - loss: 0.8700 - accuracy: 0.4857 - mse: 0.8700 - f1_m: 0.7436 - precision_m: 0.8165 - recall_m: 0.6944 - weighted_accuracy: 0.4857 - weighted_mse: 0.8700 - weighted_f1_m: 0.7436 - weighted_precision_m: 0.8165 - weighted_recall_m: 0.6944 - val_loss: 0.8810 - val_accuracy: 0.4829 - val_mse: 0.8810 - val_f1_m: 0.7493 - val_precision_m: 0.7754 - val_recall_m: 0.7342 - val_weighted_accuracy: 0.4829 - val_weighted_mse: 0.8810 - val_weighted_f1_m: 0.7493 - val_weighted_precision_m: 0.7754 - val_weighted_recall_m: 0.7342\n",
            "Epoch 66/300\n",
            "996/996 [==============================] - 6s 6ms/step - loss: 0.8675 - accuracy: 0.4846 - mse: 0.8675 - f1_m: 0.7457 - precision_m: 0.8122 - recall_m: 0.7005 - weighted_accuracy: 0.4846 - weighted_mse: 0.8675 - weighted_f1_m: 0.7457 - weighted_precision_m: 0.8122 - weighted_recall_m: 0.7005 - val_loss: 0.8738 - val_accuracy: 0.4848 - val_mse: 0.8738 - val_f1_m: 0.7390 - val_precision_m: 0.8456 - val_recall_m: 0.6652 - val_weighted_accuracy: 0.4848 - val_weighted_mse: 0.8738 - val_weighted_f1_m: 0.7390 - val_weighted_precision_m: 0.8456 - val_weighted_recall_m: 0.6652\n",
            "Epoch 67/300\n",
            "996/996 [==============================] - 6s 6ms/step - loss: 0.8699 - accuracy: 0.4849 - mse: 0.8699 - f1_m: 0.7485 - precision_m: 0.8242 - recall_m: 0.6965 - weighted_accuracy: 0.4849 - weighted_mse: 0.8699 - weighted_f1_m: 0.7485 - weighted_precision_m: 0.8242 - weighted_recall_m: 0.6965 - val_loss: 0.8756 - val_accuracy: 0.4846 - val_mse: 0.8756 - val_f1_m: 0.7478 - val_precision_m: 0.7974 - val_recall_m: 0.7131 - val_weighted_accuracy: 0.4846 - val_weighted_mse: 0.8756 - val_weighted_f1_m: 0.7478 - val_weighted_precision_m: 0.7974 - val_weighted_recall_m: 0.7131\n",
            "Epoch 68/300\n",
            "996/996 [==============================] - 6s 6ms/step - loss: 0.8700 - accuracy: 0.4842 - mse: 0.8700 - f1_m: 0.7444 - precision_m: 0.8280 - recall_m: 0.6891 - weighted_accuracy: 0.4842 - weighted_mse: 0.8700 - weighted_f1_m: 0.7444 - weighted_precision_m: 0.8280 - weighted_recall_m: 0.6891 - val_loss: 0.8983 - val_accuracy: 0.4768 - val_mse: 0.8983 - val_f1_m: 0.7254 - val_precision_m: 0.7874 - val_recall_m: 0.6828 - val_weighted_accuracy: 0.4768 - val_weighted_mse: 0.8983 - val_weighted_f1_m: 0.7254 - val_weighted_precision_m: 0.7874 - val_weighted_recall_m: 0.6828\n",
            "Epoch 69/300\n",
            "996/996 [==============================] - 6s 6ms/step - loss: 0.8684 - accuracy: 0.4851 - mse: 0.8684 - f1_m: 0.7484 - precision_m: 0.8121 - recall_m: 0.7041 - weighted_accuracy: 0.4851 - weighted_mse: 0.8684 - weighted_f1_m: 0.7484 - weighted_precision_m: 0.8121 - weighted_recall_m: 0.7041 - val_loss: 0.8762 - val_accuracy: 0.4859 - val_mse: 0.8762 - val_f1_m: 0.7374 - val_precision_m: 0.8381 - val_recall_m: 0.6672 - val_weighted_accuracy: 0.4859 - val_weighted_mse: 0.8762 - val_weighted_f1_m: 0.7374 - val_weighted_precision_m: 0.8381 - val_weighted_recall_m: 0.6672\n",
            "Epoch 70/300\n",
            "996/996 [==============================] - 6s 6ms/step - loss: 0.8661 - accuracy: 0.4845 - mse: 0.8661 - f1_m: 0.7496 - precision_m: 0.8174 - recall_m: 0.7026 - weighted_accuracy: 0.4845 - weighted_mse: 0.8661 - weighted_f1_m: 0.7496 - weighted_precision_m: 0.8174 - weighted_recall_m: 0.7026 - val_loss: 0.8743 - val_accuracy: 0.4839 - val_mse: 0.8743 - val_f1_m: 0.7481 - val_precision_m: 0.7987 - val_recall_m: 0.7128 - val_weighted_accuracy: 0.4839 - val_weighted_mse: 0.8743 - val_weighted_f1_m: 0.7481 - val_weighted_precision_m: 0.7987 - val_weighted_recall_m: 0.7128\n",
            "Epoch 71/300\n",
            "996/996 [==============================] - 6s 6ms/step - loss: 0.8693 - accuracy: 0.4843 - mse: 0.8693 - f1_m: 0.7468 - precision_m: 0.8148 - recall_m: 0.6992 - weighted_accuracy: 0.4843 - weighted_mse: 0.8693 - weighted_f1_m: 0.7468 - weighted_precision_m: 0.8148 - weighted_recall_m: 0.6992 - val_loss: 0.8718 - val_accuracy: 0.4857 - val_mse: 0.8718 - val_f1_m: 0.7448 - val_precision_m: 0.8174 - val_recall_m: 0.6932 - val_weighted_accuracy: 0.4857 - val_weighted_mse: 0.8718 - val_weighted_f1_m: 0.7448 - val_weighted_precision_m: 0.8174 - val_weighted_recall_m: 0.6932\n",
            "Epoch 72/300\n",
            "996/996 [==============================] - 6s 6ms/step - loss: 0.8652 - accuracy: 0.4855 - mse: 0.8652 - f1_m: 0.7509 - precision_m: 0.8220 - recall_m: 0.7001 - weighted_accuracy: 0.4855 - weighted_mse: 0.8652 - weighted_f1_m: 0.7509 - weighted_precision_m: 0.8220 - weighted_recall_m: 0.7001 - val_loss: 0.8762 - val_accuracy: 0.4850 - val_mse: 0.8762 - val_f1_m: 0.7348 - val_precision_m: 0.8363 - val_recall_m: 0.6645 - val_weighted_accuracy: 0.4850 - val_weighted_mse: 0.8762 - val_weighted_f1_m: 0.7348 - val_weighted_precision_m: 0.8363 - val_weighted_recall_m: 0.6645\n",
            "Epoch 73/300\n",
            "996/996 [==============================] - 6s 6ms/step - loss: 0.8770 - accuracy: 0.4838 - mse: 0.8770 - f1_m: 0.7406 - precision_m: 0.8205 - recall_m: 0.6872 - weighted_accuracy: 0.4838 - weighted_mse: 0.8770 - weighted_f1_m: 0.7406 - weighted_precision_m: 0.8205 - weighted_recall_m: 0.6872 - val_loss: 0.8782 - val_accuracy: 0.4859 - val_mse: 0.8782 - val_f1_m: 0.7457 - val_precision_m: 0.8163 - val_recall_m: 0.6959 - val_weighted_accuracy: 0.4859 - val_weighted_mse: 0.8782 - val_weighted_f1_m: 0.7457 - val_weighted_precision_m: 0.8163 - val_weighted_recall_m: 0.6959\n",
            "Epoch 74/300\n",
            "996/996 [==============================] - 6s 6ms/step - loss: 0.8814 - accuracy: 0.4829 - mse: 0.8814 - f1_m: 0.7442 - precision_m: 0.8084 - recall_m: 0.7023 - weighted_accuracy: 0.4829 - weighted_mse: 0.8814 - weighted_f1_m: 0.7442 - weighted_precision_m: 0.8084 - weighted_recall_m: 0.7023 - val_loss: 0.8813 - val_accuracy: 0.4830 - val_mse: 0.8813 - val_f1_m: 0.7465 - val_precision_m: 0.8036 - val_recall_m: 0.7068 - val_weighted_accuracy: 0.4830 - val_weighted_mse: 0.8813 - val_weighted_f1_m: 0.7465 - val_weighted_precision_m: 0.8036 - val_weighted_recall_m: 0.7068\n",
            "Epoch 75/300\n",
            "996/996 [==============================] - 6s 6ms/step - loss: 0.8737 - accuracy: 0.4838 - mse: 0.8737 - f1_m: 0.7426 - precision_m: 0.8060 - recall_m: 0.7008 - weighted_accuracy: 0.4838 - weighted_mse: 0.8737 - weighted_f1_m: 0.7426 - weighted_precision_m: 0.8060 - weighted_recall_m: 0.7008 - val_loss: 0.8767 - val_accuracy: 0.4843 - val_mse: 0.8767 - val_f1_m: 0.7390 - val_precision_m: 0.8051 - val_recall_m: 0.6929 - val_weighted_accuracy: 0.4843 - val_weighted_mse: 0.8767 - val_weighted_f1_m: 0.7390 - val_weighted_precision_m: 0.8051 - val_weighted_recall_m: 0.6929\n",
            "Epoch 76/300\n",
            "996/996 [==============================] - 6s 6ms/step - loss: 0.8678 - accuracy: 0.4861 - mse: 0.8678 - f1_m: 0.7473 - precision_m: 0.8213 - recall_m: 0.6955 - weighted_accuracy: 0.4861 - weighted_mse: 0.8678 - weighted_f1_m: 0.7473 - weighted_precision_m: 0.8213 - weighted_recall_m: 0.6955 - val_loss: 0.8784 - val_accuracy: 0.4837 - val_mse: 0.8784 - val_f1_m: 0.7471 - val_precision_m: 0.7806 - val_recall_m: 0.7269 - val_weighted_accuracy: 0.4837 - val_weighted_mse: 0.8784 - val_weighted_f1_m: 0.7471 - val_weighted_precision_m: 0.7806 - val_weighted_recall_m: 0.7269\n",
            "Epoch 77/300\n",
            "996/996 [==============================] - 6s 6ms/step - loss: 0.8682 - accuracy: 0.4848 - mse: 0.8682 - f1_m: 0.7448 - precision_m: 0.8190 - recall_m: 0.6950 - weighted_accuracy: 0.4848 - weighted_mse: 0.8682 - weighted_f1_m: 0.7448 - weighted_precision_m: 0.8190 - weighted_recall_m: 0.6950 - val_loss: 0.8787 - val_accuracy: 0.4841 - val_mse: 0.8787 - val_f1_m: 0.7475 - val_precision_m: 0.7897 - val_recall_m: 0.7190 - val_weighted_accuracy: 0.4841 - val_weighted_mse: 0.8787 - val_weighted_f1_m: 0.7475 - val_weighted_precision_m: 0.7897 - val_weighted_recall_m: 0.7190\n",
            "Epoch 78/300\n",
            "996/996 [==============================] - 6s 6ms/step - loss: 0.8689 - accuracy: 0.4853 - mse: 0.8689 - f1_m: 0.7485 - precision_m: 0.8158 - recall_m: 0.7029 - weighted_accuracy: 0.4853 - weighted_mse: 0.8689 - weighted_f1_m: 0.7485 - weighted_precision_m: 0.8158 - weighted_recall_m: 0.7029 - val_loss: 0.8853 - val_accuracy: 0.4862 - val_mse: 0.8853 - val_f1_m: 0.7222 - val_precision_m: 0.8315 - val_recall_m: 0.6470 - val_weighted_accuracy: 0.4862 - val_weighted_mse: 0.8853 - val_weighted_f1_m: 0.7222 - val_weighted_precision_m: 0.8315 - val_weighted_recall_m: 0.6470\n",
            "Epoch 79/300\n",
            "996/996 [==============================] - 6s 6ms/step - loss: 0.8659 - accuracy: 0.4859 - mse: 0.8659 - f1_m: 0.7489 - precision_m: 0.8205 - recall_m: 0.6998 - weighted_accuracy: 0.4859 - weighted_mse: 0.8659 - weighted_f1_m: 0.7489 - weighted_precision_m: 0.8205 - weighted_recall_m: 0.6998 - val_loss: 0.8814 - val_accuracy: 0.4856 - val_mse: 0.8814 - val_f1_m: 0.7217 - val_precision_m: 0.8406 - val_recall_m: 0.6412 - val_weighted_accuracy: 0.4856 - val_weighted_mse: 0.8814 - val_weighted_f1_m: 0.7217 - val_weighted_precision_m: 0.8406 - val_weighted_recall_m: 0.6412\n",
            "Epoch 80/300\n",
            "996/996 [==============================] - 6s 6ms/step - loss: 0.8686 - accuracy: 0.4840 - mse: 0.8686 - f1_m: 0.7447 - precision_m: 0.8046 - recall_m: 0.7047 - weighted_accuracy: 0.4840 - weighted_mse: 0.8686 - weighted_f1_m: 0.7447 - weighted_precision_m: 0.8046 - weighted_recall_m: 0.7047 - val_loss: 0.8888 - val_accuracy: 0.4781 - val_mse: 0.8888 - val_f1_m: 0.7307 - val_precision_m: 0.7581 - val_recall_m: 0.7150 - val_weighted_accuracy: 0.4781 - val_weighted_mse: 0.8888 - val_weighted_f1_m: 0.7307 - val_weighted_precision_m: 0.7581 - val_weighted_recall_m: 0.7150\n",
            "Epoch 81/300\n",
            "996/996 [==============================] - 6s 6ms/step - loss: 0.8686 - accuracy: 0.4852 - mse: 0.8686 - f1_m: 0.7477 - precision_m: 0.8107 - recall_m: 0.7039 - weighted_accuracy: 0.4852 - weighted_mse: 0.8686 - weighted_f1_m: 0.7477 - weighted_precision_m: 0.8107 - weighted_recall_m: 0.7039 - val_loss: 0.8786 - val_accuracy: 0.4825 - val_mse: 0.8786 - val_f1_m: 0.7420 - val_precision_m: 0.8077 - val_recall_m: 0.6959 - val_weighted_accuracy: 0.4825 - val_weighted_mse: 0.8786 - val_weighted_f1_m: 0.7420 - val_weighted_precision_m: 0.8077 - val_weighted_recall_m: 0.6959\n",
            "Epoch 82/300\n",
            "996/996 [==============================] - 6s 6ms/step - loss: 0.8695 - accuracy: 0.4850 - mse: 0.8695 - f1_m: 0.7468 - precision_m: 0.8163 - recall_m: 0.6992 - weighted_accuracy: 0.4850 - weighted_mse: 0.8695 - weighted_f1_m: 0.7468 - weighted_precision_m: 0.8163 - weighted_recall_m: 0.6992 - val_loss: 0.8728 - val_accuracy: 0.4857 - val_mse: 0.8728 - val_f1_m: 0.7495 - val_precision_m: 0.8021 - val_recall_m: 0.7127 - val_weighted_accuracy: 0.4857 - val_weighted_mse: 0.8728 - val_weighted_f1_m: 0.7495 - val_weighted_precision_m: 0.8021 - val_weighted_recall_m: 0.7127\n",
            "Epoch 83/300\n",
            "996/996 [==============================] - 6s 6ms/step - loss: 0.8690 - accuracy: 0.4854 - mse: 0.8690 - f1_m: 0.7500 - precision_m: 0.8279 - recall_m: 0.6970 - weighted_accuracy: 0.4854 - weighted_mse: 0.8690 - weighted_f1_m: 0.7500 - weighted_precision_m: 0.8279 - weighted_recall_m: 0.6970 - val_loss: 0.8808 - val_accuracy: 0.4864 - val_mse: 0.8808 - val_f1_m: 0.7284 - val_precision_m: 0.8287 - val_recall_m: 0.6585 - val_weighted_accuracy: 0.4864 - val_weighted_mse: 0.8808 - val_weighted_f1_m: 0.7284 - val_weighted_precision_m: 0.8287 - val_weighted_recall_m: 0.6585\n",
            "Epoch 84/300\n",
            "996/996 [==============================] - 6s 6ms/step - loss: 0.8656 - accuracy: 0.4867 - mse: 0.8656 - f1_m: 0.7507 - precision_m: 0.8185 - recall_m: 0.7035 - weighted_accuracy: 0.4867 - weighted_mse: 0.8656 - weighted_f1_m: 0.7507 - weighted_precision_m: 0.8185 - weighted_recall_m: 0.7035 - val_loss: 0.8741 - val_accuracy: 0.4866 - val_mse: 0.8741 - val_f1_m: 0.7488 - val_precision_m: 0.7988 - val_recall_m: 0.7139 - val_weighted_accuracy: 0.4866 - val_weighted_mse: 0.8741 - val_weighted_f1_m: 0.7488 - val_weighted_precision_m: 0.7988 - val_weighted_recall_m: 0.7139\n",
            "Epoch 85/300\n",
            "996/996 [==============================] - 6s 6ms/step - loss: 0.8640 - accuracy: 0.4862 - mse: 0.8640 - f1_m: 0.7496 - precision_m: 0.8139 - recall_m: 0.7069 - weighted_accuracy: 0.4862 - weighted_mse: 0.8640 - weighted_f1_m: 0.7496 - weighted_precision_m: 0.8139 - weighted_recall_m: 0.7069 - val_loss: 0.8784 - val_accuracy: 0.4873 - val_mse: 0.8784 - val_f1_m: 0.7298 - val_precision_m: 0.8496 - val_recall_m: 0.6482 - val_weighted_accuracy: 0.4873 - val_weighted_mse: 0.8784 - val_weighted_f1_m: 0.7298 - val_weighted_precision_m: 0.8496 - val_weighted_recall_m: 0.6482\n",
            "Epoch 86/300\n",
            "996/996 [==============================] - 6s 6ms/step - loss: 0.8666 - accuracy: 0.4853 - mse: 0.8666 - f1_m: 0.7490 - precision_m: 0.8264 - recall_m: 0.6959 - weighted_accuracy: 0.4853 - weighted_mse: 0.8666 - weighted_f1_m: 0.7490 - weighted_precision_m: 0.8264 - weighted_recall_m: 0.6959 - val_loss: 0.8743 - val_accuracy: 0.4854 - val_mse: 0.8743 - val_f1_m: 0.7552 - val_precision_m: 0.8338 - val_recall_m: 0.6995 - val_weighted_accuracy: 0.4854 - val_weighted_mse: 0.8743 - val_weighted_f1_m: 0.7552 - val_weighted_precision_m: 0.8338 - val_weighted_recall_m: 0.6995\n",
            "Epoch 87/300\n",
            "996/996 [==============================] - 6s 7ms/step - loss: 0.8630 - accuracy: 0.4862 - mse: 0.8630 - f1_m: 0.7528 - precision_m: 0.8193 - recall_m: 0.7065 - weighted_accuracy: 0.4862 - weighted_mse: 0.8630 - weighted_f1_m: 0.7528 - weighted_precision_m: 0.8193 - weighted_recall_m: 0.7065 - val_loss: 0.8719 - val_accuracy: 0.4844 - val_mse: 0.8719 - val_f1_m: 0.7441 - val_precision_m: 0.8084 - val_recall_m: 0.6986 - val_weighted_accuracy: 0.4844 - val_weighted_mse: 0.8719 - val_weighted_f1_m: 0.7441 - val_weighted_precision_m: 0.8084 - val_weighted_recall_m: 0.6986\n",
            "Epoch 88/300\n",
            "996/996 [==============================] - 8s 8ms/step - loss: 0.8624 - accuracy: 0.4856 - mse: 0.8624 - f1_m: 0.7514 - precision_m: 0.8216 - recall_m: 0.7024 - weighted_accuracy: 0.4856 - weighted_mse: 0.8624 - weighted_f1_m: 0.7514 - weighted_precision_m: 0.8216 - weighted_recall_m: 0.7024 - val_loss: 0.8736 - val_accuracy: 0.4857 - val_mse: 0.8736 - val_f1_m: 0.7382 - val_precision_m: 0.8374 - val_recall_m: 0.6687 - val_weighted_accuracy: 0.4857 - val_weighted_mse: 0.8736 - val_weighted_f1_m: 0.7382 - val_weighted_precision_m: 0.8374 - val_weighted_recall_m: 0.6687\n",
            "Epoch 89/300\n",
            "996/996 [==============================] - 6s 6ms/step - loss: 0.8631 - accuracy: 0.4862 - mse: 0.8631 - f1_m: 0.7532 - precision_m: 0.8199 - recall_m: 0.7059 - weighted_accuracy: 0.4862 - weighted_mse: 0.8631 - weighted_f1_m: 0.7532 - weighted_precision_m: 0.8199 - weighted_recall_m: 0.7059 - val_loss: 0.8812 - val_accuracy: 0.4815 - val_mse: 0.8812 - val_f1_m: 0.7291 - val_precision_m: 0.8493 - val_recall_m: 0.6474 - val_weighted_accuracy: 0.4815 - val_weighted_mse: 0.8812 - val_weighted_f1_m: 0.7291 - val_weighted_precision_m: 0.8493 - val_weighted_recall_m: 0.6474\n",
            "Epoch 90/300\n",
            "996/996 [==============================] - 6s 6ms/step - loss: 0.8657 - accuracy: 0.4853 - mse: 0.8657 - f1_m: 0.7499 - precision_m: 0.8247 - recall_m: 0.6986 - weighted_accuracy: 0.4853 - weighted_mse: 0.8657 - weighted_f1_m: 0.7499 - weighted_precision_m: 0.8247 - weighted_recall_m: 0.6986 - val_loss: 0.8782 - val_accuracy: 0.4827 - val_mse: 0.8782 - val_f1_m: 0.7447 - val_precision_m: 0.8019 - val_recall_m: 0.7044 - val_weighted_accuracy: 0.4827 - val_weighted_mse: 0.8782 - val_weighted_f1_m: 0.7447 - val_weighted_precision_m: 0.8019 - val_weighted_recall_m: 0.7044\n",
            "Epoch 91/300\n",
            "996/996 [==============================] - 6s 6ms/step - loss: 0.8653 - accuracy: 0.4855 - mse: 0.8653 - f1_m: 0.7493 - precision_m: 0.8117 - recall_m: 0.7060 - weighted_accuracy: 0.4855 - weighted_mse: 0.8653 - weighted_f1_m: 0.7493 - weighted_precision_m: 0.8117 - weighted_recall_m: 0.7060 - val_loss: 0.8805 - val_accuracy: 0.4815 - val_mse: 0.8805 - val_f1_m: 0.7447 - val_precision_m: 0.7613 - val_recall_m: 0.7391 - val_weighted_accuracy: 0.4815 - val_weighted_mse: 0.8805 - val_weighted_f1_m: 0.7447 - val_weighted_precision_m: 0.7613 - val_weighted_recall_m: 0.7391\n",
            "Epoch 92/300\n",
            "996/996 [==============================] - 6s 6ms/step - loss: 0.8622 - accuracy: 0.4856 - mse: 0.8622 - f1_m: 0.7505 - precision_m: 0.8200 - recall_m: 0.7023 - weighted_accuracy: 0.4856 - weighted_mse: 0.8622 - weighted_f1_m: 0.7505 - weighted_precision_m: 0.8200 - weighted_recall_m: 0.7023 - val_loss: 0.8972 - val_accuracy: 0.4799 - val_mse: 0.8972 - val_f1_m: 0.7459 - val_precision_m: 0.7408 - val_recall_m: 0.7610 - val_weighted_accuracy: 0.4799 - val_weighted_mse: 0.8972 - val_weighted_f1_m: 0.7459 - val_weighted_precision_m: 0.7408 - val_weighted_recall_m: 0.7610\n",
            "Epoch 93/300\n",
            "996/996 [==============================] - 6s 6ms/step - loss: 0.8679 - accuracy: 0.4856 - mse: 0.8679 - f1_m: 0.7504 - precision_m: 0.8186 - recall_m: 0.7045 - weighted_accuracy: 0.4856 - weighted_mse: 0.8679 - weighted_f1_m: 0.7504 - weighted_precision_m: 0.8186 - weighted_recall_m: 0.7045 - val_loss: 0.8732 - val_accuracy: 0.4855 - val_mse: 0.8732 - val_f1_m: 0.7387 - val_precision_m: 0.8228 - val_recall_m: 0.6787 - val_weighted_accuracy: 0.4855 - val_weighted_mse: 0.8732 - val_weighted_f1_m: 0.7387 - val_weighted_precision_m: 0.8228 - val_weighted_recall_m: 0.6787\n",
            "Epoch 94/300\n",
            "996/996 [==============================] - 6s 6ms/step - loss: 0.8628 - accuracy: 0.4861 - mse: 0.8628 - f1_m: 0.7517 - precision_m: 0.8169 - recall_m: 0.7065 - weighted_accuracy: 0.4861 - weighted_mse: 0.8628 - weighted_f1_m: 0.7517 - weighted_precision_m: 0.8169 - weighted_recall_m: 0.7065 - val_loss: 0.8738 - val_accuracy: 0.4868 - val_mse: 0.8738 - val_f1_m: 0.7516 - val_precision_m: 0.8041 - val_recall_m: 0.7147 - val_weighted_accuracy: 0.4868 - val_weighted_mse: 0.8738 - val_weighted_f1_m: 0.7516 - val_weighted_precision_m: 0.8041 - val_weighted_recall_m: 0.7147\n",
            "Epoch 95/300\n",
            "996/996 [==============================] - 6s 6ms/step - loss: 0.8631 - accuracy: 0.4860 - mse: 0.8631 - f1_m: 0.7490 - precision_m: 0.8095 - recall_m: 0.7070 - weighted_accuracy: 0.4860 - weighted_mse: 0.8631 - weighted_f1_m: 0.7490 - weighted_precision_m: 0.8095 - weighted_recall_m: 0.7070 - val_loss: 0.8732 - val_accuracy: 0.4839 - val_mse: 0.8732 - val_f1_m: 0.7484 - val_precision_m: 0.8017 - val_recall_m: 0.7104 - val_weighted_accuracy: 0.4839 - val_weighted_mse: 0.8732 - val_weighted_f1_m: 0.7484 - val_weighted_precision_m: 0.8017 - val_weighted_recall_m: 0.7104\n",
            "Epoch 96/300\n",
            "996/996 [==============================] - 6s 6ms/step - loss: 0.8625 - accuracy: 0.4857 - mse: 0.8625 - f1_m: 0.7514 - precision_m: 0.8151 - recall_m: 0.7067 - weighted_accuracy: 0.4857 - weighted_mse: 0.8625 - weighted_f1_m: 0.7514 - weighted_precision_m: 0.8151 - weighted_recall_m: 0.7067 - val_loss: 0.8703 - val_accuracy: 0.4874 - val_mse: 0.8703 - val_f1_m: 0.7420 - val_precision_m: 0.8171 - val_recall_m: 0.6887 - val_weighted_accuracy: 0.4874 - val_weighted_mse: 0.8703 - val_weighted_f1_m: 0.7420 - val_weighted_precision_m: 0.8171 - val_weighted_recall_m: 0.6887\n",
            "Epoch 97/300\n",
            "996/996 [==============================] - 6s 6ms/step - loss: 0.8632 - accuracy: 0.4861 - mse: 0.8632 - f1_m: 0.7535 - precision_m: 0.8122 - recall_m: 0.7131 - weighted_accuracy: 0.4861 - weighted_mse: 0.8632 - weighted_f1_m: 0.7535 - weighted_precision_m: 0.8122 - weighted_recall_m: 0.7131 - val_loss: 0.8741 - val_accuracy: 0.4826 - val_mse: 0.8741 - val_f1_m: 0.7401 - val_precision_m: 0.7807 - val_recall_m: 0.7132 - val_weighted_accuracy: 0.4826 - val_weighted_mse: 0.8741 - val_weighted_f1_m: 0.7401 - val_weighted_precision_m: 0.7807 - val_weighted_recall_m: 0.7132\n",
            "Epoch 98/300\n",
            "996/996 [==============================] - 6s 6ms/step - loss: 0.8629 - accuracy: 0.4855 - mse: 0.8629 - f1_m: 0.7501 - precision_m: 0.8190 - recall_m: 0.7033 - weighted_accuracy: 0.4855 - weighted_mse: 0.8629 - weighted_f1_m: 0.7501 - weighted_precision_m: 0.8190 - weighted_recall_m: 0.7033 - val_loss: 0.8813 - val_accuracy: 0.4835 - val_mse: 0.8813 - val_f1_m: 0.7429 - val_precision_m: 0.7843 - val_recall_m: 0.7145 - val_weighted_accuracy: 0.4835 - val_weighted_mse: 0.8813 - val_weighted_f1_m: 0.7429 - val_weighted_precision_m: 0.7843 - val_weighted_recall_m: 0.7145\n",
            "Epoch 99/300\n",
            "996/996 [==============================] - 6s 6ms/step - loss: 0.8657 - accuracy: 0.4853 - mse: 0.8657 - f1_m: 0.7493 - precision_m: 0.8101 - recall_m: 0.7081 - weighted_accuracy: 0.4853 - weighted_mse: 0.8657 - weighted_f1_m: 0.7493 - weighted_precision_m: 0.8101 - weighted_recall_m: 0.7081 - val_loss: 0.8705 - val_accuracy: 0.4864 - val_mse: 0.8705 - val_f1_m: 0.7473 - val_precision_m: 0.8168 - val_recall_m: 0.6976 - val_weighted_accuracy: 0.4864 - val_weighted_mse: 0.8705 - val_weighted_f1_m: 0.7473 - val_weighted_precision_m: 0.8168 - val_weighted_recall_m: 0.6976\n",
            "Epoch 100/300\n",
            "996/996 [==============================] - 6s 6ms/step - loss: 0.8615 - accuracy: 0.4862 - mse: 0.8615 - f1_m: 0.7539 - precision_m: 0.8194 - recall_m: 0.7089 - weighted_accuracy: 0.4862 - weighted_mse: 0.8615 - weighted_f1_m: 0.7539 - weighted_precision_m: 0.8194 - weighted_recall_m: 0.7089 - val_loss: 0.8724 - val_accuracy: 0.4850 - val_mse: 0.8724 - val_f1_m: 0.7436 - val_precision_m: 0.8012 - val_recall_m: 0.7033 - val_weighted_accuracy: 0.4850 - val_weighted_mse: 0.8724 - val_weighted_f1_m: 0.7436 - val_weighted_precision_m: 0.8012 - val_weighted_recall_m: 0.7033\n",
            "Epoch 101/300\n",
            "996/996 [==============================] - 6s 6ms/step - loss: 0.8627 - accuracy: 0.4846 - mse: 0.8627 - f1_m: 0.7519 - precision_m: 0.7981 - recall_m: 0.7219 - weighted_accuracy: 0.4846 - weighted_mse: 0.8627 - weighted_f1_m: 0.7519 - weighted_precision_m: 0.7981 - weighted_recall_m: 0.7219 - val_loss: 0.8840 - val_accuracy: 0.4805 - val_mse: 0.8840 - val_f1_m: 0.7267 - val_precision_m: 0.7799 - val_recall_m: 0.6896 - val_weighted_accuracy: 0.4805 - val_weighted_mse: 0.8840 - val_weighted_f1_m: 0.7267 - val_weighted_precision_m: 0.7799 - val_weighted_recall_m: 0.6896\n",
            "Epoch 102/300\n",
            "996/996 [==============================] - 6s 7ms/step - loss: 0.8638 - accuracy: 0.4853 - mse: 0.8638 - f1_m: 0.7503 - precision_m: 0.8153 - recall_m: 0.7072 - weighted_accuracy: 0.4853 - weighted_mse: 0.8638 - weighted_f1_m: 0.7503 - weighted_precision_m: 0.8153 - weighted_recall_m: 0.7072 - val_loss: 0.8723 - val_accuracy: 0.4843 - val_mse: 0.8723 - val_f1_m: 0.7401 - val_precision_m: 0.8241 - val_recall_m: 0.6802 - val_weighted_accuracy: 0.4843 - val_weighted_mse: 0.8723 - val_weighted_f1_m: 0.7401 - val_weighted_precision_m: 0.8241 - val_weighted_recall_m: 0.6802\n",
            "Epoch 103/300\n",
            "996/996 [==============================] - 6s 6ms/step - loss: 0.8642 - accuracy: 0.4855 - mse: 0.8642 - f1_m: 0.7519 - precision_m: 0.8195 - recall_m: 0.7059 - weighted_accuracy: 0.4855 - weighted_mse: 0.8642 - weighted_f1_m: 0.7519 - weighted_precision_m: 0.8195 - weighted_recall_m: 0.7059 - val_loss: 0.8796 - val_accuracy: 0.4817 - val_mse: 0.8796 - val_f1_m: 0.7412 - val_precision_m: 0.7994 - val_recall_m: 0.7009 - val_weighted_accuracy: 0.4817 - val_weighted_mse: 0.8796 - val_weighted_f1_m: 0.7412 - val_weighted_precision_m: 0.7994 - val_weighted_recall_m: 0.7009\n",
            "Epoch 104/300\n",
            "996/996 [==============================] - 6s 6ms/step - loss: 0.8646 - accuracy: 0.4859 - mse: 0.8646 - f1_m: 0.7539 - precision_m: 0.8180 - recall_m: 0.7088 - weighted_accuracy: 0.4859 - weighted_mse: 0.8646 - weighted_f1_m: 0.7539 - weighted_precision_m: 0.8180 - weighted_recall_m: 0.7088 - val_loss: 0.8991 - val_accuracy: 0.4771 - val_mse: 0.8991 - val_f1_m: 0.7424 - val_precision_m: 0.7314 - val_recall_m: 0.7634 - val_weighted_accuracy: 0.4771 - val_weighted_mse: 0.8991 - val_weighted_f1_m: 0.7424 - val_weighted_precision_m: 0.7314 - val_weighted_recall_m: 0.7634\n",
            "Epoch 105/300\n",
            "996/996 [==============================] - 6s 6ms/step - loss: 0.8759 - accuracy: 0.4841 - mse: 0.8759 - f1_m: 0.7475 - precision_m: 0.8091 - recall_m: 0.7059 - weighted_accuracy: 0.4841 - weighted_mse: 0.8759 - weighted_f1_m: 0.7475 - weighted_precision_m: 0.8091 - weighted_recall_m: 0.7059 - val_loss: 0.8733 - val_accuracy: 0.4857 - val_mse: 0.8733 - val_f1_m: 0.7362 - val_precision_m: 0.8405 - val_recall_m: 0.6641 - val_weighted_accuracy: 0.4857 - val_weighted_mse: 0.8733 - val_weighted_f1_m: 0.7362 - val_weighted_precision_m: 0.8405 - val_weighted_recall_m: 0.6641\n",
            "Epoch 106/300\n",
            "996/996 [==============================] - 6s 6ms/step - loss: 0.8608 - accuracy: 0.4872 - mse: 0.8608 - f1_m: 0.7549 - precision_m: 0.8281 - recall_m: 0.7040 - weighted_accuracy: 0.4872 - weighted_mse: 0.8608 - weighted_f1_m: 0.7549 - weighted_precision_m: 0.8281 - weighted_recall_m: 0.7040 - val_loss: 0.8703 - val_accuracy: 0.4870 - val_mse: 0.8703 - val_f1_m: 0.7538 - val_precision_m: 0.8077 - val_recall_m: 0.7159 - val_weighted_accuracy: 0.4870 - val_weighted_mse: 0.8703 - val_weighted_f1_m: 0.7538 - val_weighted_precision_m: 0.8077 - val_weighted_recall_m: 0.7159\n",
            "Epoch 107/300\n",
            "996/996 [==============================] - 6s 6ms/step - loss: 0.8606 - accuracy: 0.4870 - mse: 0.8606 - f1_m: 0.7529 - precision_m: 0.8267 - recall_m: 0.7015 - weighted_accuracy: 0.4870 - weighted_mse: 0.8606 - weighted_f1_m: 0.7529 - weighted_precision_m: 0.8267 - weighted_recall_m: 0.7015 - val_loss: 0.8732 - val_accuracy: 0.4849 - val_mse: 0.8732 - val_f1_m: 0.7414 - val_precision_m: 0.8204 - val_recall_m: 0.6852 - val_weighted_accuracy: 0.4849 - val_weighted_mse: 0.8732 - val_weighted_f1_m: 0.7414 - val_weighted_precision_m: 0.8204 - val_weighted_recall_m: 0.6852\n",
            "Epoch 108/300\n",
            "996/996 [==============================] - 6s 6ms/step - loss: 0.8634 - accuracy: 0.4855 - mse: 0.8634 - f1_m: 0.7502 - precision_m: 0.8222 - recall_m: 0.7001 - weighted_accuracy: 0.4855 - weighted_mse: 0.8634 - weighted_f1_m: 0.7502 - weighted_precision_m: 0.8222 - weighted_recall_m: 0.7001 - val_loss: 0.8856 - val_accuracy: 0.4842 - val_mse: 0.8856 - val_f1_m: 0.7352 - val_precision_m: 0.8516 - val_recall_m: 0.6555 - val_weighted_accuracy: 0.4842 - val_weighted_mse: 0.8856 - val_weighted_f1_m: 0.7352 - val_weighted_precision_m: 0.8516 - val_weighted_recall_m: 0.6555\n",
            "Epoch 109/300\n",
            "996/996 [==============================] - 6s 6ms/step - loss: 0.8608 - accuracy: 0.4860 - mse: 0.8608 - f1_m: 0.7504 - precision_m: 0.8228 - recall_m: 0.7000 - weighted_accuracy: 0.4860 - weighted_mse: 0.8608 - weighted_f1_m: 0.7504 - weighted_precision_m: 0.8228 - weighted_recall_m: 0.7000 - val_loss: 0.8727 - val_accuracy: 0.4856 - val_mse: 0.8727 - val_f1_m: 0.7462 - val_precision_m: 0.8090 - val_recall_m: 0.7020 - val_weighted_accuracy: 0.4856 - val_weighted_mse: 0.8727 - val_weighted_f1_m: 0.7462 - val_weighted_precision_m: 0.8090 - val_weighted_recall_m: 0.7020\n",
            "Epoch 110/300\n",
            "996/996 [==============================] - 6s 6ms/step - loss: 0.8620 - accuracy: 0.4871 - mse: 0.8620 - f1_m: 0.7541 - precision_m: 0.8266 - recall_m: 0.7029 - weighted_accuracy: 0.4871 - weighted_mse: 0.8620 - weighted_f1_m: 0.7541 - weighted_precision_m: 0.8266 - weighted_recall_m: 0.7029 - val_loss: 0.9155 - val_accuracy: 0.4798 - val_mse: 0.9155 - val_f1_m: 0.6814 - val_precision_m: 0.8663 - val_recall_m: 0.5709 - val_weighted_accuracy: 0.4798 - val_weighted_mse: 0.9155 - val_weighted_f1_m: 0.6814 - val_weighted_precision_m: 0.8663 - val_weighted_recall_m: 0.5709\n",
            "Epoch 111/300\n",
            "996/996 [==============================] - 7s 7ms/step - loss: 0.8655 - accuracy: 0.4864 - mse: 0.8655 - f1_m: 0.7515 - precision_m: 0.8273 - recall_m: 0.7004 - weighted_accuracy: 0.4864 - weighted_mse: 0.8655 - weighted_f1_m: 0.7515 - weighted_precision_m: 0.8273 - weighted_recall_m: 0.7004 - val_loss: 0.8695 - val_accuracy: 0.4855 - val_mse: 0.8695 - val_f1_m: 0.7475 - val_precision_m: 0.8241 - val_recall_m: 0.6935 - val_weighted_accuracy: 0.4855 - val_weighted_mse: 0.8695 - val_weighted_f1_m: 0.7475 - val_weighted_precision_m: 0.8241 - val_weighted_recall_m: 0.6935\n",
            "Epoch 112/300\n",
            "996/996 [==============================] - 7s 7ms/step - loss: 0.8582 - accuracy: 0.4881 - mse: 0.8582 - f1_m: 0.7567 - precision_m: 0.8294 - recall_m: 0.7048 - weighted_accuracy: 0.4881 - weighted_mse: 0.8582 - weighted_f1_m: 0.7567 - weighted_precision_m: 0.8294 - weighted_recall_m: 0.7048 - val_loss: 0.8905 - val_accuracy: 0.4862 - val_mse: 0.8905 - val_f1_m: 0.7214 - val_precision_m: 0.8651 - val_recall_m: 0.6275 - val_weighted_accuracy: 0.4862 - val_weighted_mse: 0.8905 - val_weighted_f1_m: 0.7214 - val_weighted_precision_m: 0.8651 - val_weighted_recall_m: 0.6275\n",
            "Epoch 113/300\n",
            "996/996 [==============================] - 6s 6ms/step - loss: 0.8614 - accuracy: 0.4864 - mse: 0.8614 - f1_m: 0.7542 - precision_m: 0.8250 - recall_m: 0.7053 - weighted_accuracy: 0.4864 - weighted_mse: 0.8614 - weighted_f1_m: 0.7542 - weighted_precision_m: 0.8250 - weighted_recall_m: 0.7053 - val_loss: 0.8804 - val_accuracy: 0.4811 - val_mse: 0.8804 - val_f1_m: 0.7457 - val_precision_m: 0.7687 - val_recall_m: 0.7334 - val_weighted_accuracy: 0.4811 - val_weighted_mse: 0.8804 - val_weighted_f1_m: 0.7457 - val_weighted_precision_m: 0.7687 - val_weighted_recall_m: 0.7334\n",
            "Epoch 114/300\n",
            "996/996 [==============================] - 7s 7ms/step - loss: 0.8577 - accuracy: 0.4867 - mse: 0.8577 - f1_m: 0.7538 - precision_m: 0.8258 - recall_m: 0.7037 - weighted_accuracy: 0.4867 - weighted_mse: 0.8577 - weighted_f1_m: 0.7538 - weighted_precision_m: 0.8258 - weighted_recall_m: 0.7037 - val_loss: 0.8722 - val_accuracy: 0.4862 - val_mse: 0.8722 - val_f1_m: 0.7433 - val_precision_m: 0.8367 - val_recall_m: 0.6775 - val_weighted_accuracy: 0.4862 - val_weighted_mse: 0.8722 - val_weighted_f1_m: 0.7433 - val_weighted_precision_m: 0.8367 - val_weighted_recall_m: 0.6775\n",
            "Epoch 115/300\n",
            "996/996 [==============================] - 7s 7ms/step - loss: 0.8614 - accuracy: 0.4861 - mse: 0.8614 - f1_m: 0.7521 - precision_m: 0.8268 - recall_m: 0.7002 - weighted_accuracy: 0.4861 - weighted_mse: 0.8614 - weighted_f1_m: 0.7521 - weighted_precision_m: 0.8268 - weighted_recall_m: 0.7002 - val_loss: 0.8803 - val_accuracy: 0.4825 - val_mse: 0.8803 - val_f1_m: 0.7330 - val_precision_m: 0.8278 - val_recall_m: 0.6664 - val_weighted_accuracy: 0.4825 - val_weighted_mse: 0.8803 - val_weighted_f1_m: 0.7330 - val_weighted_precision_m: 0.8278 - val_weighted_recall_m: 0.6664\n",
            "Epoch 116/300\n",
            "996/996 [==============================] - 6s 7ms/step - loss: 0.8623 - accuracy: 0.4871 - mse: 0.8623 - f1_m: 0.7538 - precision_m: 0.8275 - recall_m: 0.7024 - weighted_accuracy: 0.4871 - weighted_mse: 0.8623 - weighted_f1_m: 0.7538 - weighted_precision_m: 0.8275 - weighted_recall_m: 0.7024 - val_loss: 0.8735 - val_accuracy: 0.4861 - val_mse: 0.8735 - val_f1_m: 0.7458 - val_precision_m: 0.8333 - val_recall_m: 0.6839 - val_weighted_accuracy: 0.4861 - val_weighted_mse: 0.8735 - val_weighted_f1_m: 0.7458 - val_weighted_precision_m: 0.8333 - val_weighted_recall_m: 0.6839\n",
            "Epoch 117/300\n",
            "996/996 [==============================] - 6s 6ms/step - loss: 0.8590 - accuracy: 0.4881 - mse: 0.8590 - f1_m: 0.7549 - precision_m: 0.8232 - recall_m: 0.7070 - weighted_accuracy: 0.4881 - weighted_mse: 0.8590 - weighted_f1_m: 0.7549 - weighted_precision_m: 0.8232 - weighted_recall_m: 0.7070 - val_loss: 0.8824 - val_accuracy: 0.4860 - val_mse: 0.8824 - val_f1_m: 0.7316 - val_precision_m: 0.8469 - val_recall_m: 0.6524 - val_weighted_accuracy: 0.4860 - val_weighted_mse: 0.8824 - val_weighted_f1_m: 0.7316 - val_weighted_precision_m: 0.8469 - val_weighted_recall_m: 0.6524\n",
            "Epoch 118/300\n",
            "996/996 [==============================] - 7s 7ms/step - loss: 0.8624 - accuracy: 0.4870 - mse: 0.8624 - f1_m: 0.7517 - precision_m: 0.8269 - recall_m: 0.6997 - weighted_accuracy: 0.4870 - weighted_mse: 0.8624 - weighted_f1_m: 0.7517 - weighted_precision_m: 0.8269 - weighted_recall_m: 0.6997 - val_loss: 0.8733 - val_accuracy: 0.4838 - val_mse: 0.8733 - val_f1_m: 0.7484 - val_precision_m: 0.8006 - val_recall_m: 0.7120 - val_weighted_accuracy: 0.4838 - val_weighted_mse: 0.8733 - val_weighted_f1_m: 0.7484 - val_weighted_precision_m: 0.8006 - val_weighted_recall_m: 0.7120\n",
            "Epoch 119/300\n",
            "996/996 [==============================] - 7s 7ms/step - loss: 0.8582 - accuracy: 0.4864 - mse: 0.8582 - f1_m: 0.7556 - precision_m: 0.8333 - recall_m: 0.7019 - weighted_accuracy: 0.4864 - weighted_mse: 0.8582 - weighted_f1_m: 0.7556 - weighted_precision_m: 0.8333 - weighted_recall_m: 0.7019 - val_loss: 0.8714 - val_accuracy: 0.4854 - val_mse: 0.8714 - val_f1_m: 0.7524 - val_precision_m: 0.8355 - val_recall_m: 0.6939 - val_weighted_accuracy: 0.4854 - val_weighted_mse: 0.8714 - val_weighted_f1_m: 0.7524 - val_weighted_precision_m: 0.8355 - val_weighted_recall_m: 0.6939\n",
            "Epoch 120/300\n",
            "996/996 [==============================] - 7s 7ms/step - loss: 0.8585 - accuracy: 0.4869 - mse: 0.8585 - f1_m: 0.7572 - precision_m: 0.8299 - recall_m: 0.7055 - weighted_accuracy: 0.4869 - weighted_mse: 0.8585 - weighted_f1_m: 0.7572 - weighted_precision_m: 0.8299 - weighted_recall_m: 0.7055 - val_loss: 0.8689 - val_accuracy: 0.4869 - val_mse: 0.8689 - val_f1_m: 0.7439 - val_precision_m: 0.8254 - val_recall_m: 0.6856 - val_weighted_accuracy: 0.4869 - val_weighted_mse: 0.8689 - val_weighted_f1_m: 0.7439 - val_weighted_precision_m: 0.8254 - val_weighted_recall_m: 0.6856\n",
            "Epoch 121/300\n",
            "996/996 [==============================] - 7s 7ms/step - loss: 0.8564 - accuracy: 0.4875 - mse: 0.8564 - f1_m: 0.7565 - precision_m: 0.8183 - recall_m: 0.7134 - weighted_accuracy: 0.4875 - weighted_mse: 0.8564 - weighted_f1_m: 0.7565 - weighted_precision_m: 0.8183 - weighted_recall_m: 0.7134 - val_loss: 0.8735 - val_accuracy: 0.4842 - val_mse: 0.8735 - val_f1_m: 0.7489 - val_precision_m: 0.7785 - val_recall_m: 0.7308 - val_weighted_accuracy: 0.4842 - val_weighted_mse: 0.8735 - val_weighted_f1_m: 0.7489 - val_weighted_precision_m: 0.7785 - val_weighted_recall_m: 0.7308\n",
            "Epoch 122/300\n",
            "996/996 [==============================] - 7s 7ms/step - loss: 0.8559 - accuracy: 0.4876 - mse: 0.8559 - f1_m: 0.7561 - precision_m: 0.8283 - recall_m: 0.7050 - weighted_accuracy: 0.4876 - weighted_mse: 0.8559 - weighted_f1_m: 0.7561 - weighted_precision_m: 0.8283 - weighted_recall_m: 0.7050 - val_loss: 0.8690 - val_accuracy: 0.4857 - val_mse: 0.8690 - val_f1_m: 0.7518 - val_precision_m: 0.8245 - val_recall_m: 0.7003 - val_weighted_accuracy: 0.4857 - val_weighted_mse: 0.8690 - val_weighted_f1_m: 0.7518 - val_weighted_precision_m: 0.8245 - val_weighted_recall_m: 0.7003\n",
            "Epoch 123/300\n",
            "996/996 [==============================] - 7s 7ms/step - loss: 0.8598 - accuracy: 0.4873 - mse: 0.8598 - f1_m: 0.7552 - precision_m: 0.8279 - recall_m: 0.7062 - weighted_accuracy: 0.4873 - weighted_mse: 0.8598 - weighted_f1_m: 0.7552 - weighted_precision_m: 0.8279 - weighted_recall_m: 0.7062 - val_loss: 0.8758 - val_accuracy: 0.4821 - val_mse: 0.8758 - val_f1_m: 0.7373 - val_precision_m: 0.8214 - val_recall_m: 0.6781 - val_weighted_accuracy: 0.4821 - val_weighted_mse: 0.8758 - val_weighted_f1_m: 0.7373 - val_weighted_precision_m: 0.8214 - val_weighted_recall_m: 0.6781\n",
            "Epoch 124/300\n",
            "996/996 [==============================] - 6s 6ms/step - loss: 0.8569 - accuracy: 0.4874 - mse: 0.8569 - f1_m: 0.7542 - precision_m: 0.8215 - recall_m: 0.7076 - weighted_accuracy: 0.4874 - weighted_mse: 0.8569 - weighted_f1_m: 0.7542 - weighted_precision_m: 0.8215 - weighted_recall_m: 0.7076 - val_loss: 0.8672 - val_accuracy: 0.4865 - val_mse: 0.8672 - val_f1_m: 0.7460 - val_precision_m: 0.8308 - val_recall_m: 0.6856 - val_weighted_accuracy: 0.4865 - val_weighted_mse: 0.8672 - val_weighted_f1_m: 0.7460 - val_weighted_precision_m: 0.8308 - val_weighted_recall_m: 0.6856\n",
            "Epoch 125/300\n",
            "996/996 [==============================] - 6s 6ms/step - loss: 0.8644 - accuracy: 0.4857 - mse: 0.8644 - f1_m: 0.7500 - precision_m: 0.8254 - recall_m: 0.6983 - weighted_accuracy: 0.4857 - weighted_mse: 0.8644 - weighted_f1_m: 0.7500 - weighted_precision_m: 0.8254 - weighted_recall_m: 0.6983 - val_loss: 0.8701 - val_accuracy: 0.4855 - val_mse: 0.8701 - val_f1_m: 0.7484 - val_precision_m: 0.7935 - val_recall_m: 0.7176 - val_weighted_accuracy: 0.4855 - val_weighted_mse: 0.8701 - val_weighted_f1_m: 0.7484 - val_weighted_precision_m: 0.7935 - val_weighted_recall_m: 0.7176\n",
            "Epoch 126/300\n",
            "996/996 [==============================] - 7s 7ms/step - loss: 0.8592 - accuracy: 0.4862 - mse: 0.8592 - f1_m: 0.7550 - precision_m: 0.8252 - recall_m: 0.7062 - weighted_accuracy: 0.4862 - weighted_mse: 0.8592 - weighted_f1_m: 0.7550 - weighted_precision_m: 0.8252 - weighted_recall_m: 0.7062 - val_loss: 0.8756 - val_accuracy: 0.4856 - val_mse: 0.8756 - val_f1_m: 0.7375 - val_precision_m: 0.8378 - val_recall_m: 0.6679 - val_weighted_accuracy: 0.4856 - val_weighted_mse: 0.8756 - val_weighted_f1_m: 0.7375 - val_weighted_precision_m: 0.8378 - val_weighted_recall_m: 0.6679\n",
            "Epoch 127/300\n",
            "996/996 [==============================] - 6s 6ms/step - loss: 0.8610 - accuracy: 0.4865 - mse: 0.8610 - f1_m: 0.7521 - precision_m: 0.8215 - recall_m: 0.7040 - weighted_accuracy: 0.4865 - weighted_mse: 0.8610 - weighted_f1_m: 0.7521 - weighted_precision_m: 0.8215 - weighted_recall_m: 0.7040 - val_loss: 0.8751 - val_accuracy: 0.4836 - val_mse: 0.8751 - val_f1_m: 0.7310 - val_precision_m: 0.8364 - val_recall_m: 0.6574 - val_weighted_accuracy: 0.4836 - val_weighted_mse: 0.8751 - val_weighted_f1_m: 0.7310 - val_weighted_precision_m: 0.8364 - val_weighted_recall_m: 0.6574\n",
            "Epoch 128/300\n",
            "996/996 [==============================] - 6s 6ms/step - loss: 0.8546 - accuracy: 0.4873 - mse: 0.8546 - f1_m: 0.7561 - precision_m: 0.8207 - recall_m: 0.7113 - weighted_accuracy: 0.4873 - weighted_mse: 0.8546 - weighted_f1_m: 0.7561 - weighted_precision_m: 0.8207 - weighted_recall_m: 0.7113 - val_loss: 0.8721 - val_accuracy: 0.4835 - val_mse: 0.8721 - val_f1_m: 0.7441 - val_precision_m: 0.8072 - val_recall_m: 0.6994 - val_weighted_accuracy: 0.4835 - val_weighted_mse: 0.8721 - val_weighted_f1_m: 0.7441 - val_weighted_precision_m: 0.8072 - val_weighted_recall_m: 0.6994\n",
            "Epoch 129/300\n",
            "996/996 [==============================] - 7s 7ms/step - loss: 0.8588 - accuracy: 0.4874 - mse: 0.8588 - f1_m: 0.7558 - precision_m: 0.8180 - recall_m: 0.7141 - weighted_accuracy: 0.4874 - weighted_mse: 0.8588 - weighted_f1_m: 0.7558 - weighted_precision_m: 0.8180 - weighted_recall_m: 0.7141 - val_loss: 0.8672 - val_accuracy: 0.4867 - val_mse: 0.8672 - val_f1_m: 0.7469 - val_precision_m: 0.8053 - val_recall_m: 0.7051 - val_weighted_accuracy: 0.4867 - val_weighted_mse: 0.8672 - val_weighted_f1_m: 0.7469 - val_weighted_precision_m: 0.8053 - val_weighted_recall_m: 0.7051\n",
            "Epoch 130/300\n",
            "996/996 [==============================] - 6s 6ms/step - loss: 0.8555 - accuracy: 0.4887 - mse: 0.8555 - f1_m: 0.7596 - precision_m: 0.8243 - recall_m: 0.7141 - weighted_accuracy: 0.4887 - weighted_mse: 0.8555 - weighted_f1_m: 0.7596 - weighted_precision_m: 0.8243 - weighted_recall_m: 0.7141 - val_loss: 0.9016 - val_accuracy: 0.4764 - val_mse: 0.9016 - val_f1_m: 0.7450 - val_precision_m: 0.7421 - val_recall_m: 0.7582 - val_weighted_accuracy: 0.4764 - val_weighted_mse: 0.9016 - val_weighted_f1_m: 0.7450 - val_weighted_precision_m: 0.7421 - val_weighted_recall_m: 0.7582\n",
            "Epoch 131/300\n",
            "996/996 [==============================] - 7s 7ms/step - loss: 0.8610 - accuracy: 0.4869 - mse: 0.8610 - f1_m: 0.7536 - precision_m: 0.8260 - recall_m: 0.7035 - weighted_accuracy: 0.4869 - weighted_mse: 0.8610 - weighted_f1_m: 0.7536 - weighted_precision_m: 0.8260 - weighted_recall_m: 0.7035 - val_loss: 0.8698 - val_accuracy: 0.4849 - val_mse: 0.8698 - val_f1_m: 0.7438 - val_precision_m: 0.8118 - val_recall_m: 0.6951 - val_weighted_accuracy: 0.4849 - val_weighted_mse: 0.8698 - val_weighted_f1_m: 0.7438 - val_weighted_precision_m: 0.8118 - val_weighted_recall_m: 0.6951\n",
            "Epoch 132/300\n",
            "996/996 [==============================] - 7s 7ms/step - loss: 0.8538 - accuracy: 0.4881 - mse: 0.8538 - f1_m: 0.7611 - precision_m: 0.8222 - recall_m: 0.7179 - weighted_accuracy: 0.4881 - weighted_mse: 0.8538 - weighted_f1_m: 0.7611 - weighted_precision_m: 0.8222 - weighted_recall_m: 0.7179 - val_loss: 0.8686 - val_accuracy: 0.4870 - val_mse: 0.8686 - val_f1_m: 0.7550 - val_precision_m: 0.8220 - val_recall_m: 0.7074 - val_weighted_accuracy: 0.4870 - val_weighted_mse: 0.8686 - val_weighted_f1_m: 0.7550 - val_weighted_precision_m: 0.8220 - val_weighted_recall_m: 0.7074\n",
            "Epoch 133/300\n",
            "996/996 [==============================] - 8s 8ms/step - loss: 0.8531 - accuracy: 0.4881 - mse: 0.8531 - f1_m: 0.7602 - precision_m: 0.8304 - recall_m: 0.7108 - weighted_accuracy: 0.4881 - weighted_mse: 0.8531 - weighted_f1_m: 0.7602 - weighted_precision_m: 0.8304 - weighted_recall_m: 0.7108 - val_loss: 0.8682 - val_accuracy: 0.4861 - val_mse: 0.8682 - val_f1_m: 0.7554 - val_precision_m: 0.8025 - val_recall_m: 0.7224 - val_weighted_accuracy: 0.4861 - val_weighted_mse: 0.8682 - val_weighted_f1_m: 0.7554 - val_weighted_precision_m: 0.8025 - val_weighted_recall_m: 0.7224\n",
            "Epoch 134/300\n",
            "996/996 [==============================] - 7s 7ms/step - loss: 0.8520 - accuracy: 0.4888 - mse: 0.8520 - f1_m: 0.7619 - precision_m: 0.8318 - recall_m: 0.7133 - weighted_accuracy: 0.4888 - weighted_mse: 0.8520 - weighted_f1_m: 0.7619 - weighted_precision_m: 0.8318 - weighted_recall_m: 0.7133 - val_loss: 0.8717 - val_accuracy: 0.4842 - val_mse: 0.8717 - val_f1_m: 0.7508 - val_precision_m: 0.7787 - val_recall_m: 0.7351 - val_weighted_accuracy: 0.4842 - val_weighted_mse: 0.8717 - val_weighted_f1_m: 0.7508 - val_weighted_precision_m: 0.7787 - val_weighted_recall_m: 0.7351\n",
            "Epoch 135/300\n",
            "996/996 [==============================] - 6s 6ms/step - loss: 0.8542 - accuracy: 0.4884 - mse: 0.8542 - f1_m: 0.7602 - precision_m: 0.8332 - recall_m: 0.7096 - weighted_accuracy: 0.4884 - weighted_mse: 0.8542 - weighted_f1_m: 0.7602 - weighted_precision_m: 0.8332 - weighted_recall_m: 0.7096 - val_loss: 0.8653 - val_accuracy: 0.4875 - val_mse: 0.8653 - val_f1_m: 0.7576 - val_precision_m: 0.8259 - val_recall_m: 0.7089 - val_weighted_accuracy: 0.4875 - val_weighted_mse: 0.8653 - val_weighted_f1_m: 0.7576 - val_weighted_precision_m: 0.8259 - val_weighted_recall_m: 0.7089\n",
            "Epoch 136/300\n",
            "996/996 [==============================] - 6s 6ms/step - loss: 0.8562 - accuracy: 0.4878 - mse: 0.8562 - f1_m: 0.7580 - precision_m: 0.8246 - recall_m: 0.7107 - weighted_accuracy: 0.4878 - weighted_mse: 0.8562 - weighted_f1_m: 0.7580 - weighted_precision_m: 0.8246 - weighted_recall_m: 0.7107 - val_loss: 0.8746 - val_accuracy: 0.4827 - val_mse: 0.8746 - val_f1_m: 0.7336 - val_precision_m: 0.8214 - val_recall_m: 0.6720 - val_weighted_accuracy: 0.4827 - val_weighted_mse: 0.8746 - val_weighted_f1_m: 0.7336 - val_weighted_precision_m: 0.8214 - val_weighted_recall_m: 0.6720\n",
            "Epoch 137/300\n",
            "996/996 [==============================] - 7s 7ms/step - loss: 0.8567 - accuracy: 0.4879 - mse: 0.8567 - f1_m: 0.7581 - precision_m: 0.8217 - recall_m: 0.7132 - weighted_accuracy: 0.4879 - weighted_mse: 0.8567 - weighted_f1_m: 0.7581 - weighted_precision_m: 0.8217 - weighted_recall_m: 0.7132 - val_loss: 0.8675 - val_accuracy: 0.4872 - val_mse: 0.8675 - val_f1_m: 0.7473 - val_precision_m: 0.8335 - val_recall_m: 0.6857 - val_weighted_accuracy: 0.4872 - val_weighted_mse: 0.8675 - val_weighted_f1_m: 0.7473 - val_weighted_precision_m: 0.8335 - val_weighted_recall_m: 0.6857\n",
            "Epoch 138/300\n",
            "996/996 [==============================] - 6s 6ms/step - loss: 0.8548 - accuracy: 0.4873 - mse: 0.8548 - f1_m: 0.7588 - precision_m: 0.8307 - recall_m: 0.7087 - weighted_accuracy: 0.4873 - weighted_mse: 0.8548 - weighted_f1_m: 0.7588 - weighted_precision_m: 0.8307 - weighted_recall_m: 0.7087 - val_loss: 0.8708 - val_accuracy: 0.4866 - val_mse: 0.8708 - val_f1_m: 0.7383 - val_precision_m: 0.8301 - val_recall_m: 0.6733 - val_weighted_accuracy: 0.4866 - val_weighted_mse: 0.8708 - val_weighted_f1_m: 0.7383 - val_weighted_precision_m: 0.8301 - val_weighted_recall_m: 0.6733\n",
            "Epoch 139/300\n",
            "996/996 [==============================] - 6s 6ms/step - loss: 0.8539 - accuracy: 0.4882 - mse: 0.8539 - f1_m: 0.7587 - precision_m: 0.8260 - recall_m: 0.7108 - weighted_accuracy: 0.4882 - weighted_mse: 0.8539 - weighted_f1_m: 0.7587 - weighted_precision_m: 0.8260 - weighted_recall_m: 0.7108 - val_loss: 0.8658 - val_accuracy: 0.4856 - val_mse: 0.8658 - val_f1_m: 0.7453 - val_precision_m: 0.8142 - val_recall_m: 0.6963 - val_weighted_accuracy: 0.4856 - val_weighted_mse: 0.8658 - val_weighted_f1_m: 0.7453 - val_weighted_precision_m: 0.8142 - val_weighted_recall_m: 0.6963\n",
            "Epoch 140/300\n",
            "996/996 [==============================] - 6s 6ms/step - loss: 0.8734 - accuracy: 0.4837 - mse: 0.8734 - f1_m: 0.7503 - precision_m: 0.8176 - recall_m: 0.7048 - weighted_accuracy: 0.4837 - weighted_mse: 0.8734 - weighted_f1_m: 0.7503 - weighted_precision_m: 0.8176 - weighted_recall_m: 0.7048 - val_loss: 0.8889 - val_accuracy: 0.4797 - val_mse: 0.8889 - val_f1_m: 0.7387 - val_precision_m: 0.7621 - val_recall_m: 0.7271 - val_weighted_accuracy: 0.4797 - val_weighted_mse: 0.8889 - val_weighted_f1_m: 0.7387 - val_weighted_precision_m: 0.7621 - val_weighted_recall_m: 0.7271\n",
            "Epoch 141/300\n",
            "996/996 [==============================] - 7s 7ms/step - loss: 0.8636 - accuracy: 0.4858 - mse: 0.8636 - f1_m: 0.7496 - precision_m: 0.8355 - recall_m: 0.6899 - weighted_accuracy: 0.4858 - weighted_mse: 0.8636 - weighted_f1_m: 0.7496 - weighted_precision_m: 0.8355 - weighted_recall_m: 0.6899 - val_loss: 0.8763 - val_accuracy: 0.4822 - val_mse: 0.8763 - val_f1_m: 0.7361 - val_precision_m: 0.8334 - val_recall_m: 0.6683 - val_weighted_accuracy: 0.4822 - val_weighted_mse: 0.8763 - val_weighted_f1_m: 0.7361 - val_weighted_precision_m: 0.8334 - val_weighted_recall_m: 0.6683\n",
            "Epoch 142/300\n",
            "996/996 [==============================] - 6s 6ms/step - loss: 0.8587 - accuracy: 0.4873 - mse: 0.8587 - f1_m: 0.7573 - precision_m: 0.8287 - recall_m: 0.7082 - weighted_accuracy: 0.4873 - weighted_mse: 0.8587 - weighted_f1_m: 0.7573 - weighted_precision_m: 0.8287 - weighted_recall_m: 0.7082 - val_loss: 0.8711 - val_accuracy: 0.4852 - val_mse: 0.8711 - val_f1_m: 0.7347 - val_precision_m: 0.8288 - val_recall_m: 0.6686 - val_weighted_accuracy: 0.4852 - val_weighted_mse: 0.8711 - val_weighted_f1_m: 0.7347 - val_weighted_precision_m: 0.8288 - val_weighted_recall_m: 0.6686\n",
            "Epoch 143/300\n",
            "996/996 [==============================] - 6s 6ms/step - loss: 0.8555 - accuracy: 0.4878 - mse: 0.8555 - f1_m: 0.7565 - precision_m: 0.8311 - recall_m: 0.7050 - weighted_accuracy: 0.4878 - weighted_mse: 0.8555 - weighted_f1_m: 0.7565 - weighted_precision_m: 0.8311 - weighted_recall_m: 0.7050 - val_loss: 0.8692 - val_accuracy: 0.4868 - val_mse: 0.8692 - val_f1_m: 0.7518 - val_precision_m: 0.8463 - val_recall_m: 0.6856 - val_weighted_accuracy: 0.4868 - val_weighted_mse: 0.8692 - val_weighted_f1_m: 0.7518 - val_weighted_precision_m: 0.8463 - val_weighted_recall_m: 0.6856\n",
            "Epoch 144/300\n",
            "996/996 [==============================] - 6s 6ms/step - loss: 0.8524 - accuracy: 0.4887 - mse: 0.8524 - f1_m: 0.7614 - precision_m: 0.8329 - recall_m: 0.7104 - weighted_accuracy: 0.4887 - weighted_mse: 0.8524 - weighted_f1_m: 0.7614 - weighted_precision_m: 0.8329 - weighted_recall_m: 0.7104 - val_loss: 0.8779 - val_accuracy: 0.4843 - val_mse: 0.8779 - val_f1_m: 0.7321 - val_precision_m: 0.8618 - val_recall_m: 0.6451 - val_weighted_accuracy: 0.4843 - val_weighted_mse: 0.8779 - val_weighted_f1_m: 0.7321 - val_weighted_precision_m: 0.8618 - val_weighted_recall_m: 0.6451\n",
            "Epoch 145/300\n",
            "996/996 [==============================] - 7s 7ms/step - loss: 0.8565 - accuracy: 0.4875 - mse: 0.8565 - f1_m: 0.7571 - precision_m: 0.8329 - recall_m: 0.7043 - weighted_accuracy: 0.4875 - weighted_mse: 0.8565 - weighted_f1_m: 0.7571 - weighted_precision_m: 0.8329 - weighted_recall_m: 0.7043 - val_loss: 0.8699 - val_accuracy: 0.4862 - val_mse: 0.8699 - val_f1_m: 0.7334 - val_precision_m: 0.8329 - val_recall_m: 0.6640 - val_weighted_accuracy: 0.4862 - val_weighted_mse: 0.8699 - val_weighted_f1_m: 0.7334 - val_weighted_precision_m: 0.8329 - val_weighted_recall_m: 0.6640\n",
            "Epoch 146/300\n",
            "515/996 [==============>...............] - ETA: 2s - loss: 0.8525 - accuracy: 0.4883 - mse: 0.8525 - f1_m: 0.7611 - precision_m: 0.8378 - recall_m: 0.7073 - weighted_accuracy: 0.4883 - weighted_mse: 0.8525 - weighted_f1_m: 0.7611 - weighted_precision_m: 0.8378 - weighted_recall_m: 0.7073"
          ]
        },
        {
          "ename": "KeyboardInterrupt",
          "evalue": "ignored",
          "output_type": "error",
          "traceback": [
            "\u001b[0;31m---------------------------------------------------------------------------\u001b[0m",
            "\u001b[0;31mKeyboardInterrupt\u001b[0m                         Traceback (most recent call last)",
            "\u001b[0;32m<ipython-input-10-bd4b57b873a4>\u001b[0m in \u001b[0;36m<module>\u001b[0;34m\u001b[0m\n\u001b[1;32m     19\u001b[0m               weighted_metrics=['accuracy', 'mse', f1_m,precision_m, recall_m])\n\u001b[1;32m     20\u001b[0m \u001b[0;34m\u001b[0m\u001b[0m\n\u001b[0;32m---> 21\u001b[0;31m \u001b[0mMLP_model\u001b[0m\u001b[0;34m.\u001b[0m\u001b[0mfit\u001b[0m\u001b[0;34m(\u001b[0m\u001b[0mX_train\u001b[0m\u001b[0;34m,\u001b[0m \u001b[0my_train\u001b[0m\u001b[0;34m,\u001b[0m \u001b[0mvalidation_data\u001b[0m \u001b[0;34m=\u001b[0m \u001b[0;34m(\u001b[0m\u001b[0mX_valid\u001b[0m\u001b[0;34m,\u001b[0m\u001b[0my_valid\u001b[0m\u001b[0;34m)\u001b[0m\u001b[0;34m,\u001b[0m \u001b[0mepochs\u001b[0m\u001b[0;34m=\u001b[0m \u001b[0;36m300\u001b[0m\u001b[0;34m,\u001b[0m \u001b[0mbatch_size\u001b[0m \u001b[0;34m=\u001b[0m \u001b[0;36m64\u001b[0m\u001b[0;34m)\u001b[0m\u001b[0;34m\u001b[0m\u001b[0;34m\u001b[0m\u001b[0m\n\u001b[0m",
            "\u001b[0;32m/usr/local/lib/python3.8/dist-packages/keras/utils/traceback_utils.py\u001b[0m in \u001b[0;36merror_handler\u001b[0;34m(*args, **kwargs)\u001b[0m\n\u001b[1;32m     62\u001b[0m     \u001b[0mfiltered_tb\u001b[0m \u001b[0;34m=\u001b[0m \u001b[0;32mNone\u001b[0m\u001b[0;34m\u001b[0m\u001b[0;34m\u001b[0m\u001b[0m\n\u001b[1;32m     63\u001b[0m     \u001b[0;32mtry\u001b[0m\u001b[0;34m:\u001b[0m\u001b[0;34m\u001b[0m\u001b[0;34m\u001b[0m\u001b[0m\n\u001b[0;32m---> 64\u001b[0;31m       \u001b[0;32mreturn\u001b[0m \u001b[0mfn\u001b[0m\u001b[0;34m(\u001b[0m\u001b[0;34m*\u001b[0m\u001b[0margs\u001b[0m\u001b[0;34m,\u001b[0m \u001b[0;34m**\u001b[0m\u001b[0mkwargs\u001b[0m\u001b[0;34m)\u001b[0m\u001b[0;34m\u001b[0m\u001b[0;34m\u001b[0m\u001b[0m\n\u001b[0m\u001b[1;32m     65\u001b[0m     \u001b[0;32mexcept\u001b[0m \u001b[0mException\u001b[0m \u001b[0;32mas\u001b[0m \u001b[0me\u001b[0m\u001b[0;34m:\u001b[0m  \u001b[0;31m# pylint: disable=broad-except\u001b[0m\u001b[0;34m\u001b[0m\u001b[0;34m\u001b[0m\u001b[0m\n\u001b[1;32m     66\u001b[0m       \u001b[0mfiltered_tb\u001b[0m \u001b[0;34m=\u001b[0m \u001b[0m_process_traceback_frames\u001b[0m\u001b[0;34m(\u001b[0m\u001b[0me\u001b[0m\u001b[0;34m.\u001b[0m\u001b[0m__traceback__\u001b[0m\u001b[0;34m)\u001b[0m\u001b[0;34m\u001b[0m\u001b[0;34m\u001b[0m\u001b[0m\n",
            "\u001b[0;32m/usr/local/lib/python3.8/dist-packages/keras/engine/training.py\u001b[0m in \u001b[0;36mfit\u001b[0;34m(self, x, y, batch_size, epochs, verbose, callbacks, validation_split, validation_data, shuffle, class_weight, sample_weight, initial_epoch, steps_per_epoch, validation_steps, validation_batch_size, validation_freq, max_queue_size, workers, use_multiprocessing)\u001b[0m\n\u001b[1;32m   1407\u001b[0m                 _r=1):\n\u001b[1;32m   1408\u001b[0m               \u001b[0mcallbacks\u001b[0m\u001b[0;34m.\u001b[0m\u001b[0mon_train_batch_begin\u001b[0m\u001b[0;34m(\u001b[0m\u001b[0mstep\u001b[0m\u001b[0;34m)\u001b[0m\u001b[0;34m\u001b[0m\u001b[0;34m\u001b[0m\u001b[0m\n\u001b[0;32m-> 1409\u001b[0;31m               \u001b[0mtmp_logs\u001b[0m \u001b[0;34m=\u001b[0m \u001b[0mself\u001b[0m\u001b[0;34m.\u001b[0m\u001b[0mtrain_function\u001b[0m\u001b[0;34m(\u001b[0m\u001b[0miterator\u001b[0m\u001b[0;34m)\u001b[0m\u001b[0;34m\u001b[0m\u001b[0;34m\u001b[0m\u001b[0m\n\u001b[0m\u001b[1;32m   1410\u001b[0m               \u001b[0;32mif\u001b[0m \u001b[0mdata_handler\u001b[0m\u001b[0;34m.\u001b[0m\u001b[0mshould_sync\u001b[0m\u001b[0;34m:\u001b[0m\u001b[0;34m\u001b[0m\u001b[0;34m\u001b[0m\u001b[0m\n\u001b[1;32m   1411\u001b[0m                 \u001b[0mcontext\u001b[0m\u001b[0;34m.\u001b[0m\u001b[0masync_wait\u001b[0m\u001b[0;34m(\u001b[0m\u001b[0;34m)\u001b[0m\u001b[0;34m\u001b[0m\u001b[0;34m\u001b[0m\u001b[0m\n",
            "\u001b[0;32m/usr/local/lib/python3.8/dist-packages/tensorflow/python/util/traceback_utils.py\u001b[0m in \u001b[0;36merror_handler\u001b[0;34m(*args, **kwargs)\u001b[0m\n\u001b[1;32m    148\u001b[0m     \u001b[0mfiltered_tb\u001b[0m \u001b[0;34m=\u001b[0m \u001b[0;32mNone\u001b[0m\u001b[0;34m\u001b[0m\u001b[0;34m\u001b[0m\u001b[0m\n\u001b[1;32m    149\u001b[0m     \u001b[0;32mtry\u001b[0m\u001b[0;34m:\u001b[0m\u001b[0;34m\u001b[0m\u001b[0;34m\u001b[0m\u001b[0m\n\u001b[0;32m--> 150\u001b[0;31m       \u001b[0;32mreturn\u001b[0m \u001b[0mfn\u001b[0m\u001b[0;34m(\u001b[0m\u001b[0;34m*\u001b[0m\u001b[0margs\u001b[0m\u001b[0;34m,\u001b[0m \u001b[0;34m**\u001b[0m\u001b[0mkwargs\u001b[0m\u001b[0;34m)\u001b[0m\u001b[0;34m\u001b[0m\u001b[0;34m\u001b[0m\u001b[0m\n\u001b[0m\u001b[1;32m    151\u001b[0m     \u001b[0;32mexcept\u001b[0m \u001b[0mException\u001b[0m \u001b[0;32mas\u001b[0m \u001b[0me\u001b[0m\u001b[0;34m:\u001b[0m\u001b[0;34m\u001b[0m\u001b[0;34m\u001b[0m\u001b[0m\n\u001b[1;32m    152\u001b[0m       \u001b[0mfiltered_tb\u001b[0m \u001b[0;34m=\u001b[0m \u001b[0m_process_traceback_frames\u001b[0m\u001b[0;34m(\u001b[0m\u001b[0me\u001b[0m\u001b[0;34m.\u001b[0m\u001b[0m__traceback__\u001b[0m\u001b[0;34m)\u001b[0m\u001b[0;34m\u001b[0m\u001b[0;34m\u001b[0m\u001b[0m\n",
            "\u001b[0;32m/usr/local/lib/python3.8/dist-packages/tensorflow/python/eager/def_function.py\u001b[0m in \u001b[0;36m__call__\u001b[0;34m(self, *args, **kwds)\u001b[0m\n\u001b[1;32m    913\u001b[0m \u001b[0;34m\u001b[0m\u001b[0m\n\u001b[1;32m    914\u001b[0m       \u001b[0;32mwith\u001b[0m \u001b[0mOptionalXlaContext\u001b[0m\u001b[0;34m(\u001b[0m\u001b[0mself\u001b[0m\u001b[0;34m.\u001b[0m\u001b[0m_jit_compile\u001b[0m\u001b[0;34m)\u001b[0m\u001b[0;34m:\u001b[0m\u001b[0;34m\u001b[0m\u001b[0;34m\u001b[0m\u001b[0m\n\u001b[0;32m--> 915\u001b[0;31m         \u001b[0mresult\u001b[0m \u001b[0;34m=\u001b[0m \u001b[0mself\u001b[0m\u001b[0;34m.\u001b[0m\u001b[0m_call\u001b[0m\u001b[0;34m(\u001b[0m\u001b[0;34m*\u001b[0m\u001b[0margs\u001b[0m\u001b[0;34m,\u001b[0m \u001b[0;34m**\u001b[0m\u001b[0mkwds\u001b[0m\u001b[0;34m)\u001b[0m\u001b[0;34m\u001b[0m\u001b[0;34m\u001b[0m\u001b[0m\n\u001b[0m\u001b[1;32m    916\u001b[0m \u001b[0;34m\u001b[0m\u001b[0m\n\u001b[1;32m    917\u001b[0m       \u001b[0mnew_tracing_count\u001b[0m \u001b[0;34m=\u001b[0m \u001b[0mself\u001b[0m\u001b[0;34m.\u001b[0m\u001b[0mexperimental_get_tracing_count\u001b[0m\u001b[0;34m(\u001b[0m\u001b[0;34m)\u001b[0m\u001b[0;34m\u001b[0m\u001b[0;34m\u001b[0m\u001b[0m\n",
            "\u001b[0;32m/usr/local/lib/python3.8/dist-packages/tensorflow/python/eager/def_function.py\u001b[0m in \u001b[0;36m_call\u001b[0;34m(self, *args, **kwds)\u001b[0m\n\u001b[1;32m    945\u001b[0m       \u001b[0;31m# In this case we have created variables on the first call, so we run the\u001b[0m\u001b[0;34m\u001b[0m\u001b[0;34m\u001b[0m\u001b[0;34m\u001b[0m\u001b[0m\n\u001b[1;32m    946\u001b[0m       \u001b[0;31m# defunned version which is guaranteed to never create variables.\u001b[0m\u001b[0;34m\u001b[0m\u001b[0;34m\u001b[0m\u001b[0;34m\u001b[0m\u001b[0m\n\u001b[0;32m--> 947\u001b[0;31m       \u001b[0;32mreturn\u001b[0m \u001b[0mself\u001b[0m\u001b[0;34m.\u001b[0m\u001b[0m_stateless_fn\u001b[0m\u001b[0;34m(\u001b[0m\u001b[0;34m*\u001b[0m\u001b[0margs\u001b[0m\u001b[0;34m,\u001b[0m \u001b[0;34m**\u001b[0m\u001b[0mkwds\u001b[0m\u001b[0;34m)\u001b[0m  \u001b[0;31m# pylint: disable=not-callable\u001b[0m\u001b[0;34m\u001b[0m\u001b[0;34m\u001b[0m\u001b[0m\n\u001b[0m\u001b[1;32m    948\u001b[0m     \u001b[0;32melif\u001b[0m \u001b[0mself\u001b[0m\u001b[0;34m.\u001b[0m\u001b[0m_stateful_fn\u001b[0m \u001b[0;32mis\u001b[0m \u001b[0;32mnot\u001b[0m \u001b[0;32mNone\u001b[0m\u001b[0;34m:\u001b[0m\u001b[0;34m\u001b[0m\u001b[0;34m\u001b[0m\u001b[0m\n\u001b[1;32m    949\u001b[0m       \u001b[0;31m# Release the lock early so that multiple threads can perform the call\u001b[0m\u001b[0;34m\u001b[0m\u001b[0;34m\u001b[0m\u001b[0;34m\u001b[0m\u001b[0m\n",
            "\u001b[0;32m/usr/local/lib/python3.8/dist-packages/tensorflow/python/eager/function.py\u001b[0m in \u001b[0;36m__call__\u001b[0;34m(self, *args, **kwargs)\u001b[0m\n\u001b[1;32m   2451\u001b[0m       (graph_function,\n\u001b[1;32m   2452\u001b[0m        filtered_flat_args) = self._maybe_define_function(args, kwargs)\n\u001b[0;32m-> 2453\u001b[0;31m     return graph_function._call_flat(\n\u001b[0m\u001b[1;32m   2454\u001b[0m         filtered_flat_args, captured_inputs=graph_function.captured_inputs)  # pylint: disable=protected-access\n\u001b[1;32m   2455\u001b[0m \u001b[0;34m\u001b[0m\u001b[0m\n",
            "\u001b[0;32m/usr/local/lib/python3.8/dist-packages/tensorflow/python/eager/function.py\u001b[0m in \u001b[0;36m_call_flat\u001b[0;34m(self, args, captured_inputs, cancellation_manager)\u001b[0m\n\u001b[1;32m   1858\u001b[0m         and executing_eagerly):\n\u001b[1;32m   1859\u001b[0m       \u001b[0;31m# No tape is watching; skip to running the function.\u001b[0m\u001b[0;34m\u001b[0m\u001b[0;34m\u001b[0m\u001b[0;34m\u001b[0m\u001b[0m\n\u001b[0;32m-> 1860\u001b[0;31m       return self._build_call_outputs(self._inference_function.call(\n\u001b[0m\u001b[1;32m   1861\u001b[0m           ctx, args, cancellation_manager=cancellation_manager))\n\u001b[1;32m   1862\u001b[0m     forward_backward = self._select_forward_and_backward_functions(\n",
            "\u001b[0;32m/usr/local/lib/python3.8/dist-packages/tensorflow/python/eager/function.py\u001b[0m in \u001b[0;36mcall\u001b[0;34m(self, ctx, args, cancellation_manager)\u001b[0m\n\u001b[1;32m    495\u001b[0m       \u001b[0;32mwith\u001b[0m \u001b[0m_InterpolateFunctionError\u001b[0m\u001b[0;34m(\u001b[0m\u001b[0mself\u001b[0m\u001b[0;34m)\u001b[0m\u001b[0;34m:\u001b[0m\u001b[0;34m\u001b[0m\u001b[0;34m\u001b[0m\u001b[0m\n\u001b[1;32m    496\u001b[0m         \u001b[0;32mif\u001b[0m \u001b[0mcancellation_manager\u001b[0m \u001b[0;32mis\u001b[0m \u001b[0;32mNone\u001b[0m\u001b[0;34m:\u001b[0m\u001b[0;34m\u001b[0m\u001b[0;34m\u001b[0m\u001b[0m\n\u001b[0;32m--> 497\u001b[0;31m           outputs = execute.execute(\n\u001b[0m\u001b[1;32m    498\u001b[0m               \u001b[0mstr\u001b[0m\u001b[0;34m(\u001b[0m\u001b[0mself\u001b[0m\u001b[0;34m.\u001b[0m\u001b[0msignature\u001b[0m\u001b[0;34m.\u001b[0m\u001b[0mname\u001b[0m\u001b[0;34m)\u001b[0m\u001b[0;34m,\u001b[0m\u001b[0;34m\u001b[0m\u001b[0;34m\u001b[0m\u001b[0m\n\u001b[1;32m    499\u001b[0m               \u001b[0mnum_outputs\u001b[0m\u001b[0;34m=\u001b[0m\u001b[0mself\u001b[0m\u001b[0;34m.\u001b[0m\u001b[0m_num_outputs\u001b[0m\u001b[0;34m,\u001b[0m\u001b[0;34m\u001b[0m\u001b[0;34m\u001b[0m\u001b[0m\n",
            "\u001b[0;32m/usr/local/lib/python3.8/dist-packages/tensorflow/python/eager/execute.py\u001b[0m in \u001b[0;36mquick_execute\u001b[0;34m(op_name, num_outputs, inputs, attrs, ctx, name)\u001b[0m\n\u001b[1;32m     52\u001b[0m   \u001b[0;32mtry\u001b[0m\u001b[0;34m:\u001b[0m\u001b[0;34m\u001b[0m\u001b[0;34m\u001b[0m\u001b[0m\n\u001b[1;32m     53\u001b[0m     \u001b[0mctx\u001b[0m\u001b[0;34m.\u001b[0m\u001b[0mensure_initialized\u001b[0m\u001b[0;34m(\u001b[0m\u001b[0;34m)\u001b[0m\u001b[0;34m\u001b[0m\u001b[0;34m\u001b[0m\u001b[0m\n\u001b[0;32m---> 54\u001b[0;31m     tensors = pywrap_tfe.TFE_Py_Execute(ctx._handle, device_name, op_name,\n\u001b[0m\u001b[1;32m     55\u001b[0m                                         inputs, attrs, num_outputs)\n\u001b[1;32m     56\u001b[0m   \u001b[0;32mexcept\u001b[0m \u001b[0mcore\u001b[0m\u001b[0;34m.\u001b[0m\u001b[0m_NotOkStatusException\u001b[0m \u001b[0;32mas\u001b[0m \u001b[0me\u001b[0m\u001b[0;34m:\u001b[0m\u001b[0;34m\u001b[0m\u001b[0;34m\u001b[0m\u001b[0m\n",
            "\u001b[0;31mKeyboardInterrupt\u001b[0m: "
          ]
        }
      ],
      "source": [
        "from keras.optimizers import Adam\n",
        "import tensorflow as tf\n",
        "# Multi Layer Perceptron\n",
        "\n",
        "y_train=np.asarray(y_train ,dtype=int)\n",
        "MLP_model = Sequential()\n",
        "MLP_model.add(Dense(1024, activation='relu',  input_dim = 18 ))\n",
        "MLP_model.add(Dense(512, activation='relu'))\n",
        "MLP_model.add(Dense(256,activation='relu'))\n",
        "MLP_model.add(Dense(128,activation='relu'))\n",
        "MLP_model.add(Dense(64,activation='relu'))\n",
        "MLP_model.add(Dense(32,activation='relu'))\n",
        "MLP_model.add(Dense(16,activation='relu'))\n",
        "MLP_model.add(Dense(8,activation='relu'))\n",
        "MLP_model.add(Dense(1,activation='sigmoid'))\n",
        "\n",
        "MLP_model.compile(optimizer=Adam(lr=0.001), loss= tf.keras.losses.MeanSquaredError(), \n",
        "              metrics=['accuracy', 'mse', f1_m,precision_m, recall_m],\n",
        "              weighted_metrics=['accuracy', 'mse', f1_m,precision_m, recall_m])\n",
        "\n",
        "MLP_model.fit(X_train, y_train, validation_data = (X_valid,y_valid), epochs= 300, batch_size = 64)"
      ]
    },
    {
      "cell_type": "code",
      "execution_count": null,
      "metadata": {
        "id": "h7sWlBA00bih"
      },
      "outputs": [],
      "source": [
        "from keras.engine.base_layer import Layer\n",
        "# Linear Regression: Standard and Bayesian Ridge\n",
        "\n",
        "def MLP_Classifier(act_fctn, layer, X_train, y_train,X_test, y_test):\n",
        "\n",
        "  nlp_model = MLPClassifier(activation = act_fctn, hidden_layer_sizes = (layer,))\n",
        "  nlp_model.fit(X_train, y_train)\n",
        "\n",
        "  y_pred = nlp_model.predict(X_test)\n",
        "\n",
        "  RMSE = mean_squared_error(y_test, y_pred)\n",
        "  # r2_score = r2_score(y_test, y_pred)\n",
        "  accuracy = accuracy_score(y_test, y_pred)*100\n",
        "\n",
        "  print(\"RMSE = %.3f \" %RMSE, '\\n' )\n",
        "  # print(\"r2 Score  = %.3f \" %r2, '% \\n' )\n",
        "  print(f'Accuracy for activation {act_fctn} for {layer} : %.4f' % accuracy)\n",
        "  print('f1 score : %.4f' % (f1_score(y_test, y_pred, average='micro')))\n",
        "\n",
        "\n",
        "  return nlp_model, accuracy, nlp_model.score(X_test, y_test)\n",
        "\n",
        "act_fcts = [\"identity\", \"logistic\", \"tanh\", \"relu\"]\n",
        "\n",
        "layers = np.arange(1, 10, 2)\n",
        "act_fct = \"logistic\"\n",
        "\n",
        "Score_NLC_Id = []; Score_NLC_lg = []; Score_NLC_t = []; Score_NLC_rl = []\n",
        "Accuracy_NLC_Id = []; Accuracy_NLC_lg = []; Accuracy_NLC_t = []; Accuracy_NLC_rl = []\n",
        "\n",
        "i = 0\n",
        "\n",
        "for act_fct in act_fcts:    \n",
        "  for layer in layers:\n",
        "    \n",
        "    model_nlp, accuracy, score = MLP_Classifier(act_fct, layer, X_train, y_train,X_test, y_test) \n",
        "    if i == 0:\n",
        "      Score_NLC_Id.append(score)\n",
        "      Accuracy_NLC_Id.append(accuracy)\n",
        "    if i == 1:\n",
        "      Score_NLC_lg.append(score)\n",
        "      Accuracy_NLC_lg.append(accuracy)\n",
        "    if i == 2:\n",
        "      Score_NLC_t.append(score)\n",
        "      Accuracy_NLC_t.append(accuracy)\n",
        "    if i == 3: \n",
        "      Score_NLC_rl.append(score)\n",
        "      Accuracy_NLC_rl.append(accuracy)\n",
        "  i= i+1"
      ]
    },
    {
      "cell_type": "code",
      "execution_count": null,
      "metadata": {
        "id": "pJxQYLmDZ3SM"
      },
      "outputs": [],
      "source": [
        "model_nlp, accuracy, score = MLP_Classifier('logistic', 10, X_train, y_train,X_test, y_test)"
      ]
    },
    {
      "cell_type": "code",
      "execution_count": null,
      "metadata": {
        "id": "nL3eDjWraSi_"
      },
      "outputs": [],
      "source": [
        "model_save_name = 'MLP_Function_Lib_Model_Thermal_Comfort.pt'\n",
        "path = f\"/content/drive/MyDrive/WPI/Deep Learning/Project/Models Trained/ Thermal_Comfort/{model_save_name}\" \n",
        "model.save(path)"
      ]
    },
    {
      "cell_type": "markdown",
      "metadata": {
        "id": "LE1GYP2D1hCE"
      },
      "source": [
        "### CNN "
      ]
    },
    {
      "cell_type": "code",
      "execution_count": null,
      "metadata": {
        "id": "rDqgHB0uyHde"
      },
      "outputs": [],
      "source": [
        "# CNN\n",
        "\n",
        "from tensorflow.keras import layers\n",
        "import tensorflow as tf\n",
        "\n",
        "\n",
        "model = Sequential()\n",
        "model.add(Dense(256, input_dim = 18, activation='relu'))\n",
        "model.add(Dense(128, activation='relu'))\n",
        "model.add(Dense(128, activation='relu'))\n",
        "model.add(Dense(64, activation='relu'))\n",
        "model.add(Dense(32, activation='relu'))\n",
        "model.add(Dense(16, activation='relu'))\n",
        "model.add(Dense(8, activation='relu'))\n",
        "model.add(Dense(1, activation='sigmoid'))\n",
        "\n",
        "model.compile(optimizer=Adam(lr=0.0001), loss= tf.keras.losses.MeanSquaredError(), \n",
        "              metrics=['accuracy', 'mse', f1_m,precision_m, recall_m],\n",
        "              weighted_metrics=['accuracy', 'mse', f1_m,precision_m, recall_m])\n",
        "\n",
        "model.fit(X_train, y_train, validation_data = (X_valid,y_valid), epochs= 500, batch_size = 120)"
      ]
    },
    {
      "cell_type": "code",
      "execution_count": null,
      "metadata": {
        "id": "yS6FpPvo0n8H"
      },
      "outputs": [],
      "source": [
        "from tensorflow import keras\n",
        "\n",
        "model_save_name = 'CNN_Model_Thermal_Comfort_1.pt'\n",
        "path = f\"/content/drive/MyDrive/WPI/Deep Learning/Project/Models Trained/ Thermal_Comfort/{model_save_name}\" \n",
        "model.save(path)\n"
      ]
    },
    {
      "cell_type": "code",
      "execution_count": null,
      "metadata": {
        "id": "blwL8RyA1F8-"
      },
      "outputs": [],
      "source": [
        "# CNN\n",
        "\n",
        "from tensorflow.keras import layers\n",
        "import tensorflow as tf\n",
        "\n",
        "\n",
        "model = Sequential()\n",
        "model.add(Dense(256, input_dim = 18, activation='relu'))\n",
        "model.add(Dense(128, activation='relu'))\n",
        "model.add(Dense(128, activation='relu'))\n",
        "model.add(Dense(64, activation='relu'))\n",
        "model.add(Dense(32, activation='relu'))\n",
        "model.add(Dense(16, activation='relu'))\n",
        "model.add(Dense(8, activation='relu'))\n",
        "model.add(Dense(1, activation='sigmoid'))\n",
        "\n",
        "model.compile(optimizer=Adam(lr=0.0001), loss= tf.keras.losses.MeanSquaredError(), \n",
        "              metrics=['accuracy', 'mse', f1_m,precision_m, recall_m],\n",
        "              weighted_metrics=['accuracy', 'mse', f1_m,precision_m, recall_m])\n",
        "\n",
        "model.fit(X_train, y_train, validation_data = (X_valid,y_valid), epochs= 100, batch_size=235)"
      ]
    },
    {
      "cell_type": "code",
      "execution_count": null,
      "metadata": {
        "id": "kAh2f8CPQrsc"
      },
      "outputs": [],
      "source": [
        "from tensorflow import keras\n",
        "\n",
        "model_save_name = 'CNN_Model_Thermal_Comfort.pt'\n",
        "path = f\"/content/drive/MyDrive/WPI/Deep Learning/Project/Models Trained/ Thermal_Comfort/{model_save_name}\" \n",
        "model.save(path)\n"
      ]
    },
    {
      "cell_type": "markdown",
      "metadata": {
        "id": "P9e4OJky1fty"
      },
      "source": [
        "### LSTM"
      ]
    },
    {
      "cell_type": "code",
      "execution_count": null,
      "metadata": {
        "id": "ZrsosF2H5Pkd"
      },
      "outputs": [],
      "source": [
        "df_ashrae = pd.read_csv(\"/content/drive/MyDrive/WPI/Deep Learning/Project/db_measurements_v2.1.0.csv\")\n",
        "\n",
        "df_ashrae_mod = df_ashrae[['age', 'gender', 't_out', 'ta', 'rh', 'vel', 'tr', 'thermal_acceptability',\n",
        "                           'thermal_preference', 'thermal_comfort', 'met', 'clo', 'thermal_sensation']]\n",
        "\n",
        "columns = df_ashrae_mod.columns\n",
        "df_ashrae_mod = df_ashrae_mod.dropna().reset_index().drop('index', axis = 1)         \n",
        "\n",
        "#Making the range from [-3,3] to[2,2]\n",
        "df_ashrae_mod['thermal_sensation'] = df_ashrae_mod['thermal_sensation'].apply(lambda x: -2 if x <= -2 else x)\n",
        "df_ashrae_mod['thermal_sensation'] = df_ashrae_mod['thermal_sensation'].apply(lambda x: 2 if x >= 2 else x)\n",
        "#Rounding off the values to make it categorical in nature \n",
        "df_ashrae_mod['thermal_sensation'] = df_ashrae_mod['thermal_sensation'].apply(lambda x: np.round(x))\n",
        "df_ashrae_mod = df_ashrae_mod.round(3)\n",
        "\n",
        "# Sampling Minority Data\n",
        "\n",
        "X = df_ashrae_mod.drop(['thermal_sensation'], axis = 1)\n",
        "y = df_ashrae_mod[ 'thermal_sensation']\n",
        "\n",
        "X = pd.get_dummies(X, columns =['gender', 'thermal_acceptability' , 'thermal_preference'])\n",
        "X = X.values\n",
        "y = y.values\n",
        "sm = RandomOverSampler(sampling_strategy = 'minority', random_state=42)\n",
        "X_resampled, y_resampled = sm.fit_resample(X, y)\n",
        "\n",
        "from collections import Counter\n",
        "print('Original dataset shape %s' % Counter(y))\n",
        "print('Original dataset shape %s' % Counter(y_resampled))"
      ]
    },
    {
      "cell_type": "code",
      "execution_count": null,
      "metadata": {
        "id": "cYtTvmndxL8V"
      },
      "outputs": [],
      "source": [
        "X_train, X_test, y_train, y_test = train_test_split(X_resampled, y_resampled, test_size=0.2, random_state=42)\n",
        "\n",
        "y_train = to_categorical(y_train, num_classes=5)\n",
        "y_test = to_categorical(y_test, num_classes=5)"
      ]
    },
    {
      "cell_type": "code",
      "execution_count": null,
      "metadata": {
        "id": "QYgZu0fCJQ5Y"
      },
      "outputs": [],
      "source": [
        "from keras.layers import Embedding,Conv1D,LSTM,Input,TimeDistributed,SpatialDropout1D,Flatten,Dropout, Bidirectional\n",
        "\n",
        "model_lstm = Sequential()\n",
        "model_lstm.add(LSTM(256, return_sequences=True))\n",
        "model_lstm.add(LSTM(128, return_sequences=True))\n",
        "model_lstm.add(Dense(8,activation='sigmoid'))\n",
        "model_lstm.add(Dense(1,activation='sigmoid'))\n",
        "\n",
        "\n",
        "model_lstm.compile(optimizer=Adam(lr=0.001),\n",
        "              loss = 'categorical_crossentropy',\n",
        "              metrics=['accuracy', 'mse', f1_m,precision_m, recall_m],\n",
        "              weighted_metrics=['accuracy', 'mse', f1_m,precision_m, recall_m])\n",
        "\n",
        "model_lstm.fit(X_train, y_train, epochs = 150, validation_data=(X_test,y_test), batch_size = 128)"
      ]
    },
    {
      "cell_type": "code",
      "execution_count": null,
      "metadata": {
        "id": "s1_7rBTx0uFL"
      },
      "outputs": [],
      "source": [
        "model_save_name = 'LSTM_Model_Thermal_Comfort_1.pt'\n",
        "path = f\"/content/drive/MyDrive/WPI/Deep Learning/Project/Models Trained/ Thermal_Comfort/{model_save_name}\" \n",
        "model.save(path)"
      ]
    },
    {
      "cell_type": "code",
      "execution_count": null,
      "metadata": {
        "id": "lA0fSCbSc5vn"
      },
      "outputs": [],
      "source": [
        "from keras.layers import Embedding,Conv1D,LSTM,Input,TimeDistributed,SpatialDropout1D,Flatten,Dropout, Bidirectional\n",
        "\n",
        "model=Sequential()\n",
        "x_train = X_train.values.reshape(X_train.shape[0], X_train.shape[1],-1)\n",
        "model.add(LSTM(256, return_sequences=True, input_shape=(18,1)))\n",
        "model.add(LSTM(128, return_sequences=True))\n",
        "model.add(Dense(128,activation='relu'))\n",
        "model.add(Dense(64,activation='relu'))\n",
        "model.add(Dense(32,activation='relu'))\n",
        "model.add(Dense(16,activation='relu'))\n",
        "model.add(Dense(8,activation='relu'))\n",
        "model.add(Dense(1,activation='sigmoid'))\n",
        "\n",
        "model.compile(optimizer=Adam(lr=0.001),\n",
        "              loss = tf.keras.losses.MeanSquaredError() ,\n",
        "              metrics=['accuracy', 'mse', f1_m,precision_m, recall_m],\n",
        "              weighted_metrics=['accuracy', 'mse', f1_m,precision_m, recall_m])\n",
        "  \n",
        "model.fit(x_train, y_train, epochs = 150, validation_data=(X_valid,y_valid), batch_size = 64)"
      ]
    },
    {
      "cell_type": "code",
      "execution_count": null,
      "metadata": {
        "id": "ny5QtypGdtUb"
      },
      "outputs": [],
      "source": [
        "model_save_name = 'LSTM_Model_Thermal_Comfort.pt'\n",
        "path = f\"/content/drive/MyDrive/WPI/Deep Learning/Project/Models Trained/ Thermal_Comfort/{model_save_name}\" \n",
        "model.save(path)"
      ]
    },
    {
      "cell_type": "markdown",
      "metadata": {
        "id": "DwLLZCch1suQ"
      },
      "source": [
        "### bi_LSTM"
      ]
    },
    {
      "cell_type": "code",
      "execution_count": null,
      "metadata": {
        "id": "uPLB_B9o1tF6"
      },
      "outputs": [],
      "source": [
        "from keras.layers import Bidirectional\n",
        "from keras.layers import Dense, Input, LSTM, Dropout, Bidirectional, Embedding, Flatten\n",
        "\n",
        "model=Sequential()\n",
        "x_train = X_train.values.reshape(X_train.shape[0], X_train.shape[1],-1)\n",
        "model.add(Bidirectional(LSTM(256,return_sequences=True, input_shape=(18,1))))\n",
        "model.add(LSTM(256,return_sequences=True))\n",
        "model.add(Dense(64,activation='relu'))\n",
        "model.add(Dense(32,activation='relu'))\n",
        "model.add(Dense(16,activation='relu'))\n",
        "model.add(Dense(8,activation='relu'))\n",
        "model.add(Dense(1,activation='softmax'))\n",
        "\n",
        "model.compile(optimizer=Adam(lr=0.001),\n",
        "              loss = tf.keras.losses.MeanSquaredError() ,\n",
        "              metrics=['accuracy', 'mse', f1_m,precision_m, recall_m],\n",
        "              weighted_metrics=['accuracy', 'mse', f1_m,precision_m, recall_m])\n",
        "  \n",
        "model.fit(x_train, y_train, validation_data=(X_valid,y_valid), epochs = 100,  batch_size = 235)"
      ]
    },
    {
      "cell_type": "code",
      "execution_count": null,
      "metadata": {
        "id": "XsSoJmfoPqhx"
      },
      "outputs": [],
      "source": [
        "model_save_name = 'Bi_LSTM_Model_Thermal_Comfort.pt'\n",
        "path = f\"/content/drive/MyDrive/WPI/Deep Learning/Project/Models Trained/ Thermal_Comfort/{model_save_name}\" \n",
        "model.save(path)"
      ]
    },
    {
      "cell_type": "markdown",
      "metadata": {
        "id": "9_-OkyAh1igm"
      },
      "source": [
        "### LSTM-CNN"
      ]
    },
    {
      "cell_type": "code",
      "execution_count": null,
      "metadata": {
        "id": "XrwOaS1BQP3c"
      },
      "outputs": [],
      "source": [
        "  y_train=np.asarray(y_train ,dtype=int)\n",
        "  y_train=to_categorical(y_train,num_classes=5)\n",
        "  X_train=X_train.reshape(X_train.shape[0],X_train.shape[1],-1)\n",
        "\n",
        "  model=Sequential()\n",
        "  model.add(Conv1D(filters=128,kernel_size=5,padding='same',input_shape=(X_train.shape[1],X_train.shape[2])))\n",
        "  model.add(SpatialDropout1D(0.1))\n",
        "  model.add(LSTM(256,return_sequences=True))\n",
        "  model.add(LSTM(256,return_sequences=True))\n",
        "  model.add(Flatten())\n",
        "  model.add(Dense(64,activation='relu'))\n",
        "  model.add(Dense(32,activation='relu'))\n",
        "  model.add(Dense(16,activation='relu'))\n",
        "  model.add(Dense(8,activation='relu'))\n",
        "  model.add(Dense(5,activation='softmax'))\n",
        "  \n",
        "  model.compile(loss='categorical_crossentropy',optimizer=Adam(lr=0.001),metrics=['accuracy'],weighted_metrics=['accuracy'])\n",
        "  \n",
        "  checkpoint_filepath = '/tmp/checkpoint'\n",
        "  \n",
        "  es=ModelCheckpoint(filepath=checkpoint_filepath,monitor='val_accuracy',save_best_only=True,mode='max',save_weights_only=True)\n",
        "  model.fit(X_train,y_train,epochs=100,validation_split=0.2,batch_size=64,callbacks=[es],class_weight=weight_dicts)"
      ]
    },
    {
      "cell_type": "code",
      "execution_count": null,
      "metadata": {
        "id": "gYitBNII055B"
      },
      "outputs": [],
      "source": [
        "model_save_name = 'LSTM_CNN_Model_Thermal_Comfort.pt'\n",
        "path = f\"/content/drive/MyDrive/WPI/Deep Learning/Project/Models Trained/ Thermal_Comfort/{model_save_name}\" \n",
        "model.save(path)"
      ]
    },
    {
      "cell_type": "markdown",
      "metadata": {
        "id": "1-UBjkY9QRG8"
      },
      "source": [
        "## Transfer Learning"
      ]
    },
    {
      "cell_type": "code",
      "execution_count": null,
      "metadata": {
        "id": "nngZNJAJRvw5"
      },
      "outputs": [],
      "source": [
        "model=Sequential()\n",
        "X_train1=X_train_temp.reshape(X_train_temp.shape[0],X_train_temp.shape[1],-1)\n",
        "model.add(LSTM(256,return_sequences=True,input_shape=(X_train1.shape[1],X_train1.shape[2])))\n",
        "model.add(LSTM(256,return_sequences=True))\n",
        "model.add(Flatten())\n",
        "model.add(Dense(64,activation='relu'))\n",
        "model.add(Dense(32,activation='relu'))\n",
        "model.add(Dense(16,activation='relu'))\n",
        "model.add(Dense(8,activation='relu'))\n",
        "model.add(Dense(5,activation='softmax'))\n",
        "\n",
        "\n",
        "model.layers[-1].set_weights(weights)\n",
        "model.layers[-1].trainable=False\n",
        "\n",
        "\n",
        "X_t1,X_t2,y_t1,y_t2=train_test_split(X_test,y_test,test_size=0.1,random_state=2)\n",
        "\n",
        "X_t=X_t1.values\n",
        "X_t=X_t.reshape(X_t.shape[0],X_t.shape[1],-1)\n",
        "\n",
        "#Target domain DL model\n",
        "model.compile(loss='sparse_categorical_crossentropy',optimizer=Adam(lr=0.001),metrics=['accuracy'],weighted_metrics=['accuracy'])\n",
        "checkpoint_filepath = '/tmp/checkpoint'\n",
        "es=ModelCheckpoint(filepath=checkpoint_filepath,monitor='val_accuracy',save_best_only=True,mode='max',save_weights_only=True)\n",
        "model.fit(X_t,y_t1,epochs=100,validation_split=0.2,batch_size=64,callbacks=[es])\n",
        "model.load_weights(checkpoint_filepath)"
      ]
    }
  ],
  "metadata": {
    "accelerator": "GPU",
    "colab": {
      "provenance": [],
      "toc_visible": true
    },
    "gpuClass": "standard",
    "kernelspec": {
      "display_name": "Python 3",
      "language": "python",
      "name": "python3"
    },
    "language_info": {
      "name": "python",
      "version": "3.10.8 (main, Oct 13 2022, 10:17:43) [Clang 14.0.0 (clang-1400.0.29.102)]"
    },
    "vscode": {
      "interpreter": {
        "hash": "aee8b7b246df8f9039afb4144a1f6fd8d2ca17a180786b69acc140d282b71a49"
      }
    }
  },
  "nbformat": 4,
  "nbformat_minor": 0
}
